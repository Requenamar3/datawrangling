{
  "nbformat": 4,
  "nbformat_minor": 0,
  "metadata": {
    "colab": {
      "provenance": [],
      "toc_visible": true,
      "authorship_tag": "ABX9TyNnn2kIz+e9TS0lieqaxDJ2",
      "include_colab_link": true
    },
    "kernelspec": {
      "name": "python3",
      "display_name": "Python 3"
    },
    "language_info": {
      "name": "python"
    }
  },
  "cells": [
    {
      "cell_type": "markdown",
      "metadata": {
        "id": "view-in-github",
        "colab_type": "text"
      },
      "source": [
        "<a href=\"https://colab.research.google.com/github/Requenamar3/datawrangling/blob/main/UFOs_in_USA_v2.ipynb\" target=\"_parent\"><img src=\"https://colab.research.google.com/assets/colab-badge.svg\" alt=\"Open In Colab\"/></a>"
      ]
    },
    {
      "cell_type": "markdown",
      "source": [
        "#**Project overview**\n",
        "**Objectives**\n",
        "* Uncover patterns, trends, and anomalies in UFO sigthting accross differnet states in USA over the years\n",
        "* Explore how these sightings correlate with external factors such as population density and the presence of military bases\n",
        "\n"
      ],
      "metadata": {
        "id": "_3aygSdba9Ob"
      }
    },
    {
      "cell_type": "markdown",
      "source": [
        "#**Dataset Description**\n",
        "\n",
        "*   This project utilizes a dataset from kaggle https://www.kaggle.com/code/abigaillarion/ufo-reports-in-united-states/input , which compiles reported UFO sightings in the world The dataset includes information on the date and time of sightings, locations (city, state), the shape of the observed phenomena, duration of the sighting, and a brief description of the event.\n",
        "\n",
        "\n"
      ],
      "metadata": {
        "id": "3HU5wHFbiNb-"
      }
    },
    {
      "cell_type": "markdown",
      "source": [
        "#**Structure Analisis**"
      ],
      "metadata": {
        "id": "ENKxSnikenu8"
      }
    },
    {
      "cell_type": "code",
      "execution_count": null,
      "metadata": {
        "id": "2jAcv70ogjQ4"
      },
      "outputs": [],
      "source": [
        "import pandas as pd\n",
        "import numpy as np\n",
        "from datetime import datetime"
      ]
    },
    {
      "cell_type": "code",
      "source": [
        "UFOs = pd.read_csv(\"https://raw.githubusercontent.com/Requenamar3/datawrangling/main/UFO's%20in%20USA.csv\")\n",
        "UFOs.head()"
      ],
      "metadata": {
        "colab": {
          "base_uri": "https://localhost:8080/",
          "height": 241
        },
        "id": "djJEK-4fhPve",
        "outputId": "f8bb777e-3fa0-4db8-ebb4-531b6d9471d0"
      },
      "execution_count": null,
      "outputs": [
        {
          "output_type": "stream",
          "name": "stderr",
          "text": [
            "<ipython-input-186-2f26b599cae6>:1: DtypeWarning: Columns (5,9) have mixed types. Specify dtype option on import or set low_memory=False.\n",
            "  UFOs = pd.read_csv(\"https://raw.githubusercontent.com/Requenamar3/datawrangling/main/UFO's%20in%20USA.csv\")\n"
          ]
        },
        {
          "output_type": "execute_result",
          "data": {
            "text/plain": [
              "           datetime city state country shape duration (seconds)  \\\n",
              "0   10/1/2006 12:00  NaN   NaN     NaN     0                NaN   \n",
              "1  10/14/2004 13:00  NaN   NaN     NaN     0                NaN   \n",
              "2  10/14/2011 22:30  NaN    nv     NaN     0              light   \n",
              "3  10/17/2008 20:30  NaN    tx     NaN     0               oval   \n",
              "4  10/20/2013 18:30  NaN    ct     NaN     0                egg   \n",
              "\n",
              "  duration (hours/min)                                           comments  \\\n",
              "0                  NaN  ((EDITORIAL COMMENT ABOUT THE UFO PHENOMEN))  ...   \n",
              "1                  NaN  With all the guns in this country...why hasn&#...   \n",
              "2                   22                                     3 Green lights   \n",
              "3            5 minutes  An oval shaped object  in a photograph.  ((NUF...   \n",
              "4              2 hours  Bright light visible in W sky for long periods...   \n",
              "\n",
              "  date posted latitude  longitude  \n",
              "0  10/30/2006        0        0.0  \n",
              "1  10/27/2004        0        0.0  \n",
              "2  10/19/2011        0        0.0  \n",
              "3  10/31/2008        0        0.0  \n",
              "4  11/11/2013        0        0.0  "
            ],
            "text/html": [
              "\n",
              "  <div id=\"df-05c28bdb-3e1a-4307-8f41-12bbb8ab06a2\" class=\"colab-df-container\">\n",
              "    <div>\n",
              "<style scoped>\n",
              "    .dataframe tbody tr th:only-of-type {\n",
              "        vertical-align: middle;\n",
              "    }\n",
              "\n",
              "    .dataframe tbody tr th {\n",
              "        vertical-align: top;\n",
              "    }\n",
              "\n",
              "    .dataframe thead th {\n",
              "        text-align: right;\n",
              "    }\n",
              "</style>\n",
              "<table border=\"1\" class=\"dataframe\">\n",
              "  <thead>\n",
              "    <tr style=\"text-align: right;\">\n",
              "      <th></th>\n",
              "      <th>datetime</th>\n",
              "      <th>city</th>\n",
              "      <th>state</th>\n",
              "      <th>country</th>\n",
              "      <th>shape</th>\n",
              "      <th>duration (seconds)</th>\n",
              "      <th>duration (hours/min)</th>\n",
              "      <th>comments</th>\n",
              "      <th>date posted</th>\n",
              "      <th>latitude</th>\n",
              "      <th>longitude</th>\n",
              "    </tr>\n",
              "  </thead>\n",
              "  <tbody>\n",
              "    <tr>\n",
              "      <th>0</th>\n",
              "      <td>10/1/2006 12:00</td>\n",
              "      <td>NaN</td>\n",
              "      <td>NaN</td>\n",
              "      <td>NaN</td>\n",
              "      <td>0</td>\n",
              "      <td>NaN</td>\n",
              "      <td>NaN</td>\n",
              "      <td>((EDITORIAL COMMENT ABOUT THE UFO PHENOMEN))  ...</td>\n",
              "      <td>10/30/2006</td>\n",
              "      <td>0</td>\n",
              "      <td>0.0</td>\n",
              "    </tr>\n",
              "    <tr>\n",
              "      <th>1</th>\n",
              "      <td>10/14/2004 13:00</td>\n",
              "      <td>NaN</td>\n",
              "      <td>NaN</td>\n",
              "      <td>NaN</td>\n",
              "      <td>0</td>\n",
              "      <td>NaN</td>\n",
              "      <td>NaN</td>\n",
              "      <td>With all the guns in this country...why hasn&amp;#...</td>\n",
              "      <td>10/27/2004</td>\n",
              "      <td>0</td>\n",
              "      <td>0.0</td>\n",
              "    </tr>\n",
              "    <tr>\n",
              "      <th>2</th>\n",
              "      <td>10/14/2011 22:30</td>\n",
              "      <td>NaN</td>\n",
              "      <td>nv</td>\n",
              "      <td>NaN</td>\n",
              "      <td>0</td>\n",
              "      <td>light</td>\n",
              "      <td>22</td>\n",
              "      <td>3 Green lights</td>\n",
              "      <td>10/19/2011</td>\n",
              "      <td>0</td>\n",
              "      <td>0.0</td>\n",
              "    </tr>\n",
              "    <tr>\n",
              "      <th>3</th>\n",
              "      <td>10/17/2008 20:30</td>\n",
              "      <td>NaN</td>\n",
              "      <td>tx</td>\n",
              "      <td>NaN</td>\n",
              "      <td>0</td>\n",
              "      <td>oval</td>\n",
              "      <td>5 minutes</td>\n",
              "      <td>An oval shaped object  in a photograph.  ((NUF...</td>\n",
              "      <td>10/31/2008</td>\n",
              "      <td>0</td>\n",
              "      <td>0.0</td>\n",
              "    </tr>\n",
              "    <tr>\n",
              "      <th>4</th>\n",
              "      <td>10/20/2013 18:30</td>\n",
              "      <td>NaN</td>\n",
              "      <td>ct</td>\n",
              "      <td>NaN</td>\n",
              "      <td>0</td>\n",
              "      <td>egg</td>\n",
              "      <td>2 hours</td>\n",
              "      <td>Bright light visible in W sky for long periods...</td>\n",
              "      <td>11/11/2013</td>\n",
              "      <td>0</td>\n",
              "      <td>0.0</td>\n",
              "    </tr>\n",
              "  </tbody>\n",
              "</table>\n",
              "</div>\n",
              "    <div class=\"colab-df-buttons\">\n",
              "\n",
              "  <div class=\"colab-df-container\">\n",
              "    <button class=\"colab-df-convert\" onclick=\"convertToInteractive('df-05c28bdb-3e1a-4307-8f41-12bbb8ab06a2')\"\n",
              "            title=\"Convert this dataframe to an interactive table.\"\n",
              "            style=\"display:none;\">\n",
              "\n",
              "  <svg xmlns=\"http://www.w3.org/2000/svg\" height=\"24px\" viewBox=\"0 -960 960 960\">\n",
              "    <path d=\"M120-120v-720h720v720H120Zm60-500h600v-160H180v160Zm220 220h160v-160H400v160Zm0 220h160v-160H400v160ZM180-400h160v-160H180v160Zm440 0h160v-160H620v160ZM180-180h160v-160H180v160Zm440 0h160v-160H620v160Z\"/>\n",
              "  </svg>\n",
              "    </button>\n",
              "\n",
              "  <style>\n",
              "    .colab-df-container {\n",
              "      display:flex;\n",
              "      gap: 12px;\n",
              "    }\n",
              "\n",
              "    .colab-df-convert {\n",
              "      background-color: #E8F0FE;\n",
              "      border: none;\n",
              "      border-radius: 50%;\n",
              "      cursor: pointer;\n",
              "      display: none;\n",
              "      fill: #1967D2;\n",
              "      height: 32px;\n",
              "      padding: 0 0 0 0;\n",
              "      width: 32px;\n",
              "    }\n",
              "\n",
              "    .colab-df-convert:hover {\n",
              "      background-color: #E2EBFA;\n",
              "      box-shadow: 0px 1px 2px rgba(60, 64, 67, 0.3), 0px 1px 3px 1px rgba(60, 64, 67, 0.15);\n",
              "      fill: #174EA6;\n",
              "    }\n",
              "\n",
              "    .colab-df-buttons div {\n",
              "      margin-bottom: 4px;\n",
              "    }\n",
              "\n",
              "    [theme=dark] .colab-df-convert {\n",
              "      background-color: #3B4455;\n",
              "      fill: #D2E3FC;\n",
              "    }\n",
              "\n",
              "    [theme=dark] .colab-df-convert:hover {\n",
              "      background-color: #434B5C;\n",
              "      box-shadow: 0px 1px 3px 1px rgba(0, 0, 0, 0.15);\n",
              "      filter: drop-shadow(0px 1px 2px rgba(0, 0, 0, 0.3));\n",
              "      fill: #FFFFFF;\n",
              "    }\n",
              "  </style>\n",
              "\n",
              "    <script>\n",
              "      const buttonEl =\n",
              "        document.querySelector('#df-05c28bdb-3e1a-4307-8f41-12bbb8ab06a2 button.colab-df-convert');\n",
              "      buttonEl.style.display =\n",
              "        google.colab.kernel.accessAllowed ? 'block' : 'none';\n",
              "\n",
              "      async function convertToInteractive(key) {\n",
              "        const element = document.querySelector('#df-05c28bdb-3e1a-4307-8f41-12bbb8ab06a2');\n",
              "        const dataTable =\n",
              "          await google.colab.kernel.invokeFunction('convertToInteractive',\n",
              "                                                    [key], {});\n",
              "        if (!dataTable) return;\n",
              "\n",
              "        const docLinkHtml = 'Like what you see? Visit the ' +\n",
              "          '<a target=\"_blank\" href=https://colab.research.google.com/notebooks/data_table.ipynb>data table notebook</a>'\n",
              "          + ' to learn more about interactive tables.';\n",
              "        element.innerHTML = '';\n",
              "        dataTable['output_type'] = 'display_data';\n",
              "        await google.colab.output.renderOutput(dataTable, element);\n",
              "        const docLink = document.createElement('div');\n",
              "        docLink.innerHTML = docLinkHtml;\n",
              "        element.appendChild(docLink);\n",
              "      }\n",
              "    </script>\n",
              "  </div>\n",
              "\n",
              "\n",
              "<div id=\"df-a2f097ed-7bdf-4979-98cf-ae300d82efbc\">\n",
              "  <button class=\"colab-df-quickchart\" onclick=\"quickchart('df-a2f097ed-7bdf-4979-98cf-ae300d82efbc')\"\n",
              "            title=\"Suggest charts\"\n",
              "            style=\"display:none;\">\n",
              "\n",
              "<svg xmlns=\"http://www.w3.org/2000/svg\" height=\"24px\"viewBox=\"0 0 24 24\"\n",
              "     width=\"24px\">\n",
              "    <g>\n",
              "        <path d=\"M19 3H5c-1.1 0-2 .9-2 2v14c0 1.1.9 2 2 2h14c1.1 0 2-.9 2-2V5c0-1.1-.9-2-2-2zM9 17H7v-7h2v7zm4 0h-2V7h2v10zm4 0h-2v-4h2v4z\"/>\n",
              "    </g>\n",
              "</svg>\n",
              "  </button>\n",
              "\n",
              "<style>\n",
              "  .colab-df-quickchart {\n",
              "      --bg-color: #E8F0FE;\n",
              "      --fill-color: #1967D2;\n",
              "      --hover-bg-color: #E2EBFA;\n",
              "      --hover-fill-color: #174EA6;\n",
              "      --disabled-fill-color: #AAA;\n",
              "      --disabled-bg-color: #DDD;\n",
              "  }\n",
              "\n",
              "  [theme=dark] .colab-df-quickchart {\n",
              "      --bg-color: #3B4455;\n",
              "      --fill-color: #D2E3FC;\n",
              "      --hover-bg-color: #434B5C;\n",
              "      --hover-fill-color: #FFFFFF;\n",
              "      --disabled-bg-color: #3B4455;\n",
              "      --disabled-fill-color: #666;\n",
              "  }\n",
              "\n",
              "  .colab-df-quickchart {\n",
              "    background-color: var(--bg-color);\n",
              "    border: none;\n",
              "    border-radius: 50%;\n",
              "    cursor: pointer;\n",
              "    display: none;\n",
              "    fill: var(--fill-color);\n",
              "    height: 32px;\n",
              "    padding: 0;\n",
              "    width: 32px;\n",
              "  }\n",
              "\n",
              "  .colab-df-quickchart:hover {\n",
              "    background-color: var(--hover-bg-color);\n",
              "    box-shadow: 0 1px 2px rgba(60, 64, 67, 0.3), 0 1px 3px 1px rgba(60, 64, 67, 0.15);\n",
              "    fill: var(--button-hover-fill-color);\n",
              "  }\n",
              "\n",
              "  .colab-df-quickchart-complete:disabled,\n",
              "  .colab-df-quickchart-complete:disabled:hover {\n",
              "    background-color: var(--disabled-bg-color);\n",
              "    fill: var(--disabled-fill-color);\n",
              "    box-shadow: none;\n",
              "  }\n",
              "\n",
              "  .colab-df-spinner {\n",
              "    border: 2px solid var(--fill-color);\n",
              "    border-color: transparent;\n",
              "    border-bottom-color: var(--fill-color);\n",
              "    animation:\n",
              "      spin 1s steps(1) infinite;\n",
              "  }\n",
              "\n",
              "  @keyframes spin {\n",
              "    0% {\n",
              "      border-color: transparent;\n",
              "      border-bottom-color: var(--fill-color);\n",
              "      border-left-color: var(--fill-color);\n",
              "    }\n",
              "    20% {\n",
              "      border-color: transparent;\n",
              "      border-left-color: var(--fill-color);\n",
              "      border-top-color: var(--fill-color);\n",
              "    }\n",
              "    30% {\n",
              "      border-color: transparent;\n",
              "      border-left-color: var(--fill-color);\n",
              "      border-top-color: var(--fill-color);\n",
              "      border-right-color: var(--fill-color);\n",
              "    }\n",
              "    40% {\n",
              "      border-color: transparent;\n",
              "      border-right-color: var(--fill-color);\n",
              "      border-top-color: var(--fill-color);\n",
              "    }\n",
              "    60% {\n",
              "      border-color: transparent;\n",
              "      border-right-color: var(--fill-color);\n",
              "    }\n",
              "    80% {\n",
              "      border-color: transparent;\n",
              "      border-right-color: var(--fill-color);\n",
              "      border-bottom-color: var(--fill-color);\n",
              "    }\n",
              "    90% {\n",
              "      border-color: transparent;\n",
              "      border-bottom-color: var(--fill-color);\n",
              "    }\n",
              "  }\n",
              "</style>\n",
              "\n",
              "  <script>\n",
              "    async function quickchart(key) {\n",
              "      const quickchartButtonEl =\n",
              "        document.querySelector('#' + key + ' button');\n",
              "      quickchartButtonEl.disabled = true;  // To prevent multiple clicks.\n",
              "      quickchartButtonEl.classList.add('colab-df-spinner');\n",
              "      try {\n",
              "        const charts = await google.colab.kernel.invokeFunction(\n",
              "            'suggestCharts', [key], {});\n",
              "      } catch (error) {\n",
              "        console.error('Error during call to suggestCharts:', error);\n",
              "      }\n",
              "      quickchartButtonEl.classList.remove('colab-df-spinner');\n",
              "      quickchartButtonEl.classList.add('colab-df-quickchart-complete');\n",
              "    }\n",
              "    (() => {\n",
              "      let quickchartButtonEl =\n",
              "        document.querySelector('#df-a2f097ed-7bdf-4979-98cf-ae300d82efbc button');\n",
              "      quickchartButtonEl.style.display =\n",
              "        google.colab.kernel.accessAllowed ? 'block' : 'none';\n",
              "    })();\n",
              "  </script>\n",
              "</div>\n",
              "    </div>\n",
              "  </div>\n"
            ]
          },
          "metadata": {},
          "execution_count": 186
        }
      ]
    },
    {
      "cell_type": "code",
      "source": [
        "UFOs.info(verbose=True, memory_usage=\"deep\",show_counts=True)"
      ],
      "metadata": {
        "colab": {
          "base_uri": "https://localhost:8080/"
        },
        "id": "MUgCKhreheLV",
        "outputId": "c48a9b52-73f5-472d-8465-99cb28ad9bfb"
      },
      "execution_count": null,
      "outputs": [
        {
          "output_type": "stream",
          "name": "stdout",
          "text": [
            "<class 'pandas.core.frame.DataFrame'>\n",
            "RangeIndex: 88875 entries, 0 to 88874\n",
            "Data columns (total 11 columns):\n",
            " #   Column                Non-Null Count  Dtype  \n",
            "---  ------                --------------  -----  \n",
            " 0   datetime              88875 non-null  object \n",
            " 1   city                  88679 non-null  object \n",
            " 2   state                 81356 non-null  object \n",
            " 3   country               76314 non-null  object \n",
            " 4   shape                 85953 non-null  object \n",
            " 5   duration (seconds)    88789 non-null  object \n",
            " 6   duration (hours/min)  85765 non-null  object \n",
            " 7   comments              88840 non-null  object \n",
            " 8   date posted           88875 non-null  object \n",
            " 9   latitude              88875 non-null  object \n",
            " 10  longitude             88875 non-null  float64\n",
            "dtypes: float64(1), object(10)\n",
            "memory usage: 59.5 MB\n"
          ]
        }
      ]
    },
    {
      "cell_type": "code",
      "source": [
        "#unique value counts\n",
        "UFOs.nunique()"
      ],
      "metadata": {
        "colab": {
          "base_uri": "https://localhost:8080/"
        },
        "id": "tyjAuhZjiTvg",
        "outputId": "c38b00c5-24ba-4577-c339-dce4a4dd39b9"
      },
      "execution_count": null,
      "outputs": [
        {
          "output_type": "execute_result",
          "data": {
            "text/plain": [
              "datetime                76305\n",
              "city                    22018\n",
              "state                      68\n",
              "country                     5\n",
              "shape                      30\n",
              "duration (seconds)        749\n",
              "duration (hours/min)     9713\n",
              "comments                88478\n",
              "date posted               317\n",
              "latitude                25424\n",
              "longitude               20549\n",
              "dtype: int64"
            ]
          },
          "metadata": {},
          "execution_count": 163
        }
      ]
    },
    {
      "cell_type": "code",
      "source": [
        "UFOs.city.value_counts(normalize=True).head(5)"
      ],
      "metadata": {
        "colab": {
          "base_uri": "https://localhost:8080/"
        },
        "id": "2kA0TnmerEG_",
        "outputId": "24b9252b-4af4-4956-8d9b-9555ce9b2f4a"
      },
      "execution_count": null,
      "outputs": [
        {
          "output_type": "execute_result",
          "data": {
            "text/plain": [
              "seattle        0.006428\n",
              "phoenix        0.005503\n",
              "portland       0.004499\n",
              "las vegas      0.004454\n",
              "los angeles    0.004229\n",
              "Name: city, dtype: float64"
            ]
          },
          "metadata": {},
          "execution_count": 165
        }
      ]
    },
    {
      "cell_type": "code",
      "source": [
        "UFOs.state.value_counts(5)"
      ],
      "metadata": {
        "id": "9Wo56aaLrELu",
        "colab": {
          "base_uri": "https://localhost:8080/"
        },
        "outputId": "09e9b3c5-ebd0-4b03-860c-32ae5c9ee0a1"
      },
      "execution_count": null,
      "outputs": [
        {
          "output_type": "execute_result",
          "data": {
            "text/plain": [
              "ca    0.128448\n",
              "wa    0.057193\n",
              "fl    0.056517\n",
              "tx    0.049781\n",
              "ny    0.043156\n",
              "        ...   \n",
              "nt    0.000283\n",
              "pe    0.000283\n",
              "yt    0.000172\n",
              "yk    0.000086\n",
              "vi    0.000012\n",
              "Name: state, Length: 68, dtype: float64"
            ]
          },
          "metadata": {},
          "execution_count": 166
        }
      ]
    },
    {
      "cell_type": "code",
      "source": [
        "UFOs[['state','city']].value_counts()"
      ],
      "metadata": {
        "id": "JmFkQyj5rERA",
        "colab": {
          "base_uri": "https://localhost:8080/"
        },
        "outputId": "90b8545b-3f6f-44f6-f3ad-c307e50992b6"
      },
      "execution_count": null,
      "outputs": [
        {
          "output_type": "execute_result",
          "data": {
            "text/plain": [
              "state  city                            \n",
              "wa     seattle                             568\n",
              "az     phoenix                             484\n",
              "nv     las vegas                           389\n",
              "ca     los angeles                         372\n",
              "       san diego                           358\n",
              "                                          ... \n",
              "me     south china (three mile pond)         1\n",
              "       south hiram                           1\n",
              "       springvale                            1\n",
              "       st. george                            1\n",
              "yt     yukon territory (rural) (canada)      1\n",
              "Length: 22322, dtype: int64"
            ]
          },
          "metadata": {},
          "execution_count": 167
        }
      ]
    },
    {
      "cell_type": "code",
      "source": [
        "UFOs.apply(pd.unique)"
      ],
      "metadata": {
        "colab": {
          "base_uri": "https://localhost:8080/"
        },
        "id": "Ko0GZ8o7rED-",
        "outputId": "186ca1f5-e11e-4755-c732-49e53a5b73cc"
      },
      "execution_count": null,
      "outputs": [
        {
          "output_type": "execute_result",
          "data": {
            "text/plain": [
              "datetime                [10/1/2006 12:00, 10/14/2004 13:00, 10/14/2011...\n",
              "city                    [nan, san marcos, lackland afb, chester (uk/en...\n",
              "state                   [nan, nv, tx, ct, sd, ny, mi, oh, mo, mt, co, ...\n",
              "country                                         [nan, us, gb, ca, au, de]\n",
              "shape                   [0, cylinder, light, circle, sphere, disk, fir...\n",
              "duration (seconds)      [nan, light, oval, egg, sphere, fireball, disk...\n",
              "duration (hours/min)    [nan, 22, 5 minutes, 2 hours, 30sec, night, 15...\n",
              "comments                [((EDITORIAL COMMENT ABOUT THE UFO PHENOMEN)) ...\n",
              "date posted             [10/30/2006, 10/27/2004, 10/19/2011, 10/31/200...\n",
              "latitude                [0, 29.8830556, 29.38421, 53.2, 28.9783333, 21...\n",
              "longitude               [0.0, -97.9411111, -98.581082, -2.916667, -96....\n",
              "dtype: object"
            ]
          },
          "metadata": {},
          "execution_count": 168
        }
      ]
    },
    {
      "cell_type": "code",
      "source": [
        "UFOs.country.unique()"
      ],
      "metadata": {
        "id": "dMdTmozCrETX",
        "colab": {
          "base_uri": "https://localhost:8080/"
        },
        "outputId": "f438c51f-3add-456e-a51e-61ed1b6fb91f"
      },
      "execution_count": null,
      "outputs": [
        {
          "output_type": "execute_result",
          "data": {
            "text/plain": [
              "array([nan, 'us', 'gb', 'ca', 'au', 'de'], dtype=object)"
            ]
          },
          "metadata": {},
          "execution_count": 169
        }
      ]
    },
    {
      "cell_type": "code",
      "source": [
        "#showed each country's share of the total counts of UFO sightings.\n",
        "UFOs.country.value_counts(normalize=True).head(7)"
      ],
      "metadata": {
        "colab": {
          "base_uri": "https://localhost:8080/"
        },
        "id": "a3MuTfjdcLgK",
        "outputId": "e0689fbd-b260-46ef-a1ff-79efedc0623c"
      },
      "execution_count": null,
      "outputs": [
        {
          "output_type": "execute_result",
          "data": {
            "text/plain": [
              "us    0.921102\n",
              "ca    0.042797\n",
              "gb    0.026863\n",
              "au    0.007771\n",
              "de    0.001468\n",
              "Name: country, dtype: float64"
            ]
          },
          "metadata": {},
          "execution_count": 170
        }
      ]
    },
    {
      "cell_type": "code",
      "source": [
        "#same as above\n",
        "UFOs.country.value_counts(5)"
      ],
      "metadata": {
        "id": "o-3WqBZXrEVy",
        "colab": {
          "base_uri": "https://localhost:8080/"
        },
        "outputId": "e4b4960b-f162-48db-a31f-eca0c01ce10a"
      },
      "execution_count": null,
      "outputs": [
        {
          "output_type": "execute_result",
          "data": {
            "text/plain": [
              "us    0.921102\n",
              "ca    0.042797\n",
              "gb    0.026863\n",
              "au    0.007771\n",
              "de    0.001468\n",
              "Name: country, dtype: float64"
            ]
          },
          "metadata": {},
          "execution_count": 171
        }
      ]
    },
    {
      "cell_type": "code",
      "source": [
        "UFOs.head(1)"
      ],
      "metadata": {
        "id": "1OAwV7LSrEOj",
        "colab": {
          "base_uri": "https://localhost:8080/",
          "height": 81
        },
        "outputId": "2cefe15a-1ca7-4f93-bd84-8ad0a5eee309"
      },
      "execution_count": null,
      "outputs": [
        {
          "output_type": "execute_result",
          "data": {
            "text/plain": [
              "          datetime city state country shape duration (seconds)  \\\n",
              "0  10/1/2006 12:00  NaN   NaN     NaN     0                NaN   \n",
              "\n",
              "  duration (hours/min)                                           comments  \\\n",
              "0                  NaN  ((EDITORIAL COMMENT ABOUT THE UFO PHENOMEN))  ...   \n",
              "\n",
              "  date posted latitude  longitude  \n",
              "0  10/30/2006        0        0.0  "
            ],
            "text/html": [
              "\n",
              "  <div id=\"df-95fdd9c3-c68e-4126-b226-af46ad6b0196\" class=\"colab-df-container\">\n",
              "    <div>\n",
              "<style scoped>\n",
              "    .dataframe tbody tr th:only-of-type {\n",
              "        vertical-align: middle;\n",
              "    }\n",
              "\n",
              "    .dataframe tbody tr th {\n",
              "        vertical-align: top;\n",
              "    }\n",
              "\n",
              "    .dataframe thead th {\n",
              "        text-align: right;\n",
              "    }\n",
              "</style>\n",
              "<table border=\"1\" class=\"dataframe\">\n",
              "  <thead>\n",
              "    <tr style=\"text-align: right;\">\n",
              "      <th></th>\n",
              "      <th>datetime</th>\n",
              "      <th>city</th>\n",
              "      <th>state</th>\n",
              "      <th>country</th>\n",
              "      <th>shape</th>\n",
              "      <th>duration (seconds)</th>\n",
              "      <th>duration (hours/min)</th>\n",
              "      <th>comments</th>\n",
              "      <th>date posted</th>\n",
              "      <th>latitude</th>\n",
              "      <th>longitude</th>\n",
              "    </tr>\n",
              "  </thead>\n",
              "  <tbody>\n",
              "    <tr>\n",
              "      <th>0</th>\n",
              "      <td>10/1/2006 12:00</td>\n",
              "      <td>NaN</td>\n",
              "      <td>NaN</td>\n",
              "      <td>NaN</td>\n",
              "      <td>0</td>\n",
              "      <td>NaN</td>\n",
              "      <td>NaN</td>\n",
              "      <td>((EDITORIAL COMMENT ABOUT THE UFO PHENOMEN))  ...</td>\n",
              "      <td>10/30/2006</td>\n",
              "      <td>0</td>\n",
              "      <td>0.0</td>\n",
              "    </tr>\n",
              "  </tbody>\n",
              "</table>\n",
              "</div>\n",
              "    <div class=\"colab-df-buttons\">\n",
              "\n",
              "  <div class=\"colab-df-container\">\n",
              "    <button class=\"colab-df-convert\" onclick=\"convertToInteractive('df-95fdd9c3-c68e-4126-b226-af46ad6b0196')\"\n",
              "            title=\"Convert this dataframe to an interactive table.\"\n",
              "            style=\"display:none;\">\n",
              "\n",
              "  <svg xmlns=\"http://www.w3.org/2000/svg\" height=\"24px\" viewBox=\"0 -960 960 960\">\n",
              "    <path d=\"M120-120v-720h720v720H120Zm60-500h600v-160H180v160Zm220 220h160v-160H400v160Zm0 220h160v-160H400v160ZM180-400h160v-160H180v160Zm440 0h160v-160H620v160ZM180-180h160v-160H180v160Zm440 0h160v-160H620v160Z\"/>\n",
              "  </svg>\n",
              "    </button>\n",
              "\n",
              "  <style>\n",
              "    .colab-df-container {\n",
              "      display:flex;\n",
              "      gap: 12px;\n",
              "    }\n",
              "\n",
              "    .colab-df-convert {\n",
              "      background-color: #E8F0FE;\n",
              "      border: none;\n",
              "      border-radius: 50%;\n",
              "      cursor: pointer;\n",
              "      display: none;\n",
              "      fill: #1967D2;\n",
              "      height: 32px;\n",
              "      padding: 0 0 0 0;\n",
              "      width: 32px;\n",
              "    }\n",
              "\n",
              "    .colab-df-convert:hover {\n",
              "      background-color: #E2EBFA;\n",
              "      box-shadow: 0px 1px 2px rgba(60, 64, 67, 0.3), 0px 1px 3px 1px rgba(60, 64, 67, 0.15);\n",
              "      fill: #174EA6;\n",
              "    }\n",
              "\n",
              "    .colab-df-buttons div {\n",
              "      margin-bottom: 4px;\n",
              "    }\n",
              "\n",
              "    [theme=dark] .colab-df-convert {\n",
              "      background-color: #3B4455;\n",
              "      fill: #D2E3FC;\n",
              "    }\n",
              "\n",
              "    [theme=dark] .colab-df-convert:hover {\n",
              "      background-color: #434B5C;\n",
              "      box-shadow: 0px 1px 3px 1px rgba(0, 0, 0, 0.15);\n",
              "      filter: drop-shadow(0px 1px 2px rgba(0, 0, 0, 0.3));\n",
              "      fill: #FFFFFF;\n",
              "    }\n",
              "  </style>\n",
              "\n",
              "    <script>\n",
              "      const buttonEl =\n",
              "        document.querySelector('#df-95fdd9c3-c68e-4126-b226-af46ad6b0196 button.colab-df-convert');\n",
              "      buttonEl.style.display =\n",
              "        google.colab.kernel.accessAllowed ? 'block' : 'none';\n",
              "\n",
              "      async function convertToInteractive(key) {\n",
              "        const element = document.querySelector('#df-95fdd9c3-c68e-4126-b226-af46ad6b0196');\n",
              "        const dataTable =\n",
              "          await google.colab.kernel.invokeFunction('convertToInteractive',\n",
              "                                                    [key], {});\n",
              "        if (!dataTable) return;\n",
              "\n",
              "        const docLinkHtml = 'Like what you see? Visit the ' +\n",
              "          '<a target=\"_blank\" href=https://colab.research.google.com/notebooks/data_table.ipynb>data table notebook</a>'\n",
              "          + ' to learn more about interactive tables.';\n",
              "        element.innerHTML = '';\n",
              "        dataTable['output_type'] = 'display_data';\n",
              "        await google.colab.output.renderOutput(dataTable, element);\n",
              "        const docLink = document.createElement('div');\n",
              "        docLink.innerHTML = docLinkHtml;\n",
              "        element.appendChild(docLink);\n",
              "      }\n",
              "    </script>\n",
              "  </div>\n",
              "\n",
              "    </div>\n",
              "  </div>\n"
            ]
          },
          "metadata": {},
          "execution_count": 172
        }
      ]
    },
    {
      "cell_type": "markdown",
      "source": [
        "#**Quality Analisis**\n",
        "\n",
        "I used the Profilerteport function to get a quick overview of what the data looks like, its structure, and any obvious issues that need addressing, such as missing values or outliers. The result help me with the features selections."
      ],
      "metadata": {
        "id": "Sq8ssX9hZfTH"
      }
    },
    {
      "cell_type": "markdown",
      "source": [
        "[Link to the data profiling notebook](https://colab.research.google.com/drive/14qBFOG3pb-u3ljsCVZ3JH_B00FKI6VSY#scrollTo=d-a9MD9l3mRa)\n"
      ],
      "metadata": {
        "id": "6xnvXOImXr2K"
      }
    },
    {
      "cell_type": "code",
      "source": [
        "#Drop unused columns\n",
        "UFOs=UFOs.drop(columns=['comments','latitude','date posted','longitude'])"
      ],
      "metadata": {
        "id": "YVCxX6Xha7i1"
      },
      "execution_count": null,
      "outputs": []
    },
    {
      "cell_type": "code",
      "source": [
        "UFOs.country.value_counts(dropna=False)"
      ],
      "metadata": {
        "colab": {
          "base_uri": "https://localhost:8080/"
        },
        "id": "52kyTjMBeaJC",
        "outputId": "7359c1ad-ebd0-456a-bc10-9c19684a628b"
      },
      "execution_count": null,
      "outputs": [
        {
          "output_type": "execute_result",
          "data": {
            "text/plain": [
              "us     70293\n",
              "NaN    12561\n",
              "ca      3266\n",
              "gb      2050\n",
              "au       593\n",
              "de       112\n",
              "Name: country, dtype: int64"
            ]
          },
          "metadata": {},
          "execution_count": 188
        }
      ]
    },
    {
      "cell_type": "code",
      "source": [
        "#Store the rows to be dropped in a new variable\n",
        "dropped_countries_df = UFOs[UFOs['country'].str.lower().isin(['ca', 'gb', 'au', 'de'])]\n",
        "\n",
        "#Drop irrelevant rows. drop all rows for all other countries than US\n",
        "UFOs = UFOs[~UFOs['country'].str.lower().isin(['ca', 'gb', 'au', 'de'])]"
      ],
      "metadata": {
        "id": "djY4heferEYk"
      },
      "execution_count": null,
      "outputs": []
    },
    {
      "cell_type": "code",
      "source": [
        "UFOs.country.value_counts(dropna=False)"
      ],
      "metadata": {
        "colab": {
          "base_uri": "https://localhost:8080/"
        },
        "id": "INa0I6ZtuGBO",
        "outputId": "d78ecefe-8913-4447-c497-a9d002344f39"
      },
      "execution_count": null,
      "outputs": [
        {
          "output_type": "execute_result",
          "data": {
            "text/plain": [
              "us     70293\n",
              "NaN    12561\n",
              "Name: country, dtype: int64"
            ]
          },
          "metadata": {},
          "execution_count": 190
        }
      ]
    },
    {
      "cell_type": "markdown",
      "source": [
        "####NULL"
      ],
      "metadata": {
        "id": "BmxqZ_apkvoR"
      }
    },
    {
      "cell_type": "code",
      "source": [
        "# Filter rows where 'state' is not NaN and 'country' is NaN\n",
        "rows_with_state_and_no_country = UFOs[UFOs['state'].notna() & UFOs['country'].isna()]\n",
        "\n",
        "# Display the filtered rows\n",
        "print(rows_with_state_and_no_country)"
      ],
      "metadata": {
        "colab": {
          "base_uri": "https://localhost:8080/"
        },
        "outputId": "0856cb08-3670-4677-c097-63ceb8687ee4",
        "id": "IPnx5oKzkFRf"
      },
      "execution_count": null,
      "outputs": [
        {
          "output_type": "stream",
          "name": "stdout",
          "text": [
            "               datetime                   city state country      shape  \\\n",
            "2      10/14/2011 22:30                    NaN    nv     NaN          0   \n",
            "3      10/17/2008 20:30                    NaN    tx     NaN          0   \n",
            "4      10/20/2013 18:30                    NaN    ct     NaN          0   \n",
            "5      10/24/2007 21:05                    NaN    sd     NaN          0   \n",
            "6       10/27/2005 0:00                    NaN    ny     NaN          0   \n",
            "...                 ...                    ...   ...     ...        ...   \n",
            "88770    9/9/2009 14:15   broomfield?lafayette    co     NaN  rectangle   \n",
            "88776    9/9/2009 20:17                  lyman    me     NaN      light   \n",
            "88855    9/9/2013 12:00           star tannery    va     NaN    unknown   \n",
            "88859    9/9/2013 20:15                clifton    nj     NaN      other   \n",
            "88864    9/9/2013 21:00  hamstead (hollyridge)    nc     NaN      light   \n",
            "\n",
            "      duration (seconds) duration (hours/min)  \n",
            "2                  light                   22  \n",
            "3                   oval            5 minutes  \n",
            "4                    egg              2 hours  \n",
            "5                 sphere                30sec  \n",
            "6                    NaN                night  \n",
            "...                  ...                  ...  \n",
            "88770              120.0                2 min  \n",
            "88776              600.0              10 mins  \n",
            "88855                0.0                  unk  \n",
            "88859             3600.0                ~1hr+  \n",
            "88864              120.0            2 minutes  \n",
            "\n",
            "[7790 rows x 7 columns]\n"
          ]
        }
      ]
    },
    {
      "cell_type": "code",
      "source": [
        "#Add country to US states\n",
        "states_to_update = ['al', 'ak', 'az', 'ar', 'ca', 'co', 'ct', 'de', 'fl', 'ga',\n",
        "'hi', 'id', 'il', 'in', 'ia', 'ks', 'ky', 'la', 'me', 'md',\n",
        "'ma', 'mi', 'mn', 'ms', 'mo', 'mt', 'ne', 'nv', 'nh', 'nj',\n",
        "'nm', 'ny', 'nc', 'nd', 'oh', 'ok', 'or', 'pa', 'ri', 'sc',\n",
        "'sd', 'tn', 'tx', 'ut', 'vt', 'va', 'wa', 'wv', 'wi', 'wy','pr','dc']\n",
        "\n",
        "# Replace 'country' column with 'us' where 'state' is in the list and 'country' is NaN\n",
        "UFOs.loc[UFOs['state'].str.lower().isin(states_to_update) & UFOs['country'].isna(), 'country'] = 'us'"
      ],
      "metadata": {
        "id": "kVigjymhrEdd"
      },
      "execution_count": null,
      "outputs": []
    },
    {
      "cell_type": "code",
      "source": [
        "# Filter rows where 'city' is not NaN and 'country' is NaN\n",
        "rows_with_city_and_no_country = UFOs[UFOs['city'].notna() & UFOs['state'].notna()]\n",
        "\n",
        "# Display the filtered rows\n",
        "print(rows_with_city_and_no_country)"
      ],
      "metadata": {
        "id": "A_tMoanArC0Q",
        "colab": {
          "base_uri": "https://localhost:8080/"
        },
        "outputId": "81823c0c-d2ae-4446-cd81-3f4d937fb07b"
      },
      "execution_count": null,
      "outputs": [
        {
          "output_type": "stream",
          "name": "stdout",
          "text": [
            "               datetime            city state country     shape  \\\n",
            "196    10/10/1949 20:30      san marcos    tx      us  cylinder   \n",
            "197    10/10/1949 21:00    lackland afb    tx      us     light   \n",
            "199    10/10/1956 21:00            edna    tx      us    circle   \n",
            "200    10/10/1960 20:00         kaneohe    hi      us     light   \n",
            "201    10/10/1961 19:00         bristol    tn      us    sphere   \n",
            "...                 ...             ...   ...     ...       ...   \n",
            "88870    9/9/2013 22:00            napa    ca      us     other   \n",
            "88871    9/9/2013 22:20          vienna    va      us    circle   \n",
            "88872    9/9/2013 23:00          edmond    ok      us     cigar   \n",
            "88873    9/9/2013 23:00           starr    sc      us   diamond   \n",
            "88874    9/9/2013 23:30  ft. lauderdale    fl      us      oval   \n",
            "\n",
            "      duration (seconds) duration (hours/min)  \n",
            "196                 2700           45 minutes  \n",
            "197                 7200              1-2 hrs  \n",
            "199                   20             1/2 hour  \n",
            "200                  900           15 minutes  \n",
            "201                  300            5 minutes  \n",
            "...                  ...                  ...  \n",
            "88870             1200.0                 hour  \n",
            "88871                5.0            5 seconds  \n",
            "88872             1020.0           17 minutes  \n",
            "88873                0.0             2 nights  \n",
            "88874                0.0       still occuring  \n",
            "\n",
            "[77997 rows x 7 columns]\n"
          ]
        }
      ]
    },
    {
      "cell_type": "code",
      "source": [
        "UFOs.country.value_counts(dropna=False)"
      ],
      "metadata": {
        "colab": {
          "base_uri": "https://localhost:8080/"
        },
        "id": "aG4WHmrJuRCJ",
        "outputId": "654874a8-21cf-4c03-f469-770640bb9966"
      },
      "execution_count": null,
      "outputs": [
        {
          "output_type": "execute_result",
          "data": {
            "text/plain": [
              "us     77352\n",
              "NaN     5502\n",
              "Name: country, dtype: int64"
            ]
          },
          "metadata": {},
          "execution_count": 194
        }
      ]
    },
    {
      "cell_type": "code",
      "source": [
        "# Filter rows where 'city' is not NaN and 'country' is NaN\n",
        "rows_with_state_and_no_country = UFOs[UFOs['country'].isna() & UFOs['city'].notna()]\n",
        "\n",
        "# Display the filtered rows\n",
        "print(rows_with_state_and_no_country)"
      ],
      "metadata": {
        "colab": {
          "base_uri": "https://localhost:8080/"
        },
        "id": "sV0xiRwleyVc",
        "outputId": "f729e593-6408-4c3e-84c6-370bc8e4d34b"
      },
      "execution_count": null,
      "outputs": [
        {
          "output_type": "stream",
          "name": "stdout",
          "text": [
            "               datetime                              city state country  \\\n",
            "214    10/10/1973 23:00                       bermuda nas   NaN     NaN   \n",
            "226    10/10/1979 22:00              saddle lake (canada)    ab     NaN   \n",
            "232     10/10/1982 7:00            gisborne (new zealand)   NaN     NaN   \n",
            "238    10/10/1987 20:00           manilla (rr#1) (canada)    on     NaN   \n",
            "246    10/10/1990 20:00                    pense (canada)    sa     NaN   \n",
            "...                 ...                               ...   ...     ...   \n",
            "88721    9/9/2004 21:00                       dubai (uae)   NaN     NaN   \n",
            "88725    9/9/2004 21:45  krimpen a/d ijssel (netherlands)   NaN     NaN   \n",
            "88735    9/9/2005 21:00         sault ste. marie (canada)    on     NaN   \n",
            "88819    9/9/2011 22:45                           denmark   NaN     NaN   \n",
            "88862    9/9/2013 21:00              aleksandrow (poland)   NaN     NaN   \n",
            "\n",
            "          shape duration (seconds) duration (hours/min)  \n",
            "214       light                 20              20 sec.  \n",
            "226    triangle                270     4.5 or more min.  \n",
            "232        disk                120                 2min  \n",
            "238        disk                600              10/mins  \n",
            "246     unknown                180              1/2 hr.  \n",
            "...         ...                ...                  ...  \n",
            "88721      disk               15.0              15 secs  \n",
            "88725     light                5.0                5 sec  \n",
            "88735     other               10.0      5 to 10 seconds  \n",
            "88819     light              300.0            5 minutes  \n",
            "88862     light               15.0           15 seconds  \n",
            "\n",
            "[5392 rows x 7 columns]\n"
          ]
        }
      ]
    },
    {
      "cell_type": "code",
      "source": [
        "# drop sll null country\n",
        "UFOs = UFOs.dropna(subset=['country'])\n"
      ],
      "metadata": {
        "id": "INAHjAQJ5LW8"
      },
      "execution_count": null,
      "outputs": []
    },
    {
      "cell_type": "code",
      "source": [
        "UFOs.country.value_counts(dropna=False)"
      ],
      "metadata": {
        "colab": {
          "base_uri": "https://localhost:8080/"
        },
        "outputId": "da0b73d2-b0a2-47e4-d1e1-bc3814c50e2a",
        "id": "zAXyvFUb8tBf"
      },
      "execution_count": null,
      "outputs": [
        {
          "output_type": "execute_result",
          "data": {
            "text/plain": [
              "us    77352\n",
              "Name: country, dtype: int64"
            ]
          },
          "metadata": {},
          "execution_count": 201
        }
      ]
    },
    {
      "cell_type": "code",
      "source": [
        "UFOs.head(10)"
      ],
      "metadata": {
        "colab": {
          "base_uri": "https://localhost:8080/",
          "height": 363
        },
        "id": "OU8glbEf8q_G",
        "outputId": "f063bec5-bbdb-433d-ccaf-2069b0b99be0"
      },
      "execution_count": null,
      "outputs": [
        {
          "output_type": "execute_result",
          "data": {
            "text/plain": [
              "            datetime city state country shape duration (seconds)  \\\n",
              "2   10/14/2011 22:30  NaN    nv      us     0              light   \n",
              "3   10/17/2008 20:30  NaN    tx      us     0               oval   \n",
              "4   10/20/2013 18:30  NaN    ct      us     0                egg   \n",
              "5   10/24/2007 21:05  NaN    sd      us     0             sphere   \n",
              "6    10/27/2005 0:00  NaN    ny      us     0                NaN   \n",
              "7   10/27/2008 22:00  NaN    mi      us     0              light   \n",
              "9   10/29/2005 21:00  NaN    oh      us     0                NaN   \n",
              "13   11/11/2012 0:00  NaN    mo      us     0                NaN   \n",
              "14   11/1/1990 23:00  NaN    mt      us     0               disk   \n",
              "15   11/12/1996 1:00  NaN    nv      us     0           triangle   \n",
              "\n",
              "   duration (hours/min)  \n",
              "2                    22  \n",
              "3             5 minutes  \n",
              "4               2 hours  \n",
              "5                 30sec  \n",
              "6                 night  \n",
              "7                   NaN  \n",
              "9            15 seconds  \n",
              "13                  NaN  \n",
              "14            3 seconds  \n",
              "15            40minutes  "
            ],
            "text/html": [
              "\n",
              "  <div id=\"df-397da400-b081-49e3-ba05-4a79a069858f\" class=\"colab-df-container\">\n",
              "    <div>\n",
              "<style scoped>\n",
              "    .dataframe tbody tr th:only-of-type {\n",
              "        vertical-align: middle;\n",
              "    }\n",
              "\n",
              "    .dataframe tbody tr th {\n",
              "        vertical-align: top;\n",
              "    }\n",
              "\n",
              "    .dataframe thead th {\n",
              "        text-align: right;\n",
              "    }\n",
              "</style>\n",
              "<table border=\"1\" class=\"dataframe\">\n",
              "  <thead>\n",
              "    <tr style=\"text-align: right;\">\n",
              "      <th></th>\n",
              "      <th>datetime</th>\n",
              "      <th>city</th>\n",
              "      <th>state</th>\n",
              "      <th>country</th>\n",
              "      <th>shape</th>\n",
              "      <th>duration (seconds)</th>\n",
              "      <th>duration (hours/min)</th>\n",
              "    </tr>\n",
              "  </thead>\n",
              "  <tbody>\n",
              "    <tr>\n",
              "      <th>2</th>\n",
              "      <td>10/14/2011 22:30</td>\n",
              "      <td>NaN</td>\n",
              "      <td>nv</td>\n",
              "      <td>us</td>\n",
              "      <td>0</td>\n",
              "      <td>light</td>\n",
              "      <td>22</td>\n",
              "    </tr>\n",
              "    <tr>\n",
              "      <th>3</th>\n",
              "      <td>10/17/2008 20:30</td>\n",
              "      <td>NaN</td>\n",
              "      <td>tx</td>\n",
              "      <td>us</td>\n",
              "      <td>0</td>\n",
              "      <td>oval</td>\n",
              "      <td>5 minutes</td>\n",
              "    </tr>\n",
              "    <tr>\n",
              "      <th>4</th>\n",
              "      <td>10/20/2013 18:30</td>\n",
              "      <td>NaN</td>\n",
              "      <td>ct</td>\n",
              "      <td>us</td>\n",
              "      <td>0</td>\n",
              "      <td>egg</td>\n",
              "      <td>2 hours</td>\n",
              "    </tr>\n",
              "    <tr>\n",
              "      <th>5</th>\n",
              "      <td>10/24/2007 21:05</td>\n",
              "      <td>NaN</td>\n",
              "      <td>sd</td>\n",
              "      <td>us</td>\n",
              "      <td>0</td>\n",
              "      <td>sphere</td>\n",
              "      <td>30sec</td>\n",
              "    </tr>\n",
              "    <tr>\n",
              "      <th>6</th>\n",
              "      <td>10/27/2005 0:00</td>\n",
              "      <td>NaN</td>\n",
              "      <td>ny</td>\n",
              "      <td>us</td>\n",
              "      <td>0</td>\n",
              "      <td>NaN</td>\n",
              "      <td>night</td>\n",
              "    </tr>\n",
              "    <tr>\n",
              "      <th>7</th>\n",
              "      <td>10/27/2008 22:00</td>\n",
              "      <td>NaN</td>\n",
              "      <td>mi</td>\n",
              "      <td>us</td>\n",
              "      <td>0</td>\n",
              "      <td>light</td>\n",
              "      <td>NaN</td>\n",
              "    </tr>\n",
              "    <tr>\n",
              "      <th>9</th>\n",
              "      <td>10/29/2005 21:00</td>\n",
              "      <td>NaN</td>\n",
              "      <td>oh</td>\n",
              "      <td>us</td>\n",
              "      <td>0</td>\n",
              "      <td>NaN</td>\n",
              "      <td>15 seconds</td>\n",
              "    </tr>\n",
              "    <tr>\n",
              "      <th>13</th>\n",
              "      <td>11/11/2012 0:00</td>\n",
              "      <td>NaN</td>\n",
              "      <td>mo</td>\n",
              "      <td>us</td>\n",
              "      <td>0</td>\n",
              "      <td>NaN</td>\n",
              "      <td>NaN</td>\n",
              "    </tr>\n",
              "    <tr>\n",
              "      <th>14</th>\n",
              "      <td>11/1/1990 23:00</td>\n",
              "      <td>NaN</td>\n",
              "      <td>mt</td>\n",
              "      <td>us</td>\n",
              "      <td>0</td>\n",
              "      <td>disk</td>\n",
              "      <td>3 seconds</td>\n",
              "    </tr>\n",
              "    <tr>\n",
              "      <th>15</th>\n",
              "      <td>11/12/1996 1:00</td>\n",
              "      <td>NaN</td>\n",
              "      <td>nv</td>\n",
              "      <td>us</td>\n",
              "      <td>0</td>\n",
              "      <td>triangle</td>\n",
              "      <td>40minutes</td>\n",
              "    </tr>\n",
              "  </tbody>\n",
              "</table>\n",
              "</div>\n",
              "    <div class=\"colab-df-buttons\">\n",
              "\n",
              "  <div class=\"colab-df-container\">\n",
              "    <button class=\"colab-df-convert\" onclick=\"convertToInteractive('df-397da400-b081-49e3-ba05-4a79a069858f')\"\n",
              "            title=\"Convert this dataframe to an interactive table.\"\n",
              "            style=\"display:none;\">\n",
              "\n",
              "  <svg xmlns=\"http://www.w3.org/2000/svg\" height=\"24px\" viewBox=\"0 -960 960 960\">\n",
              "    <path d=\"M120-120v-720h720v720H120Zm60-500h600v-160H180v160Zm220 220h160v-160H400v160Zm0 220h160v-160H400v160ZM180-400h160v-160H180v160Zm440 0h160v-160H620v160ZM180-180h160v-160H180v160Zm440 0h160v-160H620v160Z\"/>\n",
              "  </svg>\n",
              "    </button>\n",
              "\n",
              "  <style>\n",
              "    .colab-df-container {\n",
              "      display:flex;\n",
              "      gap: 12px;\n",
              "    }\n",
              "\n",
              "    .colab-df-convert {\n",
              "      background-color: #E8F0FE;\n",
              "      border: none;\n",
              "      border-radius: 50%;\n",
              "      cursor: pointer;\n",
              "      display: none;\n",
              "      fill: #1967D2;\n",
              "      height: 32px;\n",
              "      padding: 0 0 0 0;\n",
              "      width: 32px;\n",
              "    }\n",
              "\n",
              "    .colab-df-convert:hover {\n",
              "      background-color: #E2EBFA;\n",
              "      box-shadow: 0px 1px 2px rgba(60, 64, 67, 0.3), 0px 1px 3px 1px rgba(60, 64, 67, 0.15);\n",
              "      fill: #174EA6;\n",
              "    }\n",
              "\n",
              "    .colab-df-buttons div {\n",
              "      margin-bottom: 4px;\n",
              "    }\n",
              "\n",
              "    [theme=dark] .colab-df-convert {\n",
              "      background-color: #3B4455;\n",
              "      fill: #D2E3FC;\n",
              "    }\n",
              "\n",
              "    [theme=dark] .colab-df-convert:hover {\n",
              "      background-color: #434B5C;\n",
              "      box-shadow: 0px 1px 3px 1px rgba(0, 0, 0, 0.15);\n",
              "      filter: drop-shadow(0px 1px 2px rgba(0, 0, 0, 0.3));\n",
              "      fill: #FFFFFF;\n",
              "    }\n",
              "  </style>\n",
              "\n",
              "    <script>\n",
              "      const buttonEl =\n",
              "        document.querySelector('#df-397da400-b081-49e3-ba05-4a79a069858f button.colab-df-convert');\n",
              "      buttonEl.style.display =\n",
              "        google.colab.kernel.accessAllowed ? 'block' : 'none';\n",
              "\n",
              "      async function convertToInteractive(key) {\n",
              "        const element = document.querySelector('#df-397da400-b081-49e3-ba05-4a79a069858f');\n",
              "        const dataTable =\n",
              "          await google.colab.kernel.invokeFunction('convertToInteractive',\n",
              "                                                    [key], {});\n",
              "        if (!dataTable) return;\n",
              "\n",
              "        const docLinkHtml = 'Like what you see? Visit the ' +\n",
              "          '<a target=\"_blank\" href=https://colab.research.google.com/notebooks/data_table.ipynb>data table notebook</a>'\n",
              "          + ' to learn more about interactive tables.';\n",
              "        element.innerHTML = '';\n",
              "        dataTable['output_type'] = 'display_data';\n",
              "        await google.colab.output.renderOutput(dataTable, element);\n",
              "        const docLink = document.createElement('div');\n",
              "        docLink.innerHTML = docLinkHtml;\n",
              "        element.appendChild(docLink);\n",
              "      }\n",
              "    </script>\n",
              "  </div>\n",
              "\n",
              "\n",
              "<div id=\"df-6602a14a-5645-4a00-844d-fb3c8e01b0cb\">\n",
              "  <button class=\"colab-df-quickchart\" onclick=\"quickchart('df-6602a14a-5645-4a00-844d-fb3c8e01b0cb')\"\n",
              "            title=\"Suggest charts\"\n",
              "            style=\"display:none;\">\n",
              "\n",
              "<svg xmlns=\"http://www.w3.org/2000/svg\" height=\"24px\"viewBox=\"0 0 24 24\"\n",
              "     width=\"24px\">\n",
              "    <g>\n",
              "        <path d=\"M19 3H5c-1.1 0-2 .9-2 2v14c0 1.1.9 2 2 2h14c1.1 0 2-.9 2-2V5c0-1.1-.9-2-2-2zM9 17H7v-7h2v7zm4 0h-2V7h2v10zm4 0h-2v-4h2v4z\"/>\n",
              "    </g>\n",
              "</svg>\n",
              "  </button>\n",
              "\n",
              "<style>\n",
              "  .colab-df-quickchart {\n",
              "      --bg-color: #E8F0FE;\n",
              "      --fill-color: #1967D2;\n",
              "      --hover-bg-color: #E2EBFA;\n",
              "      --hover-fill-color: #174EA6;\n",
              "      --disabled-fill-color: #AAA;\n",
              "      --disabled-bg-color: #DDD;\n",
              "  }\n",
              "\n",
              "  [theme=dark] .colab-df-quickchart {\n",
              "      --bg-color: #3B4455;\n",
              "      --fill-color: #D2E3FC;\n",
              "      --hover-bg-color: #434B5C;\n",
              "      --hover-fill-color: #FFFFFF;\n",
              "      --disabled-bg-color: #3B4455;\n",
              "      --disabled-fill-color: #666;\n",
              "  }\n",
              "\n",
              "  .colab-df-quickchart {\n",
              "    background-color: var(--bg-color);\n",
              "    border: none;\n",
              "    border-radius: 50%;\n",
              "    cursor: pointer;\n",
              "    display: none;\n",
              "    fill: var(--fill-color);\n",
              "    height: 32px;\n",
              "    padding: 0;\n",
              "    width: 32px;\n",
              "  }\n",
              "\n",
              "  .colab-df-quickchart:hover {\n",
              "    background-color: var(--hover-bg-color);\n",
              "    box-shadow: 0 1px 2px rgba(60, 64, 67, 0.3), 0 1px 3px 1px rgba(60, 64, 67, 0.15);\n",
              "    fill: var(--button-hover-fill-color);\n",
              "  }\n",
              "\n",
              "  .colab-df-quickchart-complete:disabled,\n",
              "  .colab-df-quickchart-complete:disabled:hover {\n",
              "    background-color: var(--disabled-bg-color);\n",
              "    fill: var(--disabled-fill-color);\n",
              "    box-shadow: none;\n",
              "  }\n",
              "\n",
              "  .colab-df-spinner {\n",
              "    border: 2px solid var(--fill-color);\n",
              "    border-color: transparent;\n",
              "    border-bottom-color: var(--fill-color);\n",
              "    animation:\n",
              "      spin 1s steps(1) infinite;\n",
              "  }\n",
              "\n",
              "  @keyframes spin {\n",
              "    0% {\n",
              "      border-color: transparent;\n",
              "      border-bottom-color: var(--fill-color);\n",
              "      border-left-color: var(--fill-color);\n",
              "    }\n",
              "    20% {\n",
              "      border-color: transparent;\n",
              "      border-left-color: var(--fill-color);\n",
              "      border-top-color: var(--fill-color);\n",
              "    }\n",
              "    30% {\n",
              "      border-color: transparent;\n",
              "      border-left-color: var(--fill-color);\n",
              "      border-top-color: var(--fill-color);\n",
              "      border-right-color: var(--fill-color);\n",
              "    }\n",
              "    40% {\n",
              "      border-color: transparent;\n",
              "      border-right-color: var(--fill-color);\n",
              "      border-top-color: var(--fill-color);\n",
              "    }\n",
              "    60% {\n",
              "      border-color: transparent;\n",
              "      border-right-color: var(--fill-color);\n",
              "    }\n",
              "    80% {\n",
              "      border-color: transparent;\n",
              "      border-right-color: var(--fill-color);\n",
              "      border-bottom-color: var(--fill-color);\n",
              "    }\n",
              "    90% {\n",
              "      border-color: transparent;\n",
              "      border-bottom-color: var(--fill-color);\n",
              "    }\n",
              "  }\n",
              "</style>\n",
              "\n",
              "  <script>\n",
              "    async function quickchart(key) {\n",
              "      const quickchartButtonEl =\n",
              "        document.querySelector('#' + key + ' button');\n",
              "      quickchartButtonEl.disabled = true;  // To prevent multiple clicks.\n",
              "      quickchartButtonEl.classList.add('colab-df-spinner');\n",
              "      try {\n",
              "        const charts = await google.colab.kernel.invokeFunction(\n",
              "            'suggestCharts', [key], {});\n",
              "      } catch (error) {\n",
              "        console.error('Error during call to suggestCharts:', error);\n",
              "      }\n",
              "      quickchartButtonEl.classList.remove('colab-df-spinner');\n",
              "      quickchartButtonEl.classList.add('colab-df-quickchart-complete');\n",
              "    }\n",
              "    (() => {\n",
              "      let quickchartButtonEl =\n",
              "        document.querySelector('#df-6602a14a-5645-4a00-844d-fb3c8e01b0cb button');\n",
              "      quickchartButtonEl.style.display =\n",
              "        google.colab.kernel.accessAllowed ? 'block' : 'none';\n",
              "    })();\n",
              "  </script>\n",
              "</div>\n",
              "    </div>\n",
              "  </div>\n"
            ]
          },
          "metadata": {},
          "execution_count": 202
        }
      ]
    },
    {
      "cell_type": "markdown",
      "source": [
        "## working with the duration"
      ],
      "metadata": {
        "id": "FfKGLP8TDmcn"
      }
    },
    {
      "cell_type": "code",
      "source": [
        "# Now, count the number of rows where 'duration (seconds)' is NaN (null)\n",
        "count_duration_null = UFOs['duration (seconds)'].isnull().sum()\n",
        "\n",
        "# Output the count\n",
        "print(count_duration_null)\n"
      ],
      "metadata": {
        "colab": {
          "base_uri": "https://localhost:8080/"
        },
        "id": "EWsKA-bv-IDh",
        "outputId": "5c47d173-9b4c-4887-e175-e2be8af7f862"
      },
      "execution_count": null,
      "outputs": [
        {
          "output_type": "stream",
          "name": "stdout",
          "text": [
            "8\n"
          ]
        }
      ]
    },
    {
      "cell_type": "code",
      "source": [
        "#droppping null row\n",
        "UFOs.dropna(subset=['duration (seconds)'], inplace=True)"
      ],
      "metadata": {
        "id": "ZW2OOA4N-IG5"
      },
      "execution_count": null,
      "outputs": []
    },
    {
      "cell_type": "code",
      "source": [
        "#Drop unused columns\n",
        "UFOs=UFOs.drop(columns=['duration (hours/min)'])"
      ],
      "metadata": {
        "id": "PX1zcgy0-IJT"
      },
      "execution_count": null,
      "outputs": []
    },
    {
      "cell_type": "code",
      "source": [
        "#Convert the 'datetime' column to pandas datetime type\n",
        "UFOs['datetime'] = pd.to_datetime(UFOs['datetime'], errors='coerce') # 'coerce' will set invalid parsing to NaT"
      ],
      "metadata": {
        "id": "LM4nDguSsdVj"
      },
      "execution_count": null,
      "outputs": []
    },
    {
      "cell_type": "code",
      "source": [
        "#Extract the date part and assign it to a new column called 'date'\n",
        "UFOs['date'] = UFOs['datetime'].dt.date\n",
        "\n",
        "#Extract the time part and assign it to a new column called 'time'\n",
        "UFOs['time'] = UFOs['datetime'].dt.time\n",
        "\n",
        "# handle null values\n",
        "UFOs['date'].fillna(value=pd.NaT, inplace=True)\n",
        "UFOs['time'].fillna(value=pd.NaT, inplace=True)\n",
        "\n",
        "# View the DataFrame to confirm the changes\n",
        "print(UFOs[['datetime', 'date', 'time']])\n"
      ],
      "metadata": {
        "colab": {
          "base_uri": "https://localhost:8080/"
        },
        "id": "urz7Ms8psdYm",
        "outputId": "ba452043-0764-4393-8f09-c506176f5eae"
      },
      "execution_count": null,
      "outputs": [
        {
          "output_type": "stream",
          "name": "stdout",
          "text": [
            "                 datetime        date      time\n",
            "2     2011-10-14 22:30:00  2011-10-14  22:30:00\n",
            "3     2008-10-17 20:30:00  2008-10-17  20:30:00\n",
            "4     2013-10-20 18:30:00  2013-10-20  18:30:00\n",
            "5     2007-10-24 21:05:00  2007-10-24  21:05:00\n",
            "7     2008-10-27 22:00:00  2008-10-27  22:00:00\n",
            "...                   ...         ...       ...\n",
            "88870 2013-09-09 22:00:00  2013-09-09  22:00:00\n",
            "88871 2013-09-09 22:20:00  2013-09-09  22:20:00\n",
            "88872 2013-09-09 23:00:00  2013-09-09  23:00:00\n",
            "88873 2013-09-09 23:00:00  2013-09-09  23:00:00\n",
            "88874 2013-09-09 23:30:00  2013-09-09  23:30:00\n",
            "\n",
            "[77344 rows x 3 columns]\n"
          ]
        }
      ]
    },
    {
      "cell_type": "code",
      "source": [
        "#dropping unused columns\n",
        "UFOs.dropna(subset=['datetime'], inplace=True)"
      ],
      "metadata": {
        "id": "bkCNS41NsdcZ"
      },
      "execution_count": null,
      "outputs": []
    },
    {
      "cell_type": "code",
      "source": [
        "UFOs.head(10)"
      ],
      "metadata": {
        "colab": {
          "base_uri": "https://localhost:8080/",
          "height": 363
        },
        "id": "TTRJPSf2m5GV",
        "outputId": "ad9a6ebc-6555-4cfa-a300-bdb0ab064844"
      },
      "execution_count": null,
      "outputs": [
        {
          "output_type": "execute_result",
          "data": {
            "text/plain": [
              "              datetime city state country shape duration (seconds)  \\\n",
              "2  2011-10-14 22:30:00  NaN    nv      us     0              light   \n",
              "3  2008-10-17 20:30:00  NaN    tx      us     0               oval   \n",
              "4  2013-10-20 18:30:00  NaN    ct      us     0                egg   \n",
              "5  2007-10-24 21:05:00  NaN    sd      us     0             sphere   \n",
              "7  2008-10-27 22:00:00  NaN    mi      us     0              light   \n",
              "14 1990-11-01 23:00:00  NaN    mt      us     0               disk   \n",
              "15 1996-11-12 01:00:00  NaN    nv      us     0           triangle   \n",
              "20 1990-01-01 23:00:00  NaN    nv      us     0            unknown   \n",
              "22 2001-01-01 07:30:00  NaN    co      us     0             circle   \n",
              "23 2008-11-20 22:00:00  NaN    tx      us     0              light   \n",
              "\n",
              "          date      time  \n",
              "2   2011-10-14  22:30:00  \n",
              "3   2008-10-17  20:30:00  \n",
              "4   2013-10-20  18:30:00  \n",
              "5   2007-10-24  21:05:00  \n",
              "7   2008-10-27  22:00:00  \n",
              "14  1990-11-01  23:00:00  \n",
              "15  1996-11-12  01:00:00  \n",
              "20  1990-01-01  23:00:00  \n",
              "22  2001-01-01  07:30:00  \n",
              "23  2008-11-20  22:00:00  "
            ],
            "text/html": [
              "\n",
              "  <div id=\"df-c34b79e5-a202-4248-9ad1-35b3bab3b789\" class=\"colab-df-container\">\n",
              "    <div>\n",
              "<style scoped>\n",
              "    .dataframe tbody tr th:only-of-type {\n",
              "        vertical-align: middle;\n",
              "    }\n",
              "\n",
              "    .dataframe tbody tr th {\n",
              "        vertical-align: top;\n",
              "    }\n",
              "\n",
              "    .dataframe thead th {\n",
              "        text-align: right;\n",
              "    }\n",
              "</style>\n",
              "<table border=\"1\" class=\"dataframe\">\n",
              "  <thead>\n",
              "    <tr style=\"text-align: right;\">\n",
              "      <th></th>\n",
              "      <th>datetime</th>\n",
              "      <th>city</th>\n",
              "      <th>state</th>\n",
              "      <th>country</th>\n",
              "      <th>shape</th>\n",
              "      <th>duration (seconds)</th>\n",
              "      <th>date</th>\n",
              "      <th>time</th>\n",
              "    </tr>\n",
              "  </thead>\n",
              "  <tbody>\n",
              "    <tr>\n",
              "      <th>2</th>\n",
              "      <td>2011-10-14 22:30:00</td>\n",
              "      <td>NaN</td>\n",
              "      <td>nv</td>\n",
              "      <td>us</td>\n",
              "      <td>0</td>\n",
              "      <td>light</td>\n",
              "      <td>2011-10-14</td>\n",
              "      <td>22:30:00</td>\n",
              "    </tr>\n",
              "    <tr>\n",
              "      <th>3</th>\n",
              "      <td>2008-10-17 20:30:00</td>\n",
              "      <td>NaN</td>\n",
              "      <td>tx</td>\n",
              "      <td>us</td>\n",
              "      <td>0</td>\n",
              "      <td>oval</td>\n",
              "      <td>2008-10-17</td>\n",
              "      <td>20:30:00</td>\n",
              "    </tr>\n",
              "    <tr>\n",
              "      <th>4</th>\n",
              "      <td>2013-10-20 18:30:00</td>\n",
              "      <td>NaN</td>\n",
              "      <td>ct</td>\n",
              "      <td>us</td>\n",
              "      <td>0</td>\n",
              "      <td>egg</td>\n",
              "      <td>2013-10-20</td>\n",
              "      <td>18:30:00</td>\n",
              "    </tr>\n",
              "    <tr>\n",
              "      <th>5</th>\n",
              "      <td>2007-10-24 21:05:00</td>\n",
              "      <td>NaN</td>\n",
              "      <td>sd</td>\n",
              "      <td>us</td>\n",
              "      <td>0</td>\n",
              "      <td>sphere</td>\n",
              "      <td>2007-10-24</td>\n",
              "      <td>21:05:00</td>\n",
              "    </tr>\n",
              "    <tr>\n",
              "      <th>7</th>\n",
              "      <td>2008-10-27 22:00:00</td>\n",
              "      <td>NaN</td>\n",
              "      <td>mi</td>\n",
              "      <td>us</td>\n",
              "      <td>0</td>\n",
              "      <td>light</td>\n",
              "      <td>2008-10-27</td>\n",
              "      <td>22:00:00</td>\n",
              "    </tr>\n",
              "    <tr>\n",
              "      <th>14</th>\n",
              "      <td>1990-11-01 23:00:00</td>\n",
              "      <td>NaN</td>\n",
              "      <td>mt</td>\n",
              "      <td>us</td>\n",
              "      <td>0</td>\n",
              "      <td>disk</td>\n",
              "      <td>1990-11-01</td>\n",
              "      <td>23:00:00</td>\n",
              "    </tr>\n",
              "    <tr>\n",
              "      <th>15</th>\n",
              "      <td>1996-11-12 01:00:00</td>\n",
              "      <td>NaN</td>\n",
              "      <td>nv</td>\n",
              "      <td>us</td>\n",
              "      <td>0</td>\n",
              "      <td>triangle</td>\n",
              "      <td>1996-11-12</td>\n",
              "      <td>01:00:00</td>\n",
              "    </tr>\n",
              "    <tr>\n",
              "      <th>20</th>\n",
              "      <td>1990-01-01 23:00:00</td>\n",
              "      <td>NaN</td>\n",
              "      <td>nv</td>\n",
              "      <td>us</td>\n",
              "      <td>0</td>\n",
              "      <td>unknown</td>\n",
              "      <td>1990-01-01</td>\n",
              "      <td>23:00:00</td>\n",
              "    </tr>\n",
              "    <tr>\n",
              "      <th>22</th>\n",
              "      <td>2001-01-01 07:30:00</td>\n",
              "      <td>NaN</td>\n",
              "      <td>co</td>\n",
              "      <td>us</td>\n",
              "      <td>0</td>\n",
              "      <td>circle</td>\n",
              "      <td>2001-01-01</td>\n",
              "      <td>07:30:00</td>\n",
              "    </tr>\n",
              "    <tr>\n",
              "      <th>23</th>\n",
              "      <td>2008-11-20 22:00:00</td>\n",
              "      <td>NaN</td>\n",
              "      <td>tx</td>\n",
              "      <td>us</td>\n",
              "      <td>0</td>\n",
              "      <td>light</td>\n",
              "      <td>2008-11-20</td>\n",
              "      <td>22:00:00</td>\n",
              "    </tr>\n",
              "  </tbody>\n",
              "</table>\n",
              "</div>\n",
              "    <div class=\"colab-df-buttons\">\n",
              "\n",
              "  <div class=\"colab-df-container\">\n",
              "    <button class=\"colab-df-convert\" onclick=\"convertToInteractive('df-c34b79e5-a202-4248-9ad1-35b3bab3b789')\"\n",
              "            title=\"Convert this dataframe to an interactive table.\"\n",
              "            style=\"display:none;\">\n",
              "\n",
              "  <svg xmlns=\"http://www.w3.org/2000/svg\" height=\"24px\" viewBox=\"0 -960 960 960\">\n",
              "    <path d=\"M120-120v-720h720v720H120Zm60-500h600v-160H180v160Zm220 220h160v-160H400v160Zm0 220h160v-160H400v160ZM180-400h160v-160H180v160Zm440 0h160v-160H620v160ZM180-180h160v-160H180v160Zm440 0h160v-160H620v160Z\"/>\n",
              "  </svg>\n",
              "    </button>\n",
              "\n",
              "  <style>\n",
              "    .colab-df-container {\n",
              "      display:flex;\n",
              "      gap: 12px;\n",
              "    }\n",
              "\n",
              "    .colab-df-convert {\n",
              "      background-color: #E8F0FE;\n",
              "      border: none;\n",
              "      border-radius: 50%;\n",
              "      cursor: pointer;\n",
              "      display: none;\n",
              "      fill: #1967D2;\n",
              "      height: 32px;\n",
              "      padding: 0 0 0 0;\n",
              "      width: 32px;\n",
              "    }\n",
              "\n",
              "    .colab-df-convert:hover {\n",
              "      background-color: #E2EBFA;\n",
              "      box-shadow: 0px 1px 2px rgba(60, 64, 67, 0.3), 0px 1px 3px 1px rgba(60, 64, 67, 0.15);\n",
              "      fill: #174EA6;\n",
              "    }\n",
              "\n",
              "    .colab-df-buttons div {\n",
              "      margin-bottom: 4px;\n",
              "    }\n",
              "\n",
              "    [theme=dark] .colab-df-convert {\n",
              "      background-color: #3B4455;\n",
              "      fill: #D2E3FC;\n",
              "    }\n",
              "\n",
              "    [theme=dark] .colab-df-convert:hover {\n",
              "      background-color: #434B5C;\n",
              "      box-shadow: 0px 1px 3px 1px rgba(0, 0, 0, 0.15);\n",
              "      filter: drop-shadow(0px 1px 2px rgba(0, 0, 0, 0.3));\n",
              "      fill: #FFFFFF;\n",
              "    }\n",
              "  </style>\n",
              "\n",
              "    <script>\n",
              "      const buttonEl =\n",
              "        document.querySelector('#df-c34b79e5-a202-4248-9ad1-35b3bab3b789 button.colab-df-convert');\n",
              "      buttonEl.style.display =\n",
              "        google.colab.kernel.accessAllowed ? 'block' : 'none';\n",
              "\n",
              "      async function convertToInteractive(key) {\n",
              "        const element = document.querySelector('#df-c34b79e5-a202-4248-9ad1-35b3bab3b789');\n",
              "        const dataTable =\n",
              "          await google.colab.kernel.invokeFunction('convertToInteractive',\n",
              "                                                    [key], {});\n",
              "        if (!dataTable) return;\n",
              "\n",
              "        const docLinkHtml = 'Like what you see? Visit the ' +\n",
              "          '<a target=\"_blank\" href=https://colab.research.google.com/notebooks/data_table.ipynb>data table notebook</a>'\n",
              "          + ' to learn more about interactive tables.';\n",
              "        element.innerHTML = '';\n",
              "        dataTable['output_type'] = 'display_data';\n",
              "        await google.colab.output.renderOutput(dataTable, element);\n",
              "        const docLink = document.createElement('div');\n",
              "        docLink.innerHTML = docLinkHtml;\n",
              "        element.appendChild(docLink);\n",
              "      }\n",
              "    </script>\n",
              "  </div>\n",
              "\n",
              "\n",
              "<div id=\"df-055dccc6-889d-461f-bf8f-43bdd91456f0\">\n",
              "  <button class=\"colab-df-quickchart\" onclick=\"quickchart('df-055dccc6-889d-461f-bf8f-43bdd91456f0')\"\n",
              "            title=\"Suggest charts\"\n",
              "            style=\"display:none;\">\n",
              "\n",
              "<svg xmlns=\"http://www.w3.org/2000/svg\" height=\"24px\"viewBox=\"0 0 24 24\"\n",
              "     width=\"24px\">\n",
              "    <g>\n",
              "        <path d=\"M19 3H5c-1.1 0-2 .9-2 2v14c0 1.1.9 2 2 2h14c1.1 0 2-.9 2-2V5c0-1.1-.9-2-2-2zM9 17H7v-7h2v7zm4 0h-2V7h2v10zm4 0h-2v-4h2v4z\"/>\n",
              "    </g>\n",
              "</svg>\n",
              "  </button>\n",
              "\n",
              "<style>\n",
              "  .colab-df-quickchart {\n",
              "      --bg-color: #E8F0FE;\n",
              "      --fill-color: #1967D2;\n",
              "      --hover-bg-color: #E2EBFA;\n",
              "      --hover-fill-color: #174EA6;\n",
              "      --disabled-fill-color: #AAA;\n",
              "      --disabled-bg-color: #DDD;\n",
              "  }\n",
              "\n",
              "  [theme=dark] .colab-df-quickchart {\n",
              "      --bg-color: #3B4455;\n",
              "      --fill-color: #D2E3FC;\n",
              "      --hover-bg-color: #434B5C;\n",
              "      --hover-fill-color: #FFFFFF;\n",
              "      --disabled-bg-color: #3B4455;\n",
              "      --disabled-fill-color: #666;\n",
              "  }\n",
              "\n",
              "  .colab-df-quickchart {\n",
              "    background-color: var(--bg-color);\n",
              "    border: none;\n",
              "    border-radius: 50%;\n",
              "    cursor: pointer;\n",
              "    display: none;\n",
              "    fill: var(--fill-color);\n",
              "    height: 32px;\n",
              "    padding: 0;\n",
              "    width: 32px;\n",
              "  }\n",
              "\n",
              "  .colab-df-quickchart:hover {\n",
              "    background-color: var(--hover-bg-color);\n",
              "    box-shadow: 0 1px 2px rgba(60, 64, 67, 0.3), 0 1px 3px 1px rgba(60, 64, 67, 0.15);\n",
              "    fill: var(--button-hover-fill-color);\n",
              "  }\n",
              "\n",
              "  .colab-df-quickchart-complete:disabled,\n",
              "  .colab-df-quickchart-complete:disabled:hover {\n",
              "    background-color: var(--disabled-bg-color);\n",
              "    fill: var(--disabled-fill-color);\n",
              "    box-shadow: none;\n",
              "  }\n",
              "\n",
              "  .colab-df-spinner {\n",
              "    border: 2px solid var(--fill-color);\n",
              "    border-color: transparent;\n",
              "    border-bottom-color: var(--fill-color);\n",
              "    animation:\n",
              "      spin 1s steps(1) infinite;\n",
              "  }\n",
              "\n",
              "  @keyframes spin {\n",
              "    0% {\n",
              "      border-color: transparent;\n",
              "      border-bottom-color: var(--fill-color);\n",
              "      border-left-color: var(--fill-color);\n",
              "    }\n",
              "    20% {\n",
              "      border-color: transparent;\n",
              "      border-left-color: var(--fill-color);\n",
              "      border-top-color: var(--fill-color);\n",
              "    }\n",
              "    30% {\n",
              "      border-color: transparent;\n",
              "      border-left-color: var(--fill-color);\n",
              "      border-top-color: var(--fill-color);\n",
              "      border-right-color: var(--fill-color);\n",
              "    }\n",
              "    40% {\n",
              "      border-color: transparent;\n",
              "      border-right-color: var(--fill-color);\n",
              "      border-top-color: var(--fill-color);\n",
              "    }\n",
              "    60% {\n",
              "      border-color: transparent;\n",
              "      border-right-color: var(--fill-color);\n",
              "    }\n",
              "    80% {\n",
              "      border-color: transparent;\n",
              "      border-right-color: var(--fill-color);\n",
              "      border-bottom-color: var(--fill-color);\n",
              "    }\n",
              "    90% {\n",
              "      border-color: transparent;\n",
              "      border-bottom-color: var(--fill-color);\n",
              "    }\n",
              "  }\n",
              "</style>\n",
              "\n",
              "  <script>\n",
              "    async function quickchart(key) {\n",
              "      const quickchartButtonEl =\n",
              "        document.querySelector('#' + key + ' button');\n",
              "      quickchartButtonEl.disabled = true;  // To prevent multiple clicks.\n",
              "      quickchartButtonEl.classList.add('colab-df-spinner');\n",
              "      try {\n",
              "        const charts = await google.colab.kernel.invokeFunction(\n",
              "            'suggestCharts', [key], {});\n",
              "      } catch (error) {\n",
              "        console.error('Error during call to suggestCharts:', error);\n",
              "      }\n",
              "      quickchartButtonEl.classList.remove('colab-df-spinner');\n",
              "      quickchartButtonEl.classList.add('colab-df-quickchart-complete');\n",
              "    }\n",
              "    (() => {\n",
              "      let quickchartButtonEl =\n",
              "        document.querySelector('#df-055dccc6-889d-461f-bf8f-43bdd91456f0 button');\n",
              "      quickchartButtonEl.style.display =\n",
              "        google.colab.kernel.accessAllowed ? 'block' : 'none';\n",
              "    })();\n",
              "  </script>\n",
              "</div>\n",
              "    </div>\n",
              "  </div>\n"
            ]
          },
          "metadata": {},
          "execution_count": 211
        }
      ]
    },
    {
      "cell_type": "code",
      "source": [
        "# Count the number of nulls in the 'city' column\n",
        "city_null_count = UFOs['city'].isnull().sum()\n",
        "city_null_count"
      ],
      "metadata": {
        "colab": {
          "base_uri": "https://localhost:8080/"
        },
        "id": "zho630W_6wSp",
        "outputId": "fbd1b3fb-22ee-453d-cf57-9bcc3fabb281"
      },
      "execution_count": null,
      "outputs": [
        {
          "output_type": "execute_result",
          "data": {
            "text/plain": [
              "78"
            ]
          },
          "metadata": {},
          "execution_count": 213
        }
      ]
    },
    {
      "cell_type": "code",
      "source": [
        "# Count the number of nulls in the 'shape' column\n",
        "city_null_count = UFOs['shape'].isnull().sum()\n",
        "city_null_count"
      ],
      "metadata": {
        "colab": {
          "base_uri": "https://localhost:8080/"
        },
        "id": "04SYKEE_7L8Z",
        "outputId": "83fda211-3d0f-48b3-d6ca-2ac538031362"
      },
      "execution_count": null,
      "outputs": [
        {
          "output_type": "execute_result",
          "data": {
            "text/plain": [
              "2369"
            ]
          },
          "metadata": {},
          "execution_count": 214
        }
      ]
    },
    {
      "cell_type": "code",
      "source": [
        "UFOs['shape'].value_counts(dropna=False)"
      ],
      "metadata": {
        "colab": {
          "base_uri": "https://localhost:8080/"
        },
        "id": "xti4vfN17eNU",
        "outputId": "7a7c6b1c-d0e4-4ca3-d283-fe5fcfa64e31"
      },
      "execution_count": null,
      "outputs": [
        {
          "output_type": "execute_result",
          "data": {
            "text/plain": [
              "light        15532\n",
              "triangle      7514\n",
              "circle        7150\n",
              "fireball      5787\n",
              "unknown       5488\n",
              "other         5287\n",
              "disk          5025\n",
              "sphere        4937\n",
              "oval          3538\n",
              "NaN           2369\n",
              "formation     2294\n",
              "cigar         1904\n",
              "changing      1859\n",
              "flash         1276\n",
              "rectangle     1228\n",
              "cylinder      1191\n",
              "diamond       1103\n",
              "chevron        909\n",
              "egg            696\n",
              "teardrop       691\n",
              "cone           300\n",
              "cross          228\n",
              "0               78\n",
              "delta            7\n",
              "round            2\n",
              "crescent         2\n",
              "pyramid          1\n",
              "flare            1\n",
              "hexagon          1\n",
              "changed          1\n",
              "Name: shape, dtype: int64"
            ]
          },
          "metadata": {},
          "execution_count": 216
        }
      ]
    },
    {
      "cell_type": "code",
      "source": [
        "UFOs.info()"
      ],
      "metadata": {
        "id": "QOdCvISvycQT"
      },
      "execution_count": null,
      "outputs": []
    },
    {
      "cell_type": "markdown",
      "source": [
        "##encoding"
      ],
      "metadata": {
        "id": "erlpvDz713LS"
      }
    }
  ]
}