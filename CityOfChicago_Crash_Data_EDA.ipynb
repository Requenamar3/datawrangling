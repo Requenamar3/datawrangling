{
  "nbformat": 4,
  "nbformat_minor": 0,
  "metadata": {
    "colab": {
      "provenance": [],
      "include_colab_link": true
    },
    "kernelspec": {
      "name": "python3",
      "display_name": "Python 3"
    },
    "language_info": {
      "name": "python"
    }
  },
  "cells": [
    {
      "cell_type": "markdown",
      "metadata": {
        "id": "view-in-github",
        "colab_type": "text"
      },
      "source": [
        "<a href=\"https://colab.research.google.com/github/Requenamar3/datawrangling/blob/main/CityOfChicago_Crash_Data_EDA.ipynb\" target=\"_parent\"><img src=\"https://colab.research.google.com/assets/colab-badge.svg\" alt=\"Open In Colab\"/></a>"
      ]
    },
    {
      "cell_type": "markdown",
      "source": [
        "# Structural Analysis"
      ],
      "metadata": {
        "id": "Ochq9NoCAS_p"
      }
    },
    {
      "cell_type": "code",
      "execution_count": null,
      "metadata": {
        "id": "KQeqcwmM1HFw"
      },
      "outputs": [],
      "source": [
        "# 'https://data.cityofchicago.org/resource/85ca-t3if.json'"
      ]
    },
    {
      "cell_type": "code",
      "source": [
        "# Import basic libraries\n",
        "import numpy as np\n",
        "import pandas as pd\n",
        "# import visualization libraries\n",
        "import seaborn as sns\n",
        "import matplotlib.pyplot as plt"
      ],
      "metadata": {
        "id": "RgMTCyva5qQI"
      },
      "execution_count": null,
      "outputs": []
    },
    {
      "cell_type": "markdown",
      "source": [
        "This research employed a binary variable, default payment (Yes = 1, No = 0), as the response variable. This study reviewed the literature and used the following 23 variables as explanatory variables:\n",
        "X1: Amount of the given credit (NT dollar): it includes both the individual consumer credit and his/her family (supplementary) credit.\n",
        "X2: Gender (1 = male; 2 = female).\n",
        "X3: Education (1 = graduate school; 2 = university; 3 = high school; 4 = others).\n",
        "X4: Marital status (1 = married; 2 = single; 3 = others).\n",
        "X5: Age (year).\n",
        "X6 - X11: History of past payment. We tracked the past monthly payment records (from April to September, 2005) as follows: X6 = the repayment status in September, 2005; X7 = the repayment status in August, 2005; . . .;X11 = the repayment status in April, 2005. The measurement scale for the repayment status is: -1 = pay duly; 1 = payment delay for one month; 2 = payment delay for two months; . . .; 8 = payment delay for eight months; 9 = payment delay for nine months and above.\n",
        "X12-X17: Amount of bill statement (NT dollar). X12 = amount of bill statement in September, 2005; X13 = amount of bill statement in August, 2005; . . .; X17 = amount of bill statement in April, 2005.\n",
        "X18-X23: Amount of previous payment (NT dollar). X18 = amount paid in September, 2005; X19 = amount paid in August, 2005; . . .;X23 = amount paid in April, 2005."
      ],
      "metadata": {
        "id": "ZJI9ZfV98GnN"
      }
    },
    {
      "cell_type": "code",
      "source": [
        "import pandas as pd\n",
        "import requests\n",
        "\n",
        "# URL of the JSON data\n",
        "url = 'https://data.cityofchicago.org/resource/85ca-t3if.json'\n",
        "\n",
        "# Make a GET request to fetch the raw JSON content\n",
        "data = requests.get(url).json()\n",
        "\n",
        "# Read the JSON data into a DataFrame\n",
        "df = pd.DataFrame(data)\n",
        "\n",
        "# Display the first few rows of the DataFrame\n",
        "print(df.head())"
      ],
      "metadata": {
        "id": "6eJp7Rvr63gs",
        "colab": {
          "base_uri": "https://localhost:8080/"
        },
        "outputId": "a4dc0cca-ef93-48a1-de73-b1a4775cc9ed"
      },
      "execution_count": null,
      "outputs": [
        {
          "output_type": "stream",
          "name": "stdout",
          "text": [
            "                                     crash_record_id               crash_date  \\\n",
            "0  37e762055125f3b99188088ec77c34b204114425d092f8...  2024-01-10T01:14:00.000   \n",
            "1  60b79aa4e242657591dead56affe90d88704ecd218184d...  2024-01-09T23:27:00.000   \n",
            "2  80fdd7fbbe705d75f1244a8814bb4f628e8f05b4bea523...  2024-01-09T23:10:00.000   \n",
            "3  db72269939d3b231ad706eb4df772b117f3499296547ef...  2024-01-09T22:01:00.000   \n",
            "4  2a840107b03712b6bd17a4bc66335eb7083d34a4381827...  2024-01-09T21:50:00.000   \n",
            "\n",
            "  posted_speed_limit traffic_control_device      device_condition  \\\n",
            "0                 30            NO CONTROLS           NO CONTROLS   \n",
            "1                 30         TRAFFIC SIGNAL  FUNCTIONING PROPERLY   \n",
            "2                 30         TRAFFIC SIGNAL  FUNCTIONING PROPERLY   \n",
            "3                 35      STOP SIGN/FLASHER  FUNCTIONING PROPERLY   \n",
            "4                 30         TRAFFIC SIGNAL  FUNCTIONING PROPERLY   \n",
            "\n",
            "       weather_condition      lighting_condition      first_crash_type  \\\n",
            "0                   RAIN  DARKNESS, LIGHTED ROAD  PARKED MOTOR VEHICLE   \n",
            "1                   SNOW  DARKNESS, LIGHTED ROAD            PEDESTRIAN   \n",
            "2                   RAIN  DARKNESS, LIGHTED ROAD               TURNING   \n",
            "3                   SNOW  DARKNESS, LIGHTED ROAD                 ANGLE   \n",
            "4  FREEZING RAIN/DRIZZLE  DARKNESS, LIGHTED ROAD               TURNING   \n",
            "\n",
            "                   trafficway_type           alignment  ...      latitude  \\\n",
            "0                          ONE-WAY  STRAIGHT AND LEVEL  ...  41.651207735   \n",
            "1                      NOT DIVIDED  STRAIGHT AND LEVEL  ...  41.924190911   \n",
            "2                         FOUR WAY  STRAIGHT AND LEVEL  ...  41.960684905   \n",
            "3                         FOUR WAY  STRAIGHT AND LEVEL  ...  41.792269068   \n",
            "4  DIVIDED - W/MEDIAN (NOT RAISED)  STRAIGHT AND LEVEL  ...  41.795918388   \n",
            "\n",
            "       longitude                                           location  \\\n",
            "0  -87.548540561  {'type': 'Point', 'coordinates': [-87.54854056...   \n",
            "1  -87.746447216  {'type': 'Point', 'coordinates': [-87.74644721...   \n",
            "2  -87.747384248  {'type': 'Point', 'coordinates': [-87.74738424...   \n",
            "3  -87.683850336  {'type': 'Point', 'coordinates': [-87.68385033...   \n",
            "4  -87.761780789  {'type': 'Point', 'coordinates': [-87.76178078...   \n",
            "\n",
            "  :@computed_region_rpca_8um6 intersection_related_i photos_taken_i  \\\n",
            "0                          26                    NaN            NaN   \n",
            "1                           2                    NaN            NaN   \n",
            "2                          21                      Y            NaN   \n",
            "3                          23                      Y            NaN   \n",
            "4                           7                    NaN            NaN   \n",
            "\n",
            "  private_property_i statements_taken_i crash_date_est_i dooring_i  \n",
            "0                NaN                NaN              NaN       NaN  \n",
            "1                NaN                NaN              NaN       NaN  \n",
            "2                NaN                NaN              NaN       NaN  \n",
            "3                NaN                NaN              NaN       NaN  \n",
            "4                NaN                NaN              NaN       NaN  \n",
            "\n",
            "[5 rows x 45 columns]\n"
          ]
        }
      ]
    },
    {
      "cell_type": "markdown",
      "source": [],
      "metadata": {
        "id": "SqF9gFFtHkSO"
      }
    },
    {
      "cell_type": "code",
      "source": [
        "# Getting Meta Data Information about the dataset\n",
        "df.info()"
      ],
      "metadata": {
        "id": "SpHFm2d16-QV",
        "colab": {
          "base_uri": "https://localhost:8080/"
        },
        "outputId": "c0dd6602-48da-4df7-96d1-1fdd17a488af"
      },
      "execution_count": null,
      "outputs": [
        {
          "output_type": "stream",
          "name": "stdout",
          "text": [
            "<class 'pandas.core.frame.DataFrame'>\n",
            "RangeIndex: 1000 entries, 0 to 999\n",
            "Data columns (total 45 columns):\n",
            " #   Column                         Non-Null Count  Dtype \n",
            "---  ------                         --------------  ----- \n",
            " 0   crash_record_id                1000 non-null   object\n",
            " 1   crash_date                     1000 non-null   object\n",
            " 2   posted_speed_limit             1000 non-null   object\n",
            " 3   traffic_control_device         1000 non-null   object\n",
            " 4   device_condition               1000 non-null   object\n",
            " 5   weather_condition              1000 non-null   object\n",
            " 6   lighting_condition             1000 non-null   object\n",
            " 7   first_crash_type               1000 non-null   object\n",
            " 8   trafficway_type                1000 non-null   object\n",
            " 9   alignment                      1000 non-null   object\n",
            " 10  roadway_surface_cond           1000 non-null   object\n",
            " 11  road_defect                    1000 non-null   object\n",
            " 12  report_type                    986 non-null    object\n",
            " 13  crash_type                     1000 non-null   object\n",
            " 14  hit_and_run_i                  306 non-null    object\n",
            " 15  damage                         1000 non-null   object\n",
            " 16  date_police_notified           1000 non-null   object\n",
            " 17  prim_contributory_cause        1000 non-null   object\n",
            " 18  sec_contributory_cause         1000 non-null   object\n",
            " 19  street_no                      1000 non-null   object\n",
            " 20  street_direction               1000 non-null   object\n",
            " 21  street_name                    1000 non-null   object\n",
            " 22  beat_of_occurrence             1000 non-null   object\n",
            " 23  num_units                      1000 non-null   object\n",
            " 24  most_severe_injury             998 non-null    object\n",
            " 25  injuries_total                 998 non-null    object\n",
            " 26  injuries_fatal                 998 non-null    object\n",
            " 27  injuries_incapacitating        998 non-null    object\n",
            " 28  injuries_non_incapacitating    998 non-null    object\n",
            " 29  injuries_reported_not_evident  998 non-null    object\n",
            " 30  injuries_no_indication         998 non-null    object\n",
            " 31  injuries_unknown               998 non-null    object\n",
            " 32  crash_hour                     1000 non-null   object\n",
            " 33  crash_day_of_week              1000 non-null   object\n",
            " 34  crash_month                    1000 non-null   object\n",
            " 35  latitude                       991 non-null    object\n",
            " 36  longitude                      991 non-null    object\n",
            " 37  location                       991 non-null    object\n",
            " 38  :@computed_region_rpca_8um6    991 non-null    object\n",
            " 39  intersection_related_i         230 non-null    object\n",
            " 40  photos_taken_i                 21 non-null     object\n",
            " 41  private_property_i             40 non-null     object\n",
            " 42  statements_taken_i             35 non-null     object\n",
            " 43  crash_date_est_i               59 non-null     object\n",
            " 44  dooring_i                      2 non-null      object\n",
            "dtypes: object(45)\n",
            "memory usage: 351.7+ KB\n"
          ]
        }
      ]
    },
    {
      "cell_type": "code",
      "source": [
        "df.describe().T"
      ],
      "metadata": {
        "id": "NHepaxqH9jkl",
        "colab": {
          "base_uri": "https://localhost:8080/",
          "height": 1000
        },
        "outputId": "c4a77f06-f691-42a5-d2b6-32d2c57b7547"
      },
      "execution_count": null,
      "outputs": [
        {
          "output_type": "execute_result",
          "data": {
            "text/plain": [
              "                              count unique  \\\n",
              "crash_record_id                1000   1000   \n",
              "crash_date                     1000    765   \n",
              "posted_speed_limit             1000     11   \n",
              "traffic_control_device         1000     12   \n",
              "device_condition               1000      5   \n",
              "weather_condition              1000     10   \n",
              "lighting_condition             1000      6   \n",
              "first_crash_type               1000     16   \n",
              "trafficway_type                1000     18   \n",
              "alignment                      1000      5   \n",
              "roadway_surface_cond           1000      7   \n",
              "road_defect                    1000      7   \n",
              "report_type                     986      2   \n",
              "crash_type                     1000      2   \n",
              "hit_and_run_i                   306      2   \n",
              "damage                         1000      3   \n",
              "date_police_notified           1000    850   \n",
              "prim_contributory_cause        1000     27   \n",
              "sec_contributory_cause         1000     25   \n",
              "street_no                      1000    764   \n",
              "street_direction               1000      4   \n",
              "street_name                    1000    344   \n",
              "beat_of_occurrence             1000    254   \n",
              "num_units                      1000      6   \n",
              "most_severe_injury              998      4   \n",
              "injuries_total                  998      5   \n",
              "injuries_fatal                  998      1   \n",
              "injuries_incapacitating         998      3   \n",
              "injuries_non_incapacitating     998      5   \n",
              "injuries_reported_not_evident   998      5   \n",
              "injuries_no_indication          998      9   \n",
              "injuries_unknown                998      1   \n",
              "crash_hour                     1000     24   \n",
              "crash_day_of_week              1000      6   \n",
              "crash_month                    1000      1   \n",
              "latitude                        991    970   \n",
              "longitude                       991    970   \n",
              "location                        991    970   \n",
              ":@computed_region_rpca_8um6     991     61   \n",
              "intersection_related_i          230      2   \n",
              "photos_taken_i                   21      2   \n",
              "private_property_i               40      2   \n",
              "statements_taken_i               35      2   \n",
              "crash_date_est_i                 59      2   \n",
              "dooring_i                         2      2   \n",
              "\n",
              "                                                                             top  \\\n",
              "crash_record_id                37e762055125f3b99188088ec77c34b204114425d092f8...   \n",
              "crash_date                                               2024-01-05T14:00:00.000   \n",
              "posted_speed_limit                                                            30   \n",
              "traffic_control_device                                               NO CONTROLS   \n",
              "device_condition                                                     NO CONTROLS   \n",
              "weather_condition                                                          CLEAR   \n",
              "lighting_condition                                                      DAYLIGHT   \n",
              "first_crash_type                                            PARKED MOTOR VEHICLE   \n",
              "trafficway_type                                                      NOT DIVIDED   \n",
              "alignment                                                     STRAIGHT AND LEVEL   \n",
              "roadway_surface_cond                                                         DRY   \n",
              "road_defect                                                           NO DEFECTS   \n",
              "report_type                                                             ON SCENE   \n",
              "crash_type                                                NO INJURY / DRIVE AWAY   \n",
              "hit_and_run_i                                                                  Y   \n",
              "damage                                                               OVER $1,500   \n",
              "date_police_notified                                     2024-01-09T10:00:00.000   \n",
              "prim_contributory_cause                                      UNABLE TO DETERMINE   \n",
              "sec_contributory_cause                                            NOT APPLICABLE   \n",
              "street_no                                                                   2400   \n",
              "street_direction                                                               W   \n",
              "street_name                                                           PULASKI RD   \n",
              "beat_of_occurrence                                                          1824   \n",
              "num_units                                                                      2   \n",
              "most_severe_injury                                       NO INDICATION OF INJURY   \n",
              "injuries_total                                                                 0   \n",
              "injuries_fatal                                                                 0   \n",
              "injuries_incapacitating                                                        0   \n",
              "injuries_non_incapacitating                                                    0   \n",
              "injuries_reported_not_evident                                                  0   \n",
              "injuries_no_indication                                                         2   \n",
              "injuries_unknown                                                               0   \n",
              "crash_hour                                                                    15   \n",
              "crash_day_of_week                                                              7   \n",
              "crash_month                                                                    1   \n",
              "latitude                                                            41.900958919   \n",
              "longitude                                                          -87.619928174   \n",
              "location                       {'type': 'Point', 'coordinates': [-87.61992817...   \n",
              ":@computed_region_rpca_8um6                                                   58   \n",
              "intersection_related_i                                                         Y   \n",
              "photos_taken_i                                                                 Y   \n",
              "private_property_i                                                             Y   \n",
              "statements_taken_i                                                             Y   \n",
              "crash_date_est_i                                                               Y   \n",
              "dooring_i                                                                      Y   \n",
              "\n",
              "                               freq  \n",
              "crash_record_id                   1  \n",
              "crash_date                        9  \n",
              "posted_speed_limit              749  \n",
              "traffic_control_device          508  \n",
              "device_condition                508  \n",
              "weather_condition               431  \n",
              "lighting_condition              482  \n",
              "first_crash_type                219  \n",
              "trafficway_type                 388  \n",
              "alignment                       981  \n",
              "roadway_surface_cond            406  \n",
              "road_defect                     708  \n",
              "report_type                     514  \n",
              "crash_type                      694  \n",
              "hit_and_run_i                   293  \n",
              "damage                          731  \n",
              "date_police_notified              4  \n",
              "prim_contributory_cause         425  \n",
              "sec_contributory_cause          422  \n",
              "street_no                         7  \n",
              "street_direction                357  \n",
              "street_name                      29  \n",
              "beat_of_occurrence               12  \n",
              "num_units                       856  \n",
              "most_severe_injury              854  \n",
              "injuries_total                  854  \n",
              "injuries_fatal                  998  \n",
              "injuries_incapacitating         976  \n",
              "injuries_non_incapacitating     915  \n",
              "injuries_reported_not_evident   948  \n",
              "injuries_no_indication          471  \n",
              "injuries_unknown                998  \n",
              "crash_hour                       92  \n",
              "crash_day_of_week               261  \n",
              "crash_month                    1000  \n",
              "latitude                          5  \n",
              "longitude                         5  \n",
              "location                          5  \n",
              ":@computed_region_rpca_8um6      45  \n",
              "intersection_related_i          220  \n",
              "photos_taken_i                   18  \n",
              "private_property_i               38  \n",
              "statements_taken_i               24  \n",
              "crash_date_est_i                 52  \n",
              "dooring_i                         1  "
            ],
            "text/html": [
              "\n",
              "  <div id=\"df-44302225-aca6-49e0-aad8-6ee27241e936\" class=\"colab-df-container\">\n",
              "    <div>\n",
              "<style scoped>\n",
              "    .dataframe tbody tr th:only-of-type {\n",
              "        vertical-align: middle;\n",
              "    }\n",
              "\n",
              "    .dataframe tbody tr th {\n",
              "        vertical-align: top;\n",
              "    }\n",
              "\n",
              "    .dataframe thead th {\n",
              "        text-align: right;\n",
              "    }\n",
              "</style>\n",
              "<table border=\"1\" class=\"dataframe\">\n",
              "  <thead>\n",
              "    <tr style=\"text-align: right;\">\n",
              "      <th></th>\n",
              "      <th>count</th>\n",
              "      <th>unique</th>\n",
              "      <th>top</th>\n",
              "      <th>freq</th>\n",
              "    </tr>\n",
              "  </thead>\n",
              "  <tbody>\n",
              "    <tr>\n",
              "      <th>crash_record_id</th>\n",
              "      <td>1000</td>\n",
              "      <td>1000</td>\n",
              "      <td>37e762055125f3b99188088ec77c34b204114425d092f8...</td>\n",
              "      <td>1</td>\n",
              "    </tr>\n",
              "    <tr>\n",
              "      <th>crash_date</th>\n",
              "      <td>1000</td>\n",
              "      <td>765</td>\n",
              "      <td>2024-01-05T14:00:00.000</td>\n",
              "      <td>9</td>\n",
              "    </tr>\n",
              "    <tr>\n",
              "      <th>posted_speed_limit</th>\n",
              "      <td>1000</td>\n",
              "      <td>11</td>\n",
              "      <td>30</td>\n",
              "      <td>749</td>\n",
              "    </tr>\n",
              "    <tr>\n",
              "      <th>traffic_control_device</th>\n",
              "      <td>1000</td>\n",
              "      <td>12</td>\n",
              "      <td>NO CONTROLS</td>\n",
              "      <td>508</td>\n",
              "    </tr>\n",
              "    <tr>\n",
              "      <th>device_condition</th>\n",
              "      <td>1000</td>\n",
              "      <td>5</td>\n",
              "      <td>NO CONTROLS</td>\n",
              "      <td>508</td>\n",
              "    </tr>\n",
              "    <tr>\n",
              "      <th>weather_condition</th>\n",
              "      <td>1000</td>\n",
              "      <td>10</td>\n",
              "      <td>CLEAR</td>\n",
              "      <td>431</td>\n",
              "    </tr>\n",
              "    <tr>\n",
              "      <th>lighting_condition</th>\n",
              "      <td>1000</td>\n",
              "      <td>6</td>\n",
              "      <td>DAYLIGHT</td>\n",
              "      <td>482</td>\n",
              "    </tr>\n",
              "    <tr>\n",
              "      <th>first_crash_type</th>\n",
              "      <td>1000</td>\n",
              "      <td>16</td>\n",
              "      <td>PARKED MOTOR VEHICLE</td>\n",
              "      <td>219</td>\n",
              "    </tr>\n",
              "    <tr>\n",
              "      <th>trafficway_type</th>\n",
              "      <td>1000</td>\n",
              "      <td>18</td>\n",
              "      <td>NOT DIVIDED</td>\n",
              "      <td>388</td>\n",
              "    </tr>\n",
              "    <tr>\n",
              "      <th>alignment</th>\n",
              "      <td>1000</td>\n",
              "      <td>5</td>\n",
              "      <td>STRAIGHT AND LEVEL</td>\n",
              "      <td>981</td>\n",
              "    </tr>\n",
              "    <tr>\n",
              "      <th>roadway_surface_cond</th>\n",
              "      <td>1000</td>\n",
              "      <td>7</td>\n",
              "      <td>DRY</td>\n",
              "      <td>406</td>\n",
              "    </tr>\n",
              "    <tr>\n",
              "      <th>road_defect</th>\n",
              "      <td>1000</td>\n",
              "      <td>7</td>\n",
              "      <td>NO DEFECTS</td>\n",
              "      <td>708</td>\n",
              "    </tr>\n",
              "    <tr>\n",
              "      <th>report_type</th>\n",
              "      <td>986</td>\n",
              "      <td>2</td>\n",
              "      <td>ON SCENE</td>\n",
              "      <td>514</td>\n",
              "    </tr>\n",
              "    <tr>\n",
              "      <th>crash_type</th>\n",
              "      <td>1000</td>\n",
              "      <td>2</td>\n",
              "      <td>NO INJURY / DRIVE AWAY</td>\n",
              "      <td>694</td>\n",
              "    </tr>\n",
              "    <tr>\n",
              "      <th>hit_and_run_i</th>\n",
              "      <td>306</td>\n",
              "      <td>2</td>\n",
              "      <td>Y</td>\n",
              "      <td>293</td>\n",
              "    </tr>\n",
              "    <tr>\n",
              "      <th>damage</th>\n",
              "      <td>1000</td>\n",
              "      <td>3</td>\n",
              "      <td>OVER $1,500</td>\n",
              "      <td>731</td>\n",
              "    </tr>\n",
              "    <tr>\n",
              "      <th>date_police_notified</th>\n",
              "      <td>1000</td>\n",
              "      <td>850</td>\n",
              "      <td>2024-01-09T10:00:00.000</td>\n",
              "      <td>4</td>\n",
              "    </tr>\n",
              "    <tr>\n",
              "      <th>prim_contributory_cause</th>\n",
              "      <td>1000</td>\n",
              "      <td>27</td>\n",
              "      <td>UNABLE TO DETERMINE</td>\n",
              "      <td>425</td>\n",
              "    </tr>\n",
              "    <tr>\n",
              "      <th>sec_contributory_cause</th>\n",
              "      <td>1000</td>\n",
              "      <td>25</td>\n",
              "      <td>NOT APPLICABLE</td>\n",
              "      <td>422</td>\n",
              "    </tr>\n",
              "    <tr>\n",
              "      <th>street_no</th>\n",
              "      <td>1000</td>\n",
              "      <td>764</td>\n",
              "      <td>2400</td>\n",
              "      <td>7</td>\n",
              "    </tr>\n",
              "    <tr>\n",
              "      <th>street_direction</th>\n",
              "      <td>1000</td>\n",
              "      <td>4</td>\n",
              "      <td>W</td>\n",
              "      <td>357</td>\n",
              "    </tr>\n",
              "    <tr>\n",
              "      <th>street_name</th>\n",
              "      <td>1000</td>\n",
              "      <td>344</td>\n",
              "      <td>PULASKI RD</td>\n",
              "      <td>29</td>\n",
              "    </tr>\n",
              "    <tr>\n",
              "      <th>beat_of_occurrence</th>\n",
              "      <td>1000</td>\n",
              "      <td>254</td>\n",
              "      <td>1824</td>\n",
              "      <td>12</td>\n",
              "    </tr>\n",
              "    <tr>\n",
              "      <th>num_units</th>\n",
              "      <td>1000</td>\n",
              "      <td>6</td>\n",
              "      <td>2</td>\n",
              "      <td>856</td>\n",
              "    </tr>\n",
              "    <tr>\n",
              "      <th>most_severe_injury</th>\n",
              "      <td>998</td>\n",
              "      <td>4</td>\n",
              "      <td>NO INDICATION OF INJURY</td>\n",
              "      <td>854</td>\n",
              "    </tr>\n",
              "    <tr>\n",
              "      <th>injuries_total</th>\n",
              "      <td>998</td>\n",
              "      <td>5</td>\n",
              "      <td>0</td>\n",
              "      <td>854</td>\n",
              "    </tr>\n",
              "    <tr>\n",
              "      <th>injuries_fatal</th>\n",
              "      <td>998</td>\n",
              "      <td>1</td>\n",
              "      <td>0</td>\n",
              "      <td>998</td>\n",
              "    </tr>\n",
              "    <tr>\n",
              "      <th>injuries_incapacitating</th>\n",
              "      <td>998</td>\n",
              "      <td>3</td>\n",
              "      <td>0</td>\n",
              "      <td>976</td>\n",
              "    </tr>\n",
              "    <tr>\n",
              "      <th>injuries_non_incapacitating</th>\n",
              "      <td>998</td>\n",
              "      <td>5</td>\n",
              "      <td>0</td>\n",
              "      <td>915</td>\n",
              "    </tr>\n",
              "    <tr>\n",
              "      <th>injuries_reported_not_evident</th>\n",
              "      <td>998</td>\n",
              "      <td>5</td>\n",
              "      <td>0</td>\n",
              "      <td>948</td>\n",
              "    </tr>\n",
              "    <tr>\n",
              "      <th>injuries_no_indication</th>\n",
              "      <td>998</td>\n",
              "      <td>9</td>\n",
              "      <td>2</td>\n",
              "      <td>471</td>\n",
              "    </tr>\n",
              "    <tr>\n",
              "      <th>injuries_unknown</th>\n",
              "      <td>998</td>\n",
              "      <td>1</td>\n",
              "      <td>0</td>\n",
              "      <td>998</td>\n",
              "    </tr>\n",
              "    <tr>\n",
              "      <th>crash_hour</th>\n",
              "      <td>1000</td>\n",
              "      <td>24</td>\n",
              "      <td>15</td>\n",
              "      <td>92</td>\n",
              "    </tr>\n",
              "    <tr>\n",
              "      <th>crash_day_of_week</th>\n",
              "      <td>1000</td>\n",
              "      <td>6</td>\n",
              "      <td>7</td>\n",
              "      <td>261</td>\n",
              "    </tr>\n",
              "    <tr>\n",
              "      <th>crash_month</th>\n",
              "      <td>1000</td>\n",
              "      <td>1</td>\n",
              "      <td>1</td>\n",
              "      <td>1000</td>\n",
              "    </tr>\n",
              "    <tr>\n",
              "      <th>latitude</th>\n",
              "      <td>991</td>\n",
              "      <td>970</td>\n",
              "      <td>41.900958919</td>\n",
              "      <td>5</td>\n",
              "    </tr>\n",
              "    <tr>\n",
              "      <th>longitude</th>\n",
              "      <td>991</td>\n",
              "      <td>970</td>\n",
              "      <td>-87.619928174</td>\n",
              "      <td>5</td>\n",
              "    </tr>\n",
              "    <tr>\n",
              "      <th>location</th>\n",
              "      <td>991</td>\n",
              "      <td>970</td>\n",
              "      <td>{'type': 'Point', 'coordinates': [-87.61992817...</td>\n",
              "      <td>5</td>\n",
              "    </tr>\n",
              "    <tr>\n",
              "      <th>:@computed_region_rpca_8um6</th>\n",
              "      <td>991</td>\n",
              "      <td>61</td>\n",
              "      <td>58</td>\n",
              "      <td>45</td>\n",
              "    </tr>\n",
              "    <tr>\n",
              "      <th>intersection_related_i</th>\n",
              "      <td>230</td>\n",
              "      <td>2</td>\n",
              "      <td>Y</td>\n",
              "      <td>220</td>\n",
              "    </tr>\n",
              "    <tr>\n",
              "      <th>photos_taken_i</th>\n",
              "      <td>21</td>\n",
              "      <td>2</td>\n",
              "      <td>Y</td>\n",
              "      <td>18</td>\n",
              "    </tr>\n",
              "    <tr>\n",
              "      <th>private_property_i</th>\n",
              "      <td>40</td>\n",
              "      <td>2</td>\n",
              "      <td>Y</td>\n",
              "      <td>38</td>\n",
              "    </tr>\n",
              "    <tr>\n",
              "      <th>statements_taken_i</th>\n",
              "      <td>35</td>\n",
              "      <td>2</td>\n",
              "      <td>Y</td>\n",
              "      <td>24</td>\n",
              "    </tr>\n",
              "    <tr>\n",
              "      <th>crash_date_est_i</th>\n",
              "      <td>59</td>\n",
              "      <td>2</td>\n",
              "      <td>Y</td>\n",
              "      <td>52</td>\n",
              "    </tr>\n",
              "    <tr>\n",
              "      <th>dooring_i</th>\n",
              "      <td>2</td>\n",
              "      <td>2</td>\n",
              "      <td>Y</td>\n",
              "      <td>1</td>\n",
              "    </tr>\n",
              "  </tbody>\n",
              "</table>\n",
              "</div>\n",
              "    <div class=\"colab-df-buttons\">\n",
              "\n",
              "  <div class=\"colab-df-container\">\n",
              "    <button class=\"colab-df-convert\" onclick=\"convertToInteractive('df-44302225-aca6-49e0-aad8-6ee27241e936')\"\n",
              "            title=\"Convert this dataframe to an interactive table.\"\n",
              "            style=\"display:none;\">\n",
              "\n",
              "  <svg xmlns=\"http://www.w3.org/2000/svg\" height=\"24px\" viewBox=\"0 -960 960 960\">\n",
              "    <path d=\"M120-120v-720h720v720H120Zm60-500h600v-160H180v160Zm220 220h160v-160H400v160Zm0 220h160v-160H400v160ZM180-400h160v-160H180v160Zm440 0h160v-160H620v160ZM180-180h160v-160H180v160Zm440 0h160v-160H620v160Z\"/>\n",
              "  </svg>\n",
              "    </button>\n",
              "\n",
              "  <style>\n",
              "    .colab-df-container {\n",
              "      display:flex;\n",
              "      gap: 12px;\n",
              "    }\n",
              "\n",
              "    .colab-df-convert {\n",
              "      background-color: #E8F0FE;\n",
              "      border: none;\n",
              "      border-radius: 50%;\n",
              "      cursor: pointer;\n",
              "      display: none;\n",
              "      fill: #1967D2;\n",
              "      height: 32px;\n",
              "      padding: 0 0 0 0;\n",
              "      width: 32px;\n",
              "    }\n",
              "\n",
              "    .colab-df-convert:hover {\n",
              "      background-color: #E2EBFA;\n",
              "      box-shadow: 0px 1px 2px rgba(60, 64, 67, 0.3), 0px 1px 3px 1px rgba(60, 64, 67, 0.15);\n",
              "      fill: #174EA6;\n",
              "    }\n",
              "\n",
              "    .colab-df-buttons div {\n",
              "      margin-bottom: 4px;\n",
              "    }\n",
              "\n",
              "    [theme=dark] .colab-df-convert {\n",
              "      background-color: #3B4455;\n",
              "      fill: #D2E3FC;\n",
              "    }\n",
              "\n",
              "    [theme=dark] .colab-df-convert:hover {\n",
              "      background-color: #434B5C;\n",
              "      box-shadow: 0px 1px 3px 1px rgba(0, 0, 0, 0.15);\n",
              "      filter: drop-shadow(0px 1px 2px rgba(0, 0, 0, 0.3));\n",
              "      fill: #FFFFFF;\n",
              "    }\n",
              "  </style>\n",
              "\n",
              "    <script>\n",
              "      const buttonEl =\n",
              "        document.querySelector('#df-44302225-aca6-49e0-aad8-6ee27241e936 button.colab-df-convert');\n",
              "      buttonEl.style.display =\n",
              "        google.colab.kernel.accessAllowed ? 'block' : 'none';\n",
              "\n",
              "      async function convertToInteractive(key) {\n",
              "        const element = document.querySelector('#df-44302225-aca6-49e0-aad8-6ee27241e936');\n",
              "        const dataTable =\n",
              "          await google.colab.kernel.invokeFunction('convertToInteractive',\n",
              "                                                    [key], {});\n",
              "        if (!dataTable) return;\n",
              "\n",
              "        const docLinkHtml = 'Like what you see? Visit the ' +\n",
              "          '<a target=\"_blank\" href=https://colab.research.google.com/notebooks/data_table.ipynb>data table notebook</a>'\n",
              "          + ' to learn more about interactive tables.';\n",
              "        element.innerHTML = '';\n",
              "        dataTable['output_type'] = 'display_data';\n",
              "        await google.colab.output.renderOutput(dataTable, element);\n",
              "        const docLink = document.createElement('div');\n",
              "        docLink.innerHTML = docLinkHtml;\n",
              "        element.appendChild(docLink);\n",
              "      }\n",
              "    </script>\n",
              "  </div>\n",
              "\n",
              "\n",
              "<div id=\"df-fb1b761b-ccb7-4b4f-9ac8-0129b2067b62\">\n",
              "  <button class=\"colab-df-quickchart\" onclick=\"quickchart('df-fb1b761b-ccb7-4b4f-9ac8-0129b2067b62')\"\n",
              "            title=\"Suggest charts\"\n",
              "            style=\"display:none;\">\n",
              "\n",
              "<svg xmlns=\"http://www.w3.org/2000/svg\" height=\"24px\"viewBox=\"0 0 24 24\"\n",
              "     width=\"24px\">\n",
              "    <g>\n",
              "        <path d=\"M19 3H5c-1.1 0-2 .9-2 2v14c0 1.1.9 2 2 2h14c1.1 0 2-.9 2-2V5c0-1.1-.9-2-2-2zM9 17H7v-7h2v7zm4 0h-2V7h2v10zm4 0h-2v-4h2v4z\"/>\n",
              "    </g>\n",
              "</svg>\n",
              "  </button>\n",
              "\n",
              "<style>\n",
              "  .colab-df-quickchart {\n",
              "      --bg-color: #E8F0FE;\n",
              "      --fill-color: #1967D2;\n",
              "      --hover-bg-color: #E2EBFA;\n",
              "      --hover-fill-color: #174EA6;\n",
              "      --disabled-fill-color: #AAA;\n",
              "      --disabled-bg-color: #DDD;\n",
              "  }\n",
              "\n",
              "  [theme=dark] .colab-df-quickchart {\n",
              "      --bg-color: #3B4455;\n",
              "      --fill-color: #D2E3FC;\n",
              "      --hover-bg-color: #434B5C;\n",
              "      --hover-fill-color: #FFFFFF;\n",
              "      --disabled-bg-color: #3B4455;\n",
              "      --disabled-fill-color: #666;\n",
              "  }\n",
              "\n",
              "  .colab-df-quickchart {\n",
              "    background-color: var(--bg-color);\n",
              "    border: none;\n",
              "    border-radius: 50%;\n",
              "    cursor: pointer;\n",
              "    display: none;\n",
              "    fill: var(--fill-color);\n",
              "    height: 32px;\n",
              "    padding: 0;\n",
              "    width: 32px;\n",
              "  }\n",
              "\n",
              "  .colab-df-quickchart:hover {\n",
              "    background-color: var(--hover-bg-color);\n",
              "    box-shadow: 0 1px 2px rgba(60, 64, 67, 0.3), 0 1px 3px 1px rgba(60, 64, 67, 0.15);\n",
              "    fill: var(--button-hover-fill-color);\n",
              "  }\n",
              "\n",
              "  .colab-df-quickchart-complete:disabled,\n",
              "  .colab-df-quickchart-complete:disabled:hover {\n",
              "    background-color: var(--disabled-bg-color);\n",
              "    fill: var(--disabled-fill-color);\n",
              "    box-shadow: none;\n",
              "  }\n",
              "\n",
              "  .colab-df-spinner {\n",
              "    border: 2px solid var(--fill-color);\n",
              "    border-color: transparent;\n",
              "    border-bottom-color: var(--fill-color);\n",
              "    animation:\n",
              "      spin 1s steps(1) infinite;\n",
              "  }\n",
              "\n",
              "  @keyframes spin {\n",
              "    0% {\n",
              "      border-color: transparent;\n",
              "      border-bottom-color: var(--fill-color);\n",
              "      border-left-color: var(--fill-color);\n",
              "    }\n",
              "    20% {\n",
              "      border-color: transparent;\n",
              "      border-left-color: var(--fill-color);\n",
              "      border-top-color: var(--fill-color);\n",
              "    }\n",
              "    30% {\n",
              "      border-color: transparent;\n",
              "      border-left-color: var(--fill-color);\n",
              "      border-top-color: var(--fill-color);\n",
              "      border-right-color: var(--fill-color);\n",
              "    }\n",
              "    40% {\n",
              "      border-color: transparent;\n",
              "      border-right-color: var(--fill-color);\n",
              "      border-top-color: var(--fill-color);\n",
              "    }\n",
              "    60% {\n",
              "      border-color: transparent;\n",
              "      border-right-color: var(--fill-color);\n",
              "    }\n",
              "    80% {\n",
              "      border-color: transparent;\n",
              "      border-right-color: var(--fill-color);\n",
              "      border-bottom-color: var(--fill-color);\n",
              "    }\n",
              "    90% {\n",
              "      border-color: transparent;\n",
              "      border-bottom-color: var(--fill-color);\n",
              "    }\n",
              "  }\n",
              "</style>\n",
              "\n",
              "  <script>\n",
              "    async function quickchart(key) {\n",
              "      const quickchartButtonEl =\n",
              "        document.querySelector('#' + key + ' button');\n",
              "      quickchartButtonEl.disabled = true;  // To prevent multiple clicks.\n",
              "      quickchartButtonEl.classList.add('colab-df-spinner');\n",
              "      try {\n",
              "        const charts = await google.colab.kernel.invokeFunction(\n",
              "            'suggestCharts', [key], {});\n",
              "      } catch (error) {\n",
              "        console.error('Error during call to suggestCharts:', error);\n",
              "      }\n",
              "      quickchartButtonEl.classList.remove('colab-df-spinner');\n",
              "      quickchartButtonEl.classList.add('colab-df-quickchart-complete');\n",
              "    }\n",
              "    (() => {\n",
              "      let quickchartButtonEl =\n",
              "        document.querySelector('#df-fb1b761b-ccb7-4b4f-9ac8-0129b2067b62 button');\n",
              "      quickchartButtonEl.style.display =\n",
              "        google.colab.kernel.accessAllowed ? 'block' : 'none';\n",
              "    })();\n",
              "  </script>\n",
              "</div>\n",
              "    </div>\n",
              "  </div>\n"
            ]
          },
          "metadata": {},
          "execution_count": 6
        }
      ]
    },
    {
      "cell_type": "code",
      "source": [
        "# Checking for Null Values #will need to drop?\n",
        "df.isnull().sum()"
      ],
      "metadata": {
        "id": "p8gc7pMt_58-",
        "colab": {
          "base_uri": "https://localhost:8080/"
        },
        "outputId": "70a442c1-9680-4815-a966-fdc676c6d437"
      },
      "execution_count": null,
      "outputs": [
        {
          "output_type": "execute_result",
          "data": {
            "text/plain": [
              "crash_record_id                    0\n",
              "crash_date                         0\n",
              "posted_speed_limit                 0\n",
              "traffic_control_device             0\n",
              "device_condition                   0\n",
              "weather_condition                  0\n",
              "lighting_condition                 0\n",
              "first_crash_type                   0\n",
              "trafficway_type                    0\n",
              "alignment                          0\n",
              "roadway_surface_cond               0\n",
              "road_defect                        0\n",
              "report_type                       14\n",
              "crash_type                         0\n",
              "hit_and_run_i                    694\n",
              "damage                             0\n",
              "date_police_notified               0\n",
              "prim_contributory_cause            0\n",
              "sec_contributory_cause             0\n",
              "street_no                          0\n",
              "street_direction                   0\n",
              "street_name                        0\n",
              "beat_of_occurrence                 0\n",
              "num_units                          0\n",
              "most_severe_injury                 2\n",
              "injuries_total                     2\n",
              "injuries_fatal                     2\n",
              "injuries_incapacitating            2\n",
              "injuries_non_incapacitating        2\n",
              "injuries_reported_not_evident      2\n",
              "injuries_no_indication             2\n",
              "injuries_unknown                   2\n",
              "crash_hour                         0\n",
              "crash_day_of_week                  0\n",
              "crash_month                        0\n",
              "latitude                           9\n",
              "longitude                          9\n",
              "location                           9\n",
              ":@computed_region_rpca_8um6        9\n",
              "intersection_related_i           770\n",
              "photos_taken_i                   979\n",
              "private_property_i               960\n",
              "statements_taken_i               965\n",
              "crash_date_est_i                 941\n",
              "dooring_i                        998\n",
              "dtype: int64"
            ]
          },
          "metadata": {},
          "execution_count": 7
        }
      ]
    },
    {
      "cell_type": "code",
      "source": [
        "# Drop columns with any missing values\n",
        "df_cleaned = df.dropna(axis=1)\n"
      ],
      "metadata": {
        "id": "y4EVfCXgMIqJ"
      },
      "execution_count": null,
      "outputs": []
    },
    {
      "cell_type": "code",
      "source": [
        "#checking fior null values\n",
        "df_cleaned.isnull().sum()"
      ],
      "metadata": {
        "colab": {
          "base_uri": "https://localhost:8080/"
        },
        "id": "haogUYb6Mebz",
        "outputId": "adcb89cd-113e-49a8-e171-139c70f6734e"
      },
      "execution_count": null,
      "outputs": [
        {
          "output_type": "execute_result",
          "data": {
            "text/plain": [
              "crash_record_id            0\n",
              "crash_date                 0\n",
              "posted_speed_limit         0\n",
              "traffic_control_device     0\n",
              "device_condition           0\n",
              "weather_condition          0\n",
              "lighting_condition         0\n",
              "first_crash_type           0\n",
              "trafficway_type            0\n",
              "alignment                  0\n",
              "roadway_surface_cond       0\n",
              "road_defect                0\n",
              "crash_type                 0\n",
              "damage                     0\n",
              "date_police_notified       0\n",
              "prim_contributory_cause    0\n",
              "sec_contributory_cause     0\n",
              "street_no                  0\n",
              "street_direction           0\n",
              "street_name                0\n",
              "beat_of_occurrence         0\n",
              "num_units                  0\n",
              "crash_hour                 0\n",
              "crash_day_of_week          0\n",
              "crash_month                0\n",
              "dtype: int64"
            ]
          },
          "metadata": {},
          "execution_count": 15
        }
      ]
    },
    {
      "cell_type": "markdown",
      "source": [
        "# Light Quality Analysis/Investigation"
      ],
      "metadata": {
        "id": "SQoBAiZwAXfp"
      }
    },
    {
      "cell_type": "code",
      "source": [
        "# Print all column names to verify the correct column name\n",
        "print(df.columns)\n"
      ],
      "metadata": {
        "colab": {
          "base_uri": "https://localhost:8080/"
        },
        "id": "zx3l09PlO6h_",
        "outputId": "00bf26f8-3c5a-4b3d-af15-cb6b3b554013"
      },
      "execution_count": null,
      "outputs": [
        {
          "output_type": "stream",
          "name": "stdout",
          "text": [
            "Index(['crash_record_id', 'crash_date', 'posted_speed_limit',\n",
            "       'traffic_control_device', 'device_condition', 'weather_condition',\n",
            "       'lighting_condition', 'first_crash_type', 'trafficway_type',\n",
            "       'alignment', 'roadway_surface_cond', 'road_defect', 'report_type',\n",
            "       'crash_type', 'hit_and_run_i', 'damage', 'date_police_notified',\n",
            "       'prim_contributory_cause', 'sec_contributory_cause', 'street_no',\n",
            "       'street_direction', 'street_name', 'beat_of_occurrence', 'num_units',\n",
            "       'most_severe_injury', 'injuries_total', 'injuries_fatal',\n",
            "       'injuries_incapacitating', 'injuries_non_incapacitating',\n",
            "       'injuries_reported_not_evident', 'injuries_no_indication',\n",
            "       'injuries_unknown', 'crash_hour', 'crash_day_of_week', 'crash_month',\n",
            "       'latitude', 'longitude', 'location', ':@computed_region_rpca_8um6',\n",
            "       'intersection_related_i', 'photos_taken_i', 'private_property_i',\n",
            "       'statements_taken_i', 'crash_date_est_i', 'dooring_i'],\n",
            "      dtype='object')\n"
          ]
        }
      ]
    },
    {
      "cell_type": "code",
      "source": [
        "print('crash_day_of_week'+ str(sorted(df['crash_day_of_week'].unique())))"
      ],
      "metadata": {
        "id": "IogGGW6wAW7J",
        "colab": {
          "base_uri": "https://localhost:8080/"
        },
        "outputId": "8ad17cba-a16d-4455-adef-8742ebd9d24f"
      },
      "execution_count": null,
      "outputs": [
        {
          "output_type": "stream",
          "name": "stdout",
          "text": [
            "crash_day_of_week['1', '2', '3', '4', '6', '7']\n"
          ]
        }
      ]
    },
    {
      "cell_type": "code",
      "source": [
        "print('EDUCATION ' + str(sorted(df['EDUCATION'].unique())))  # treat 0, 5, and 6"
      ],
      "metadata": {
        "id": "e-6gQ8HTAtya"
      },
      "execution_count": null,
      "outputs": []
    },
    {
      "cell_type": "code",
      "source": [
        "print('MARRIAGE ' + str(sorted(df['MARRIAGE'].unique())))  # treat 0"
      ],
      "metadata": {
        "id": "EMzO_dLZBF6I"
      },
      "execution_count": null,
      "outputs": []
    },
    {
      "cell_type": "code",
      "source": [
        "print('PAY_0 ' + str(sorted(df['PAY_0'].unique()))) # treat -2 and 0"
      ],
      "metadata": {
        "id": "LdyX4b91BT-7"
      },
      "execution_count": null,
      "outputs": []
    },
    {
      "cell_type": "code",
      "source": [
        "print('default.payment.next.month ' + str(sorted(df['default payment next month'].unique())))"
      ],
      "metadata": {
        "id": "sUXj-ZlTBdMU"
      },
      "execution_count": null,
      "outputs": []
    },
    {
      "cell_type": "code",
      "source": [
        "fill = (df.EDUCATION == 0) | (df.EDUCATION == 5) | (df.EDUCATION == 6)\n",
        "df.loc[fill, 'EDUCATION'] = 4"
      ],
      "metadata": {
        "id": "puOKQGXxBrru"
      },
      "execution_count": null,
      "outputs": []
    },
    {
      "cell_type": "code",
      "source": [
        "print('EDUCATION ' + str(sorted(df['EDUCATION'].unique())))  # treat 0, 5, and 6"
      ],
      "metadata": {
        "id": "AttA-yvNB9Hm"
      },
      "execution_count": null,
      "outputs": []
    },
    {
      "cell_type": "code",
      "source": [
        "fill = (df.MARRIAGE == 0)\n",
        "df.loc[fill, 'MARRIAGE'] = 2"
      ],
      "metadata": {
        "id": "8QzblhwmCHUT"
      },
      "execution_count": null,
      "outputs": []
    },
    {
      "cell_type": "code",
      "source": [
        "df = df.rename(columns={'default payment next month': 'DEFAULT', 'PAY_0': 'PAY_1'})\n",
        "df.head()"
      ],
      "metadata": {
        "id": "-pwQWR_1CPNi"
      },
      "execution_count": null,
      "outputs": []
    },
    {
      "cell_type": "markdown",
      "source": [
        "# EDA:  Univaraite Analysis / Content Investigation"
      ],
      "metadata": {
        "id": "_hPV2DUbCiq9"
      }
    },
    {
      "cell_type": "code",
      "source": [
        "sns.countplot(x=\"DEFAULT\", data=df)"
      ],
      "metadata": {
        "id": "8pujZfWoChxc"
      },
      "execution_count": null,
      "outputs": []
    },
    {
      "cell_type": "code",
      "source": [
        "df['DEFAULT'].value_counts()"
      ],
      "metadata": {
        "id": "aazqbVLqCoix"
      },
      "execution_count": null,
      "outputs": []
    },
    {
      "cell_type": "code",
      "source": [
        "6636 / (23364 + 6636)"
      ],
      "metadata": {
        "id": "uu7GMxhxDLjJ"
      },
      "execution_count": null,
      "outputs": []
    },
    {
      "cell_type": "code",
      "source": [
        "sns.countplot(x=\"SEX\", data=df)"
      ],
      "metadata": {
        "id": "LcMtIwsXDRoL"
      },
      "execution_count": null,
      "outputs": []
    },
    {
      "cell_type": "code",
      "source": [
        "df['SEX'].value_counts()"
      ],
      "metadata": {
        "id": "fgTCvwbKDnQ8"
      },
      "execution_count": null,
      "outputs": []
    },
    {
      "cell_type": "code",
      "source": [
        "sns.countplot(x=\"EDUCATION\", data=df)"
      ],
      "metadata": {
        "id": "T1yn1T2tDwDv"
      },
      "execution_count": null,
      "outputs": []
    },
    {
      "cell_type": "code",
      "source": [
        "df['EDUCATION'].value_counts()"
      ],
      "metadata": {
        "id": "WVvJlhrFENUY"
      },
      "execution_count": null,
      "outputs": []
    },
    {
      "cell_type": "code",
      "source": [
        "sns.countplot(x=\"MARRIAGE\", data=df)"
      ],
      "metadata": {
        "id": "MtzEfv5kEf1G"
      },
      "execution_count": null,
      "outputs": []
    },
    {
      "cell_type": "code",
      "source": [
        "df['MARRIAGE'].value_counts()"
      ],
      "metadata": {
        "id": "wVEZgtR5EjGI"
      },
      "execution_count": null,
      "outputs": []
    },
    {
      "cell_type": "markdown",
      "source": [
        "# Bivariate Analysis"
      ],
      "metadata": {
        "id": "JJsuJpn_E2oy"
      }
    },
    {
      "cell_type": "code",
      "source": [
        "sns.set(rc={'figure.figsize':(15,10)})\n",
        "edu = sns.countplot(x='SEX', hue='DEFAULT', data=df)\n",
        "edu.set_xticklabels(['Male','Female'])\n",
        "plt.show()"
      ],
      "metadata": {
        "id": "3hfb6l48E0em"
      },
      "execution_count": null,
      "outputs": []
    },
    {
      "cell_type": "code",
      "source": [
        "pd.crosstab(df.SEX,df.DEFAULT,normalize='index',margins=True)"
      ],
      "metadata": {
        "id": "ITNjgSwjGo8P"
      },
      "execution_count": null,
      "outputs": []
    },
    {
      "cell_type": "code",
      "source": [
        "sns.set(rc={'figure.figsize':(15,10)})\n",
        "edu = sns.countplot(x='EDUCATION', hue='DEFAULT', data=df)\n",
        "edu.set_xticklabels(['Graduate School','University','High School','Other'])\n",
        "plt.show()"
      ],
      "metadata": {
        "id": "vePfihqWHJJN"
      },
      "execution_count": null,
      "outputs": []
    },
    {
      "cell_type": "code",
      "source": [
        "pd.crosstab(df.EDUCATION,df.DEFAULT,normalize='index')"
      ],
      "metadata": {
        "id": "KvlxLnqJHStJ"
      },
      "execution_count": null,
      "outputs": []
    },
    {
      "cell_type": "code",
      "source": [
        "sns.set(rc={'figure.figsize':(12,10)})\n",
        "marriage = sns.countplot(x=\"MARRIAGE\", hue='DEFAULT', data=df)\n",
        "marriage.set_xticklabels(['Married','Single','Other'])\n",
        "plt.show()"
      ],
      "metadata": {
        "id": "82xn0Wq1HvWZ"
      },
      "execution_count": null,
      "outputs": []
    },
    {
      "cell_type": "code",
      "source": [
        "pd.crosstab(df.MARRIAGE,df.DEFAULT,normalize='index',margins=True)"
      ],
      "metadata": {
        "id": "ZNkrC0awHymR"
      },
      "execution_count": null,
      "outputs": []
    },
    {
      "cell_type": "code",
      "source": [
        "pd.crosstab(df.PAY_1,df.DEFAULT,margins=True)"
      ],
      "metadata": {
        "id": "mDHGn2YUIAva"
      },
      "execution_count": null,
      "outputs": []
    },
    {
      "cell_type": "code",
      "source": [
        "pd.crosstab(df.AGE,df.DEFAULT)"
      ],
      "metadata": {
        "id": "NK5T3q_MJQ5I"
      },
      "execution_count": null,
      "outputs": []
    },
    {
      "cell_type": "code",
      "source": [
        "pd.crosstab(df.AGE,df.DEFAULT,normalize='index',margins=True)"
      ],
      "metadata": {
        "id": "PurB-yEPJpAs"
      },
      "execution_count": null,
      "outputs": []
    },
    {
      "cell_type": "code",
      "source": [],
      "metadata": {
        "id": "w-fpXhEjKP0i"
      },
      "execution_count": null,
      "outputs": []
    },
    {
      "cell_type": "markdown",
      "source": [
        "# Correlation"
      ],
      "metadata": {
        "id": "iqoC3yiEKRWQ"
      }
    },
    {
      "cell_type": "code",
      "source": [
        "sns.set(rc={'figure.figsize':(30,10)})\n",
        "sns.set_context(\"talk\", font_scale=0.7)"
      ],
      "metadata": {
        "id": "g_E5lBT3KWkO"
      },
      "execution_count": null,
      "outputs": []
    },
    {
      "cell_type": "code",
      "source": [
        "sns.heatmap(df.iloc[:,1:].corr(method='spearman'), cmap='rainbow_r', annot=True)"
      ],
      "metadata": {
        "id": "30z01YW_KcQl"
      },
      "execution_count": null,
      "outputs": []
    },
    {
      "cell_type": "code",
      "source": [
        "df.drop(\"DEFAULT\", axis=1).apply(lambda x: x.corr(df.DEFAULT,method='spearman'))\n"
      ],
      "metadata": {
        "id": "Pxal2ElILujk"
      },
      "execution_count": null,
      "outputs": []
    }
  ]
}