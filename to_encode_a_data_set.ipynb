{
  "nbformat": 4,
  "nbformat_minor": 0,
  "metadata": {
    "colab": {
      "provenance": [],
      "authorship_tag": "ABX9TyNj0gwloDvnoSot4pRU2YNn",
      "include_colab_link": true
    },
    "kernelspec": {
      "name": "python3",
      "display_name": "Python 3"
    },
    "language_info": {
      "name": "python"
    }
  },
  "cells": [
    {
      "cell_type": "markdown",
      "metadata": {
        "id": "view-in-github",
        "colab_type": "text"
      },
      "source": [
        "<a href=\"https://colab.research.google.com/github/Requenamar3/datawrangling/blob/main/to_encode_a_data_set.ipynb\" target=\"_parent\"><img src=\"https://colab.research.google.com/assets/colab-badge.svg\" alt=\"Open In Colab\"/></a>"
      ]
    },
    {
      "cell_type": "code",
      "execution_count": null,
      "metadata": {
        "id": "SN8JodgZXrwD"
      },
      "outputs": [],
      "source": [
        "\n",
        "# Normalize\n",
        "mass column scaler = MinMaxScaler() df['mass (g)'] = scaler.fit_transform(df[['mass (g)']])\n",
        "\n",
        "# One-hot encode recclass encoder = OneHotEncoder(sparse=False) recclass_encoded = encoder.fit_transform(df[['recclass']])\n",
        "\n",
        "# Use get_feature_names_out for newer versions of scikit-learn recclass_df = pd.DataFrame(recclass_encoded, columns=encoder.get_feature_names_out(['recclass']))\n",
        "\n",
        "# Concatenate the one-hot encoded columns back to the original dataframe df_encoded = pd.concat([df, recclass_df], axis=1).drop(['name', 'id', 'nametype', 'fall', 'year', 'recclass', 'GeoLocation'], axis=1)\n",
        "\n",
        "# Split data into features and target X = df_encoded.drop(['reclat', 'reclong'], axis=1) y = df_encoded[['reclat', 'reclong']]\n",
        "# Train/test split X_train, X_test, y_train, y_test = train_test_split(X, y, test_size=0.2, random_state=42)\n"
      ]
    }
  ]
}