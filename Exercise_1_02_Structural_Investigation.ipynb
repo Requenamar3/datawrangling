{
  "nbformat": 4,
  "nbformat_minor": 0,
  "metadata": {
    "colab": {
      "provenance": []
    },
    "kernelspec": {
      "name": "python3",
      "display_name": "Python 3"
    },
    "language_info": {
      "name": "python"
    }
  },
  "cells": [
    {
      "cell_type": "markdown",
      "source": [
        "## **Exercise 1.02 - Guided Exercise**\n",
        "### Performing Structure Investigation on the Dataset"
      ],
      "metadata": {
        "id": "PHolGx4JugWl"
      }
    },
    {
      "cell_type": "markdown",
      "source": [
        "### Importing Libraries"
      ],
      "metadata": {
        "id": "VDgvjh8kzWt1"
      }
    },
    {
      "cell_type": "code",
      "execution_count": null,
      "metadata": {
        "id": "ZVROL5U5Qn0T"
      },
      "outputs": [],
      "source": [
        "import pandas as pd\n",
        "import numpy as np\n",
        "import scipy.stats as stats\n",
        "import matplotlib.pyplot as plt\n",
        "import seaborn as sns\n",
        "from sklearn.model_selection import train_test_split\n",
        "from sklearn.linear_model import LogisticRegression\n",
        "from sklearn.metrics import classification_report\n",
        "\n",
        "%matplotlib inline"
      ]
    },
    {
      "cell_type": "code",
      "source": [
        "import ssl\n",
        "ssl._create_default_https_context = ssl._create_unverified_context\n",
        "\n",
        "import certifi\n",
        "from sklearn.datasets import fetch_openml"
      ],
      "metadata": {
        "id": "Dq4a_UAeSVT2"
      },
      "execution_count": null,
      "outputs": []
    },
    {
      "cell_type": "markdown",
      "source": [
        "### Loading the Data"
      ],
      "metadata": {
        "id": "0rg0LexYzdzZ"
      }
    },
    {
      "cell_type": "code",
      "source": [
        "\n",
        "df_X = pd.read_csv('https://raw.githubusercontent.com/fenago/datawrangling/main/miami-housing.csv')\n",
        "df_X.sample(5)\n",
        "df_X.head()"
      ],
      "metadata": {
        "id": "P00Y6YbaSkxX"
      },
      "execution_count": null,
      "outputs": []
    },
    {
      "cell_type": "markdown",
      "source": [
        "## **Structure Investigation**\n",
        "Before looking at the content of our feature matrix , let's first look at the general structure of the dataset. For example, how many columns and rows does the dataset have?\n"
      ],
      "metadata": {
        "id": "GMkDeWtgoRM3"
      }
    },
    {
      "cell_type": "code",
      "source": [
        "# Show size of the dataset\n",
        "df_X.shape\n"
      ],
      "metadata": {
        "id": "Qlj3lv8poT8D"
      },
      "execution_count": null,
      "outputs": []
    },
    {
      "cell_type": "code",
      "source": [
        "# Count how many times each data type is present in the dataset\n",
        "pd.value_counts(df_X.dtypes)"
      ],
      "metadata": {
        "id": "qXAirAjsolY4"
      },
      "execution_count": null,
      "outputs": []
    },
    {
      "cell_type": "markdown",
      "source": [
        "## Structure of numerical features\n",
        "Next, take a closer look at the numerical features. More precisely, investigate how many unique values each of these feature has. This process will give some insights about the number of binary (2 unique values), ordinal (3 to ~10 unique values) and continuous (more than 10 unique values) features in the dataset."
      ],
      "metadata": {
        "id": "cZwoBLrJusia"
      }
    },
    {
      "cell_type": "code",
      "source": [
        "# For each numerical feature compute number of unique entries\n",
        "unique_values = df_X.select_dtypes(include='number').nunique().sort_values()\n",
        "plt.figure(figsize=(15, 4))\n",
        "sns.set_style('whitegrid')\n"
      ],
      "metadata": {
        "id": "VeBD5qY3umbl"
      },
      "execution_count": null,
      "outputs": []
    },
    {
      "cell_type": "code",
      "source": [
        "g = sns.barplot(x=unique_values.index, y=unique_values, palette='inferno')\n",
        "g.set_yscale(\"log\")\n",
        "g.set_xticklabels(g.get_xticklabels(), rotation=45, horizontalalignment='right')\n",
        "g.set_title('Unique values per frequency')\n",
        "plt.show()"
      ],
      "metadata": {
        "id": "CT7pbHBVuyfV"
      },
      "execution_count": null,
      "outputs": []
    },
    {
      "cell_type": "markdown",
      "source": [
        "## Conclusion of structure investigation\n",
        "At the end of this first investigation, we should have a better understanding of the general structure of our dataset. Number of samples and features, what kind of data type each feature has, and how many of them are binary, ordinal, categorical or continuous. "
      ],
      "metadata": {
        "id": "RUDrUb-3wgLO"
      }
    },
    {
      "cell_type": "code",
      "source": [
        "df_X.info() \n",
        "df_X.describe()"
      ],
      "metadata": {
        "id": "xPk4-A_3wT2y"
      },
      "execution_count": null,
      "outputs": []
    }
  ]
}