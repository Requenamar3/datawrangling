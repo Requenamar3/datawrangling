{
  "nbformat": 4,
  "nbformat_minor": 0,
  "metadata": {
    "colab": {
      "provenance": []
    },
    "kernelspec": {
      "name": "python3",
      "display_name": "Python 3"
    },
    "language_info": {
      "name": "python"
    }
  },
  "cells": [
    {
      "cell_type": "markdown",
      "source": [
        "## **Exercise 2.03: Guided Exercise**\n",
        "### Multivariate Analysis"
      ],
      "metadata": {
        "id": "HA01LFSKohaA"
      }
    },
    {
      "cell_type": "markdown",
      "source": [
        "### Importing Libraries"
      ],
      "metadata": {
        "id": "WHANE9bmXYJ3"
      }
    },
    {
      "cell_type": "code",
      "execution_count": 1,
      "metadata": {
        "id": "V8HcZR9bogC-"
      },
      "outputs": [],
      "source": [
        "# Import basic libraries\n",
        "import numpy as np \n",
        "import pandas as pd \n"
      ]
    },
    {
      "cell_type": "code",
      "source": [
        "# import visualization libraries\n",
        "import seaborn as sns\n",
        "import matplotlib.pyplot as plt\n",
        "%matplotlib inline\n"
      ],
      "metadata": {
        "id": "U3iWa5zypQJL"
      },
      "execution_count": 2,
      "outputs": []
    },
    {
      "cell_type": "markdown",
      "source": [
        "### Loading the Data"
      ],
      "metadata": {
        "id": "eHJKXdZQXdbb"
      }
    },
    {
      "cell_type": "code",
      "source": [
        "df = pd.read_csv('https://raw.githubusercontent.com/fenago/datawrangling/main/Chapter%202/Directory-of-Representatives-Jan-17.csv')\n",
        "df.head(5)\n",
        "df.info()"
      ],
      "metadata": {
        "id": "f4wlIUyjpSfC"
      },
      "execution_count": null,
      "outputs": []
    },
    {
      "cell_type": "code",
      "source": [
        "print(df.duplicated().sum())\n"
      ],
      "metadata": {
        "id": "3-QvLrlhpgwQ"
      },
      "execution_count": null,
      "outputs": []
    },
    {
      "cell_type": "markdown",
      "source": [
        "### Data Preprocessing"
      ],
      "metadata": {
        "id": "XpKXVueRXu0e"
      }
    },
    {
      "cell_type": "code",
      "source": [
        "df.describe().T"
      ],
      "metadata": {
        "id": "Ntkg8h_KpsVx"
      },
      "execution_count": null,
      "outputs": []
    },
    {
      "cell_type": "code",
      "source": [
        "df.isnull().sum()\n",
        "print(df.District)"
      ],
      "metadata": {
        "id": "bPBAUtcipuHP"
      },
      "execution_count": null,
      "outputs": []
    },
    {
      "cell_type": "code",
      "source": [
        "print('Name' + str(sorted(df['Name'].unique())))\n",
        "print('State' + str(sorted(df['State'].unique())))\n",
        "print('District' + str(sorted(df['District'].unique())))\n",
        "print('Party' + str(sorted(df['Party'].unique())))\n",
        "print('Room' + str(sorted(df['Room'].unique())))\n",
        "print('Phone' + str(sorted(df['Phone'].unique())))"
      ],
      "metadata": {
        "id": "2uOtRCh2PDlK"
      },
      "execution_count": null,
      "outputs": []
    },
    {
      "cell_type": "code",
      "source": [
        "df = df[df.District != -1]\n",
        "print('District ' + str(sorted(df['District'].unique())))"
      ],
      "metadata": {
        "id": "Se3KBIX8MAQe"
      },
      "execution_count": null,
      "outputs": []
    },
    {
      "cell_type": "code",
      "source": [
        "df = df.rename(columns={'Committee Assignment': 'Assignment', \n",
        "                        'House Positions': 'Positions'})\n",
        "df.head()"
      ],
      "metadata": {
        "id": "LQSQdrPYMHyB"
      },
      "execution_count": null,
      "outputs": []
    },
    {
      "cell_type": "code",
      "source": [
        "df.describe(include='all')\n",
        "df.info()"
      ],
      "metadata": {
        "id": "XcxxMAv5RNKQ"
      },
      "execution_count": null,
      "outputs": []
    },
    {
      "cell_type": "markdown",
      "source": [
        "### **Univariate Analysis of Continuous Variables**\n"
      ],
      "metadata": {
        "id": "Z2gKgHJ8RW1o"
      }
    },
    {
      "cell_type": "code",
      "source": [
        "# store columns with specific data type\n",
        "integer_columns = df.select_dtypes(include=['int64']).columns\n",
        "float_columns = df.select_dtypes(include=['float64']).columns\n",
        "object_columns = df.select_dtypes(include=['object']).columns\n"
      ],
      "metadata": {
        "id": "IlQ_S-nuReVE"
      },
      "execution_count": 10,
      "outputs": []
    },
    {
      "cell_type": "code",
      "source": [
        "  # display columns\n",
        "print('\\nint64 columns:\\n',integer_columns)\n",
        "print('\\nfloat64 columns:\\n',float_columns)\n",
        "print('\\nobject columns:\\n',object_columns)\n",
        "\n",
        "# Remove the .columns and it saves it as a dataframe\n",
        "num_features = df.select_dtypes(exclude=['object'])\n",
        "cat_features = df.select_dtypes(include=['object'])\n",
        "type(num_features)\n",
        "type(cat_features)\n",
        "cat_features"
      ],
      "metadata": {
        "id": "v4zHgxqeRhkl"
      },
      "execution_count": null,
      "outputs": []
    },
    {
      "cell_type": "code",
      "source": [
        "num_list = ['District']\n",
        "num_list\n"
      ],
      "metadata": {
        "id": "Z6a9tdk1Rl6m"
      },
      "execution_count": null,
      "outputs": []
    },
    {
      "cell_type": "code",
      "source": [
        "cat_list = ['Name', 'State', 'Party', 'Room', 'Phone', 'House Positions',\n",
        "       'Committee Assignment']"
      ],
      "metadata": {
        "id": "0VRkLCU-RoP-"
      },
      "execution_count": 13,
      "outputs": []
    },
    {
      "cell_type": "code",
      "source": [
        "# Remove the .columns and it saves it as a dataframe\n",
        "num_features = df.select_dtypes(exclude=['object'])\n",
        "cat_features = df.select_dtypes(include=['object'])\n",
        "type(num_features)\n",
        "type(cat_features)\n",
        "num_features.describe(include='all')"
      ],
      "metadata": {
        "id": "UYWfczqnSZEc"
      },
      "execution_count": null,
      "outputs": []
    },
    {
      "cell_type": "markdown",
      "source": [
        "## Plotting histograms \n",
        "\n",
        "\n"
      ],
      "metadata": {
        "id": "gjiPgGKmTUOy"
      }
    },
    {
      "cell_type": "code",
      "source": [
        "plt.figure(figsize=(12,5))\n",
        "df['District'].plot(kind='density')\n",
        "plt.axvline(x=df.District.mean(),label='mean',color='Red')\n",
        "plt.axvline(x=df.District.median(),label='median',color='Green')\n",
        "plt.boxplot\n"
      ],
      "metadata": {
        "id": "2BKukRbETdiw"
      },
      "execution_count": null,
      "outputs": []
    },
    {
      "cell_type": "code",
      "source": [
        "sns.histplot(df.District,kde=True)\n"
      ],
      "metadata": {
        "id": "6nhUYTQKfR46"
      },
      "execution_count": null,
      "outputs": []
    },
    {
      "cell_type": "code",
      "source": [
        "sns.countplot(x=\"Name\", data=df)\n",
        "df['Name'].value_counts()\n"
      ],
      "metadata": {
        "id": "3JyBYRKYgZIX"
      },
      "execution_count": null,
      "outputs": []
    },
    {
      "cell_type": "code",
      "source": [
        "sns.countplot(x=\"State\", data=df)\n",
        "df['State'].value_counts()\n"
      ],
      "metadata": {
        "id": "KJ99rYqCgbsv"
      },
      "execution_count": null,
      "outputs": []
    },
    {
      "cell_type": "code",
      "source": [
        "sns.countplot(x=\"Party\", data=df)\n",
        "df['Party'].value_counts()\n"
      ],
      "metadata": {
        "id": "yGZ2kGbhgdRe"
      },
      "execution_count": null,
      "outputs": []
    },
    {
      "cell_type": "code",
      "source": [
        "sns.countplot(x=\"Room\", data=df)\n",
        "df['Room'].value_counts()\n"
      ],
      "metadata": {
        "id": "sT85Wn5bggdc"
      },
      "execution_count": null,
      "outputs": []
    },
    {
      "cell_type": "code",
      "source": [
        "sns.countplot(x=\"Phone\", data=df)\n",
        "df['Phone'].value_counts()\n"
      ],
      "metadata": {
        "id": "eOnZVhdrgh7m"
      },
      "execution_count": null,
      "outputs": []
    },
    {
      "cell_type": "code",
      "source": [
        "sns.countplot(x=\"House Positions\", data=df)\n",
        "df['House Positions'].value_counts()"
      ],
      "metadata": {
        "id": "yN0DRF4FEurw"
      },
      "execution_count": null,
      "outputs": []
    },
    {
      "cell_type": "code",
      "source": [
        "sns.countplot(x=\"Committee Assignment\", data=df)\n",
        "df['Committee Assignment'].value_counts()"
      ],
      "metadata": {
        "id": "mUoSkAVCEune"
      },
      "execution_count": null,
      "outputs": []
    },
    {
      "cell_type": "code",
      "source": [
        "sns.set(rc={'figure.figsize':(15,10)})\n",
        "sex = sns.countplot(x='District', hue='State', data=df)\n",
        "plt.show()"
      ],
      "metadata": {
        "id": "Wu-A0mETgjp3"
      },
      "execution_count": null,
      "outputs": []
    },
    {
      "cell_type": "code",
      "source": [
        "pd.crosstab(df.State,df.Room,margins=True)"
      ],
      "metadata": {
        "id": "HXp9GDR3j4F3"
      },
      "execution_count": null,
      "outputs": []
    },
    {
      "cell_type": "code",
      "source": [
        "pd.crosstab(df.State,df.Room,normalize='index')\n"
      ],
      "metadata": {
        "id": "NfWquih1lzko"
      },
      "execution_count": null,
      "outputs": []
    },
    {
      "cell_type": "code",
      "source": [
        "sns.set(rc={'figure.figsize':(15,10)})\n",
        "edu = sns.countplot(x='Room', hue='State', data=df)\n",
        "plt.show()"
      ],
      "metadata": {
        "id": "8eOLNXfll2Cu"
      },
      "execution_count": null,
      "outputs": []
    },
    {
      "cell_type": "code",
      "source": [
        "pd.crosstab(df.Room,df.State,margins=True)\n"
      ],
      "metadata": {
        "id": "t65WRaVAl3p5"
      },
      "execution_count": null,
      "outputs": []
    },
    {
      "cell_type": "code",
      "source": [
        "pd.crosstab(df.Room,df.State,normalize='index')"
      ],
      "metadata": {
        "id": "Kp6ui7yNl5qp"
      },
      "execution_count": null,
      "outputs": []
    },
    {
      "cell_type": "markdown",
      "source": [
        "## **Bivariate Analysis of Categorical Variables vs Continuous Variables:**\n",
        "GroupBy: First, we will perform the GroupBy operation on the continuous variables. Groupby allows us to split our data into separate groups to perform computations for better analysis.\n"
      ],
      "metadata": {
        "id": "NcfO1LoJoqHw"
      }
    },
    {
      "cell_type": "code",
      "source": [
        "\n",
        "# Get a global view of all continuous variables with respect to a single categorical variable\n",
        "# This can take a long time to run - you may want to limit the charts\n",
        "# this is for the eyeball test.  look for obvious patterns\n",
        "\n",
        "# sns.pairplot(data=df[num_list],hue='is_recid')\n",
        " \n",
        "# by=<catagorical variable... then - everything after that is a numeric (continuous variable)\n",
        "df.groupby(by='State').agg('mean')\n"
      ],
      "metadata": {
        "id": "xUyG8wjkouJe"
      },
      "execution_count": null,
      "outputs": []
    },
    {
      "cell_type": "code",
      "source": [
        "df.groupby(by='State').agg('mean')[['District']]"
      ],
      "metadata": {
        "id": "Fb1_1A3XrSnO"
      },
      "execution_count": null,
      "outputs": []
    },
    {
      "cell_type": "code",
      "source": [
        "\n",
        "# x = <NUMERIC VARIABLE>, hue = <CATEGORICAL VARIABLE>\n",
        "plt.figure(figsize=(12,8))\n",
        "sns.kdeplot(data=df,x='District',hue='State',fill=True)\n"
      ],
      "metadata": {
        "id": "XatO8KXVqx62"
      },
      "execution_count": null,
      "outputs": []
    },
    {
      "cell_type": "code",
      "source": [
        "plt.figure(figsize=(12,8))\n",
        "sns.kdeplot(data=df,x='District',hue='Name',fill=True)"
      ],
      "metadata": {
        "id": "hpSYbuWYHcz3"
      },
      "execution_count": null,
      "outputs": []
    },
    {
      "cell_type": "markdown",
      "source": [
        "## Correlation"
      ],
      "metadata": {
        "id": "S_CPZzvpvTgI"
      }
    },
    {
      "cell_type": "code",
      "source": [
        "num_features.corr()"
      ],
      "metadata": {
        "id": "vJjhDfXDvVQ8"
      },
      "execution_count": null,
      "outputs": []
    },
    {
      "cell_type": "code",
      "source": [
        "sns.set(rc={'figure.figsize':(30,10)})\n",
        "sns.set_context(\"talk\", font_scale=0.7)"
      ],
      "metadata": {
        "id": "kGWPXcd8vXOM"
      },
      "execution_count": null,
      "outputs": []
    },
    {
      "cell_type": "code",
      "source": [
        "sns.heatmap(df.iloc[:,1:].corr(method='spearman'), cmap='rainbow_r', annot=True)"
      ],
      "metadata": {
        "id": "iqO38A4xvZiX"
      },
      "execution_count": null,
      "outputs": []
    },
    {
      "cell_type": "code",
      "source": [
        "df.drop(\"State\", axis=1).apply(lambda x: x.corr(df.State,method='spearman'))"
      ],
      "metadata": {
        "id": "CA-8bHrDvbjS"
      },
      "execution_count": null,
      "outputs": []
    },
    {
      "cell_type": "markdown",
      "source": [
        "## **Multivariate Analysis**"
      ],
      "metadata": {
        "id": "9JulXh_uCkVO"
      }
    },
    {
      "cell_type": "code",
      "source": [
        "num_list\n",
        "#numeric/numeric/categorical  or numeric/categorical/categorical\n"
      ],
      "metadata": {
        "id": "UAUxr8oSCoEP"
      },
      "execution_count": null,
      "outputs": []
    },
    {
      "cell_type": "code",
      "source": [
        "\n",
        "sns.boxplot(data=df,x='District',y='Room',hue='State')\n"
      ],
      "metadata": {
        "id": "tT4bWxY4Codm"
      },
      "execution_count": null,
      "outputs": []
    },
    {
      "cell_type": "code",
      "source": [
        "plt.style.use('ggplot')"
      ],
      "metadata": {
        "id": "l69osdw9CpUI"
      },
      "execution_count": 26,
      "outputs": []
    },
    {
      "cell_type": "code",
      "source": [
        "# Single Index - compare categorical value with all continuous values with pivot tables\n",
        "table = pd.pivot_table(data=df,index=['State'])\n",
        "table"
      ],
      "metadata": {
        "id": "BWl1vmEkDI_3"
      },
      "execution_count": null,
      "outputs": []
    },
    {
      "cell_type": "code",
      "source": [
        "#multiple indexes\n",
        "# Multiple  values with respect to all continuous values in the dataset\n",
        "table = pd.pivot_table(df,index=['Room','District'])\n",
        "table"
      ],
      "metadata": {
        "id": "x5X7SEiRDI2A"
      },
      "execution_count": null,
      "outputs": []
    },
    {
      "cell_type": "code",
      "source": [
        "table = pd.pivot_table(df,index=['Room','District','State'])\n",
        "table\n"
      ],
      "metadata": {
        "id": "w9tVLPsmDNNh"
      },
      "execution_count": null,
      "outputs": []
    },
    {
      "cell_type": "code",
      "source": [
        "# Aggregate on specific features with values parameter\n",
        "table = pd.pivot_table(df,index=['District','State'],dropna=False)\n",
        "table"
      ],
      "metadata": {
        "id": "pX5nStLPDowC"
      },
      "execution_count": null,
      "outputs": []
    },
    {
      "cell_type": "code",
      "source": [
        "table = df.pivot_table(index=['District','State'], \n",
        "               columns='Assignment',\n",
        "               aggfunc='size',\n",
        "               fill_value=0,)\n",
        "table\n"
      ],
      "metadata": {
        "id": "N7AHqrCoDoqX"
      },
      "execution_count": null,
      "outputs": []
    },
    {
      "cell_type": "code",
      "source": [
        "table = df.pivot_table(index=['District','State'], \n",
        "               columns='Assignment',\n",
        "               aggfunc='var',\n",
        "               fill_value=0,)\n",
        "table"
      ],
      "metadata": {
        "id": "_3mhm4kBCo6n"
      },
      "execution_count": null,
      "outputs": []
    }
  ]
}