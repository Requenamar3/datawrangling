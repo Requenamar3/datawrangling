{
  "nbformat": 4,
  "nbformat_minor": 0,
  "metadata": {
    "colab": {
      "provenance": []
    },
    "kernelspec": {
      "name": "python3",
      "display_name": "Python 3"
    },
    "language_info": {
      "name": "python"
    }
  },
  "cells": [
    {
      "cell_type": "markdown",
      "source": [
        "## **Exercise 2.01: Guided Exercise**\n",
        "### Univariate Analysis"
      ],
      "metadata": {
        "id": "HA01LFSKohaA"
      }
    },
    {
      "cell_type": "markdown",
      "source": [
        "### Importing Libraries"
      ],
      "metadata": {
        "id": "WHANE9bmXYJ3"
      }
    },
    {
      "cell_type": "code",
      "execution_count": 6,
      "metadata": {
        "id": "V8HcZR9bogC-"
      },
      "outputs": [],
      "source": [
        "# Import basic libraries\n",
        "import numpy as np \n",
        "import pandas as pd \n"
      ]
    },
    {
      "cell_type": "code",
      "source": [
        "# import visualization libraries\n",
        "import seaborn as sns\n",
        "import matplotlib.pyplot as plt\n",
        "%matplotlib inline\n"
      ],
      "metadata": {
        "id": "U3iWa5zypQJL"
      },
      "execution_count": 7,
      "outputs": []
    },
    {
      "cell_type": "markdown",
      "source": [
        "### Loading the Data"
      ],
      "metadata": {
        "id": "eHJKXdZQXdbb"
      }
    },
    {
      "cell_type": "code",
      "source": [
        "df = pd.read_csv('https://raw.githubusercontent.com/fenago/datawrangling/main/Chapter%202/Directory-of-Representatives-Jan-17.csv')\n",
        "df.head(5)\n",
        "df.info()"
      ],
      "metadata": {
        "id": "f4wlIUyjpSfC"
      },
      "execution_count": null,
      "outputs": []
    },
    {
      "cell_type": "code",
      "source": [
        "print(df.duplicated().sum())\n"
      ],
      "metadata": {
        "id": "3-QvLrlhpgwQ"
      },
      "execution_count": null,
      "outputs": []
    },
    {
      "cell_type": "markdown",
      "source": [
        "### Data Preprocessing"
      ],
      "metadata": {
        "id": "XpKXVueRXu0e"
      }
    },
    {
      "cell_type": "code",
      "source": [
        "df.describe().T"
      ],
      "metadata": {
        "id": "Ntkg8h_KpsVx"
      },
      "execution_count": null,
      "outputs": []
    },
    {
      "cell_type": "code",
      "source": [
        "df.isnull().sum()\n",
        "print(df.District)"
      ],
      "metadata": {
        "id": "bPBAUtcipuHP"
      },
      "execution_count": null,
      "outputs": []
    },
    {
      "cell_type": "code",
      "source": [
        "print('Name' + str(sorted(df['Name'].unique())))\n",
        "print('State' + str(sorted(df['State'].unique())))\n",
        "print('District' + str(sorted(df['District'].unique())))\n",
        "print('Party' + str(sorted(df['Party'].unique())))\n",
        "print('Room' + str(sorted(df['Room'].unique())))\n",
        "print('Phone' + str(sorted(df['Phone'].unique())))"
      ],
      "metadata": {
        "id": "2uOtRCh2PDlK"
      },
      "execution_count": null,
      "outputs": []
    },
    {
      "cell_type": "code",
      "source": [
        "df = df[df.District != -1]\n",
        "print('District ' + str(sorted(df['District'].unique())))"
      ],
      "metadata": {
        "id": "Se3KBIX8MAQe"
      },
      "execution_count": null,
      "outputs": []
    },
    {
      "cell_type": "code",
      "source": [
        "df = df.rename(columns={'Committee Assignment': 'Assignment', \n",
        "                        'House Positions': 'Positions'})\n",
        "df.head()"
      ],
      "metadata": {
        "id": "LQSQdrPYMHyB"
      },
      "execution_count": null,
      "outputs": []
    },
    {
      "cell_type": "code",
      "source": [
        "df.describe(include='all')\n",
        "df.info()"
      ],
      "metadata": {
        "id": "XcxxMAv5RNKQ"
      },
      "execution_count": null,
      "outputs": []
    },
    {
      "cell_type": "markdown",
      "source": [
        "### **Univariate Analysis of Continuous Variables**\n"
      ],
      "metadata": {
        "id": "Z2gKgHJ8RW1o"
      }
    },
    {
      "cell_type": "code",
      "source": [
        "# store columns with specific data type\n",
        "integer_columns = df.select_dtypes(include=['int64']).columns\n",
        "float_columns = df.select_dtypes(include=['float64']).columns\n",
        "object_columns = df.select_dtypes(include=['object']).columns\n"
      ],
      "metadata": {
        "id": "IlQ_S-nuReVE"
      },
      "execution_count": 25,
      "outputs": []
    },
    {
      "cell_type": "code",
      "source": [
        "  # display columns\n",
        "print('\\nint64 columns:\\n',integer_columns)\n",
        "print('\\nfloat64 columns:\\n',float_columns)\n",
        "print('\\nobject columns:\\n',object_columns)\n",
        "\n",
        "# Remove the .columns and it saves it as a dataframe\n",
        "num_features = df.select_dtypes(exclude=['object'])\n",
        "cat_features = df.select_dtypes(include=['object'])\n",
        "type(num_features)\n",
        "type(cat_features)\n",
        "cat_features"
      ],
      "metadata": {
        "id": "v4zHgxqeRhkl"
      },
      "execution_count": null,
      "outputs": []
    },
    {
      "cell_type": "code",
      "source": [
        "num_list = ['District']\n",
        "num_list\n"
      ],
      "metadata": {
        "id": "Z6a9tdk1Rl6m"
      },
      "execution_count": null,
      "outputs": []
    },
    {
      "cell_type": "code",
      "source": [
        "cat_list = ['Name', 'State', 'Party', 'Room', 'Phone', 'House Positions',\n",
        "       'Committee Assignment']"
      ],
      "metadata": {
        "id": "0VRkLCU-RoP-"
      },
      "execution_count": 28,
      "outputs": []
    },
    {
      "cell_type": "code",
      "source": [
        "# Remove the .columns and it saves it as a dataframe\n",
        "num_features = df.select_dtypes(exclude=['object'])\n",
        "cat_features = df.select_dtypes(include=['object'])\n",
        "type(num_features)\n",
        "type(cat_features)\n",
        "num_features.describe(include='all')"
      ],
      "metadata": {
        "id": "UYWfczqnSZEc"
      },
      "execution_count": null,
      "outputs": []
    },
    {
      "cell_type": "markdown",
      "source": [
        "## Plotting histograms \n",
        "\n",
        "\n"
      ],
      "metadata": {
        "id": "gjiPgGKmTUOy"
      }
    },
    {
      "cell_type": "code",
      "source": [
        "plt.figure(figsize=(12,5))\n",
        "df['District'].plot(kind='density')\n",
        "plt.axvline(x=df.District.mean(),label='mean',color='Red')\n",
        "plt.axvline(x=df.District.median(),label='median',color='Green')\n",
        "plt.boxplot\n"
      ],
      "metadata": {
        "id": "2BKukRbETdiw"
      },
      "execution_count": null,
      "outputs": []
    },
    {
      "cell_type": "code",
      "source": [
        "sns.histplot(df.District,kde=True)\n"
      ],
      "metadata": {
        "id": "6nhUYTQKfR46"
      },
      "execution_count": null,
      "outputs": []
    },
    {
      "cell_type": "code",
      "source": [
        "sns.countplot(x=\"Name\", data=df)\n",
        "df['Name'].value_counts()\n"
      ],
      "metadata": {
        "id": "3JyBYRKYgZIX"
      },
      "execution_count": null,
      "outputs": []
    },
    {
      "cell_type": "code",
      "source": [
        "sns.countplot(x=\"State\", data=df)\n",
        "df['State'].value_counts()\n"
      ],
      "metadata": {
        "id": "KJ99rYqCgbsv"
      },
      "execution_count": null,
      "outputs": []
    },
    {
      "cell_type": "code",
      "source": [
        "sns.countplot(x=\"Party\", data=df)\n",
        "df['Party'].value_counts()\n"
      ],
      "metadata": {
        "id": "yGZ2kGbhgdRe"
      },
      "execution_count": null,
      "outputs": []
    },
    {
      "cell_type": "code",
      "source": [
        "sns.countplot(x=\"Room\", data=df)\n",
        "df['Room'].value_counts()\n"
      ],
      "metadata": {
        "id": "sT85Wn5bggdc"
      },
      "execution_count": null,
      "outputs": []
    },
    {
      "cell_type": "code",
      "source": [
        "sns.countplot(x=\"Phone\", data=df)\n",
        "df['Phone'].value_counts()\n"
      ],
      "metadata": {
        "id": "eOnZVhdrgh7m"
      },
      "execution_count": null,
      "outputs": []
    },
    {
      "cell_type": "code",
      "source": [
        "sns.countplot(x=\"House Positions\", data=df)\n",
        "df['House Positions'].value_counts()"
      ],
      "metadata": {
        "id": "yN0DRF4FEurw"
      },
      "execution_count": null,
      "outputs": []
    },
    {
      "cell_type": "code",
      "source": [
        "sns.countplot(x=\"Committee Assignment\", data=df)\n",
        "df['Committee Assignment'].value_counts()"
      ],
      "metadata": {
        "id": "mUoSkAVCEune"
      },
      "execution_count": null,
      "outputs": []
    },
    {
      "cell_type": "code",
      "source": [
        "sns.set(rc={'figure.figsize':(15,10)})\n",
        "sex = sns.countplot(x='District', hue='State', data=df)\n",
        "plt.show()"
      ],
      "metadata": {
        "id": "Wu-A0mETgjp3"
      },
      "execution_count": null,
      "outputs": []
    },
    {
      "cell_type": "code",
      "source": [
        "pd.crosstab(df.State,df.Room,margins=True)"
      ],
      "metadata": {
        "id": "HXp9GDR3j4F3"
      },
      "execution_count": null,
      "outputs": []
    },
    {
      "cell_type": "code",
      "source": [
        "pd.crosstab(df.State,df.Room,normalize='index')\n"
      ],
      "metadata": {
        "id": "NfWquih1lzko"
      },
      "execution_count": null,
      "outputs": []
    },
    {
      "cell_type": "code",
      "source": [
        "sns.set(rc={'figure.figsize':(15,10)})\n",
        "edu = sns.countplot(x='Room', hue='State', data=df)\n",
        "plt.show()"
      ],
      "metadata": {
        "id": "8eOLNXfll2Cu"
      },
      "execution_count": null,
      "outputs": []
    },
    {
      "cell_type": "code",
      "source": [
        "pd.crosstab(df.Room,df.State,margins=True)\n"
      ],
      "metadata": {
        "id": "t65WRaVAl3p5"
      },
      "execution_count": null,
      "outputs": []
    },
    {
      "cell_type": "code",
      "source": [
        "pd.crosstab(df.Room,df.State,normalize='index')"
      ],
      "metadata": {
        "id": "Kp6ui7yNl5qp"
      },
      "execution_count": null,
      "outputs": []
    }
  ]
}