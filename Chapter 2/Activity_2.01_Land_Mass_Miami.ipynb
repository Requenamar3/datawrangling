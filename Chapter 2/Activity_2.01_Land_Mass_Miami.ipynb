{
  "nbformat": 4,
  "nbformat_minor": 0,
  "metadata": {
    "colab": {
      "provenance": []
    },
    "kernelspec": {
      "name": "python3",
      "display_name": "Python 3"
    },
    "language_info": {
      "name": "python"
    }
  },
  "cells": [
    {
      "cell_type": "markdown",
      "source": [
        "## **Activity 2.01: Guided Exercise**\n",
        "### Univariate, Bivariate Analysis on Land Mass - Miami Dataset\n"
      ],
      "metadata": {
        "id": "HA01LFSKohaA"
      }
    },
    {
      "cell_type": "markdown",
      "source": [
        "### Importing Libraries"
      ],
      "metadata": {
        "id": "WHANE9bmXYJ3"
      }
    },
    {
      "cell_type": "code",
      "execution_count": 1,
      "metadata": {
        "id": "V8HcZR9bogC-"
      },
      "outputs": [],
      "source": [
        "# Import basic libraries\n",
        "import numpy as np \n",
        "import pandas as pd \n"
      ]
    },
    {
      "cell_type": "code",
      "source": [
        "# import visualization libraries\n",
        "import seaborn as sns\n",
        "import matplotlib.pyplot as plt\n",
        "%matplotlib inline\n"
      ],
      "metadata": {
        "id": "U3iWa5zypQJL"
      },
      "execution_count": 2,
      "outputs": []
    },
    {
      "cell_type": "markdown",
      "source": [
        "### Loading the Data"
      ],
      "metadata": {
        "id": "eHJKXdZQXdbb"
      }
    },
    {
      "cell_type": "code",
      "source": [
        "df = pd.read_csv('https://raw.githubusercontent.com/fenago/datawrangling/main/Chapter%202/City_Land_Mass.csv')\n",
        "df.head(5)\n",
        "df.info()"
      ],
      "metadata": {
        "id": "f4wlIUyjpSfC"
      },
      "execution_count": null,
      "outputs": []
    },
    {
      "cell_type": "code",
      "source": [
        "print(df.duplicated().sum())\n"
      ],
      "metadata": {
        "id": "3-QvLrlhpgwQ"
      },
      "execution_count": null,
      "outputs": []
    },
    {
      "cell_type": "markdown",
      "source": [
        "### Data Preprocessing"
      ],
      "metadata": {
        "id": "XpKXVueRXu0e"
      }
    },
    {
      "cell_type": "code",
      "source": [
        "df.describe().T"
      ],
      "metadata": {
        "id": "Ntkg8h_KpsVx"
      },
      "execution_count": null,
      "outputs": []
    },
    {
      "cell_type": "code",
      "source": [
        "df.isnull().sum()\n"
      ],
      "metadata": {
        "id": "bPBAUtcipuHP"
      },
      "execution_count": null,
      "outputs": []
    },
    {
      "cell_type": "code",
      "source": [
        "print('FID' + str(sorted(df['FID'].unique())))\n",
        "print('CLNDID' + str(sorted(df['CLNDID'].unique())))\n",
        "print('Shape__Area' + str(sorted(df['Shape__Area'].unique())))\n",
        "print('Shape__Length' + str(sorted(df['Shape__Length'].unique())))\n"
      ],
      "metadata": {
        "id": "2uOtRCh2PDlK"
      },
      "execution_count": null,
      "outputs": []
    },
    {
      "cell_type": "code",
      "source": [
        "df = df[df.FID != -1]\n",
        "print('FID ' + str(sorted(df['FID'].unique())))"
      ],
      "metadata": {
        "id": "Se3KBIX8MAQe"
      },
      "execution_count": null,
      "outputs": []
    },
    {
      "cell_type": "markdown",
      "source": [
        "### **Univariate Analysis of Continuous Variables**\n"
      ],
      "metadata": {
        "id": "Z2gKgHJ8RW1o"
      }
    },
    {
      "cell_type": "code",
      "source": [
        "# store columns with specific data type\n",
        "integer_columns = df.select_dtypes(include=['int64']).columns\n",
        "float_columns = df.select_dtypes(include=['float64']).columns\n",
        "object_columns = df.select_dtypes(include=['object']).columns\n"
      ],
      "metadata": {
        "id": "IlQ_S-nuReVE"
      },
      "execution_count": 9,
      "outputs": []
    },
    {
      "cell_type": "code",
      "source": [
        "  # display columns\n",
        "print('\\nint64 columns:\\n',integer_columns)\n",
        "print('\\nfloat64 columns:\\n',float_columns)\n",
        "print('\\nobject columns:\\n',object_columns)\n",
        "\n",
        "# Remove the .columns and it saves it as a dataframe\n",
        "num_features = df.select_dtypes(exclude=['object'])\n",
        "cat_features = df.select_dtypes(include=['object'])\n",
        "type(num_features)\n",
        "type(cat_features)\n",
        "cat_features"
      ],
      "metadata": {
        "id": "v4zHgxqeRhkl"
      },
      "execution_count": null,
      "outputs": []
    },
    {
      "cell_type": "code",
      "source": [
        "num_list = ['FID','CLNDID' ,'Shape__Length', 'Shape__Area']\n",
        "num_list\n"
      ],
      "metadata": {
        "id": "Z6a9tdk1Rl6m"
      },
      "execution_count": null,
      "outputs": []
    },
    {
      "cell_type": "code",
      "source": [
        "cat_list = ['CLNDNAME']"
      ],
      "metadata": {
        "id": "0VRkLCU-RoP-"
      },
      "execution_count": 13,
      "outputs": []
    },
    {
      "cell_type": "code",
      "source": [
        "# Remove the .columns and it saves it as a dataframe\n",
        "num_features = df.select_dtypes(exclude=['object'])\n",
        "cat_features = df.select_dtypes(include=['object'])\n",
        "type(num_features)\n",
        "type(cat_features)\n",
        "num_features.describe(include='all')"
      ],
      "metadata": {
        "id": "UYWfczqnSZEc"
      },
      "execution_count": null,
      "outputs": []
    },
    {
      "cell_type": "markdown",
      "source": [
        "## Plotting histograms \n",
        "\n",
        "\n"
      ],
      "metadata": {
        "id": "gjiPgGKmTUOy"
      }
    },
    {
      "cell_type": "code",
      "source": [
        "plt.figure(figsize=(12,5))\n",
        "df['FID'].plot(kind='density')\n",
        "plt.axvline(x=df.FID.mean(),label='mean',color='Red')\n",
        "plt.axvline(x=df.FID.median(),label='median',color='Green')\n",
        "plt.boxplot\n"
      ],
      "metadata": {
        "id": "2BKukRbETdiw"
      },
      "execution_count": null,
      "outputs": []
    },
    {
      "cell_type": "code",
      "source": [
        "sns.histplot(df.FID,kde=True)\n"
      ],
      "metadata": {
        "id": "6nhUYTQKfR46"
      },
      "execution_count": null,
      "outputs": []
    },
    {
      "cell_type": "code",
      "source": [
        "sns.countplot(x=\"CLNDID\", data=df)\n",
        "df['CLNDID'].value_counts()\n"
      ],
      "metadata": {
        "id": "3JyBYRKYgZIX"
      },
      "execution_count": null,
      "outputs": []
    },
    {
      "cell_type": "code",
      "source": [
        "sns.countplot(x=\"CLNDNAME\", data=df)\n",
        "df['CLNDNAME'].value_counts()\n"
      ],
      "metadata": {
        "id": "KJ99rYqCgbsv"
      },
      "execution_count": null,
      "outputs": []
    },
    {
      "cell_type": "code",
      "source": [
        "sns.countplot(x=\"Shape__Length\", data=df)\n",
        "df['Shape__Length'].value_counts()\n"
      ],
      "metadata": {
        "id": "yGZ2kGbhgdRe"
      },
      "execution_count": null,
      "outputs": []
    },
    {
      "cell_type": "code",
      "source": [
        "sns.countplot(x=\"Shape__Area\", data=df)\n",
        "df['Shape__Area'].value_counts()\n"
      ],
      "metadata": {
        "id": "sT85Wn5bggdc"
      },
      "execution_count": null,
      "outputs": []
    },
    {
      "cell_type": "code",
      "source": [
        "sns.countplot(x=\"House Positions\", data=df)\n",
        "df['House Positions'].value_counts()"
      ],
      "metadata": {
        "id": "yN0DRF4FEurw"
      },
      "execution_count": null,
      "outputs": []
    },
    {
      "cell_type": "code",
      "source": [
        "sns.set(rc={'figure.figsize':(15,10)})\n",
        "FID = sns.countplot(x='FID', hue='CLNDNAME', data=df)\n",
        "plt.show()"
      ],
      "metadata": {
        "id": "Wu-A0mETgjp3"
      },
      "execution_count": null,
      "outputs": []
    },
    {
      "cell_type": "code",
      "source": [
        "pd.crosstab(df.CLNDNAME,df.FID,margins=True)"
      ],
      "metadata": {
        "id": "HXp9GDR3j4F3"
      },
      "execution_count": null,
      "outputs": []
    },
    {
      "cell_type": "code",
      "source": [
        "pd.crosstab(df.CLNDNAME,df.FID,normalize='index')\n"
      ],
      "metadata": {
        "id": "NfWquih1lzko"
      },
      "execution_count": null,
      "outputs": []
    },
    {
      "cell_type": "code",
      "source": [
        "sns.set(rc={'figure.figsize':(15,10)})\n",
        "edu = sns.countplot(x='FID', hue='CLNDNAME', data=df)\n",
        "plt.show()"
      ],
      "metadata": {
        "id": "8eOLNXfll2Cu"
      },
      "execution_count": null,
      "outputs": []
    },
    {
      "cell_type": "code",
      "source": [
        "pd.crosstab(df.FID,df.CLNDNAME,margins=True)\n"
      ],
      "metadata": {
        "id": "t65WRaVAl3p5"
      },
      "execution_count": null,
      "outputs": []
    },
    {
      "cell_type": "code",
      "source": [
        "pd.crosstab(df.FID,df.CLNDNAME,normalize='index')"
      ],
      "metadata": {
        "id": "Kp6ui7yNl5qp"
      },
      "execution_count": null,
      "outputs": []
    },
    {
      "cell_type": "markdown",
      "source": [
        "## **Bivariate Analysis of Categorical Variables vs Continuous Variables:**\n",
        "GroupBy: First, we will perform the GroupBy operation on the continuous variables. Groupby allows us to split our data into separate groups to perform computations for better analysis.\n"
      ],
      "metadata": {
        "id": "NcfO1LoJoqHw"
      }
    },
    {
      "cell_type": "code",
      "source": [
        "\n",
        "# Get a global view of all continuous variables with respect to a single categorical variable\n",
        "# This can take a long time to run - you may want to limit the charts\n",
        "# this is for the eyeball test.  look for obvious patterns\n",
        "\n",
        "# sns.pairplot(data=df[num_list],hue='is_recid')\n",
        " \n",
        "# by=<catagorical variable... then - everything after that is a numeric (continuous variable)\n",
        "df.groupby(by='CLNDNAME').agg('mean')\n"
      ],
      "metadata": {
        "id": "xUyG8wjkouJe"
      },
      "execution_count": null,
      "outputs": []
    },
    {
      "cell_type": "code",
      "source": [
        "df.groupby(by='CLNDNAME').agg('mean')[['FID']]"
      ],
      "metadata": {
        "id": "Fb1_1A3XrSnO"
      },
      "execution_count": null,
      "outputs": []
    },
    {
      "cell_type": "code",
      "source": [
        "\n",
        "# x = <NUMERIC VARIABLE>, hue = <CATEGORICAL VARIABLE>\n",
        "plt.figure(figsize=(12,8))\n",
        "sns.kdeplot(data=df,x='FID',hue='CLNDNAME',fill=True)\n"
      ],
      "metadata": {
        "id": "XatO8KXVqx62"
      },
      "execution_count": null,
      "outputs": []
    },
    {
      "cell_type": "code",
      "source": [
        "plt.figure(figsize=(12,8))\n",
        "sns.kdeplot(data=df,x='Shape__Length',hue='CLNDNAME',fill=True)"
      ],
      "metadata": {
        "id": "hpSYbuWYHcz3"
      },
      "execution_count": null,
      "outputs": []
    }
  ]
}