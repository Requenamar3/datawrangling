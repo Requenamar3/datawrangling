{
  "nbformat": 4,
  "nbformat_minor": 0,
  "metadata": {
    "colab": {
      "provenance": [],
      "collapsed_sections": []
    },
    "kernelspec": {
      "name": "python3",
      "display_name": "Python 3"
    },
    "language_info": {
      "name": "python"
    }
  },
  "cells": [
    {
      "cell_type": "markdown",
      "source": [
        "## **Activity 3.01: Solution**\n",
        "### Perform the steps mentioned in book, then consult from this solution"
      ],
      "metadata": {
        "id": "0dTyuVYNYTsc"
      }
    },
    {
      "cell_type": "markdown",
      "source": [
        "### Follow the steps mentioned below corresponding to each code cell to perform the tasks:\n"
      ],
      "metadata": {
        "id": "iU9SFsjTYizG"
      }
    },
    {
      "cell_type": "markdown",
      "source": [
        "1. Start with Loading the Dataset from GitHub.\n"
      ],
      "metadata": {
        "id": "CiDHk3KiYmKu"
      }
    },
    {
      "cell_type": "markdown",
      "source": [
        "2. Then look for the shape of dataset. "
      ],
      "metadata": {
        "id": "7Dx59Nd0Ypzh"
      }
    },
    {
      "cell_type": "markdown",
      "source": [
        "3. Then plot countplots for Y house price of unit area"
      ],
      "metadata": {
        "id": "gYvL0eNDY0h0"
      }
    },
    {
      "cell_type": "markdown",
      "source": [
        "### Importing Modules"
      ],
      "metadata": {
        "id": "xgq5fKJnY5MN"
      }
    },
    {
      "cell_type": "code",
      "execution_count": 1,
      "metadata": {
        "id": "gJ2G0Ykex-zP"
      },
      "outputs": [],
      "source": [
        "import pandas as pd\n",
        "import numpy as np\n",
        "import seaborn as sns"
      ]
    },
    {
      "cell_type": "markdown",
      "source": [
        "### Loading Dataset"
      ],
      "metadata": {
        "id": "z3Mes9wfY7wi"
      }
    },
    {
      "cell_type": "code",
      "source": [
        "df = pd.read_csv(\"https://raw.githubusercontent.com/fenago/datawrangling/main/Chapter%203/Real%20estate.csv\")"
      ],
      "metadata": {
        "id": "Ctl84W_VyDeb"
      },
      "execution_count": 2,
      "outputs": []
    },
    {
      "cell_type": "markdown",
      "source": [
        "### Shape of data"
      ],
      "metadata": {
        "id": "wWpqAlErY-FA"
      }
    },
    {
      "cell_type": "code",
      "source": [
        "df.shape\n",
        "df.head()"
      ],
      "metadata": {
        "id": "1SIwDiv8yFLl"
      },
      "execution_count": null,
      "outputs": []
    },
    {
      "cell_type": "markdown",
      "source": [
        "Use nunique()  to find out the number of unique values over the column axis"
      ],
      "metadata": {
        "id": "41dXYcmXZevU"
      }
    },
    {
      "cell_type": "markdown",
      "source": [
        "Use value_counts() function to find out the number of all values over the column axis"
      ],
      "metadata": {
        "id": "_5q6vahPZjZj"
      }
    },
    {
      "cell_type": "code",
      "source": [
        "df['Y house price of unit area'].unique()\n",
        "df['Y house price of unit area'].nunique()\n",
        "df['Y house price of unit area'].value_counts()"
      ],
      "metadata": {
        "id": "9iueV-eZyHLZ"
      },
      "execution_count": null,
      "outputs": []
    },
    {
      "cell_type": "markdown",
      "source": [
        "### **Countplots**"
      ],
      "metadata": {
        "id": "1NybhbohZp7M"
      }
    },
    {
      "cell_type": "code",
      "source": [
        "sns.countplot(df['Y house price of unit area'])"
      ],
      "metadata": {
        "id": "7zL9wdDGyIeD"
      },
      "execution_count": null,
      "outputs": []
    },
    {
      "cell_type": "markdown",
      "source": [
        "## **Perform binning**"
      ],
      "metadata": {
        "id": "3Zi68KKZZui4"
      }
    },
    {
      "cell_type": "markdown",
      "source": [
        "### Make another column - copy as a bin"
      ],
      "metadata": {
        "id": "F-zHVOMsZ2mI"
      }
    },
    {
      "cell_type": "code",
      "source": [
        "df['Price_Bin'] = df['Y house price of unit area']"
      ],
      "metadata": {
        "id": "4ZQb397ayJ25"
      },
      "execution_count": 6,
      "outputs": []
    },
    {
      "cell_type": "markdown",
      "source": [
        "### Add values to add in bin"
      ],
      "metadata": {
        "id": "43Rj68FxZ8Qc"
      }
    },
    {
      "cell_type": "code",
      "source": [
        "Other_prices = [58.99, 45.8, 20.89]"
      ],
      "metadata": {
        "id": "yYOwPukbyLCH"
      },
      "execution_count": 7,
      "outputs": []
    },
    {
      "cell_type": "code",
      "source": [
        "df.loc[df['Y house price of unit area'].isin(Other_prices), 'Price_Bin'] = \"Others\""
      ],
      "metadata": {
        "id": "PbbNHZQwyOOz"
      },
      "execution_count": 9,
      "outputs": []
    },
    {
      "cell_type": "code",
      "source": [
        "df['Price_Bin'].unique()\n"
      ],
      "metadata": {
        "id": "hZ9vPNk0yPeI"
      },
      "execution_count": null,
      "outputs": []
    },
    {
      "cell_type": "code",
      "source": [
        "df['Price_Bin'].nunique()"
      ],
      "metadata": {
        "id": "k_YT30xRzLdB"
      },
      "execution_count": null,
      "outputs": []
    }
  ]
}