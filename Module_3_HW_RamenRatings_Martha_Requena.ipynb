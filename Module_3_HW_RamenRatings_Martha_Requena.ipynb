{
  "nbformat": 4,
  "nbformat_minor": 0,
  "metadata": {
    "colab": {
      "provenance": [],
      "authorship_tag": "ABX9TyM3H8XlDkFfbMKHtMcO1XTM",
      "include_colab_link": true
    },
    "kernelspec": {
      "name": "python3",
      "display_name": "Python 3"
    },
    "language_info": {
      "name": "python"
    }
  },
  "cells": [
    {
      "cell_type": "markdown",
      "metadata": {
        "id": "view-in-github",
        "colab_type": "text"
      },
      "source": [
        "<a href=\"https://colab.research.google.com/github/Requenamar3/datawrangling/blob/main/Module_3_HW_RamenRatings_Martha_Requena.ipynb\" target=\"_parent\"><img src=\"https://colab.research.google.com/assets/colab-badge.svg\" alt=\"Open In Colab\"/></a>"
      ]
    },
    {
      "cell_type": "markdown",
      "source": [
        "**1.Read the data from the CSV file into a DataFrame and display the data to get a count of the number of rows**"
      ],
      "metadata": {
        "id": "1aYjBOgkQzCZ"
      }
    },
    {
      "cell_type": "code",
      "execution_count": null,
      "metadata": {
        "id": "FUgjToTAHBJ6"
      },
      "outputs": [],
      "source": [
        "import pandas as pd"
      ]
    },
    {
      "cell_type": "code",
      "source": [
        "ramen = pd.read_csv('https://raw.githubusercontent.com/fenago/dw/main/ramen-ratings.csv')"
      ],
      "metadata": {
        "id": "EIJCq5DfHTlM"
      },
      "execution_count": null,
      "outputs": []
    },
    {
      "cell_type": "code",
      "source": [
        "ramen.head()"
      ],
      "metadata": {
        "colab": {
          "base_uri": "https://localhost:8080/",
          "height": 206
        },
        "id": "TtvIAjRgHgHG",
        "outputId": "88d57467-ba6d-427d-9541-38ed123ac6f3"
      },
      "execution_count": null,
      "outputs": [
        {
          "output_type": "execute_result",
          "data": {
            "text/plain": [
              "            Brand                                            Variety Style  \\\n",
              "0       New Touch                          T's Restaurant Tantanmen    Cup   \n",
              "1        Just Way  Noodles Spicy Hot Sesame Spicy Hot Sesame Guan...  Pack   \n",
              "2          Nissin                      Cup Noodles Chicken Vegetable   Cup   \n",
              "3         Wei Lih                      GGE Ramen Snack Tomato Flavor  Pack   \n",
              "4  Ching's Secret                                    Singapore Curry  Pack   \n",
              "\n",
              "  Country  Stars  \n",
              "0   Japan   3.75  \n",
              "1  Taiwan   1.00  \n",
              "2     USA   2.25  \n",
              "3  Taiwan   2.75  \n",
              "4   India   3.75  "
            ],
            "text/html": [
              "\n",
              "  <div id=\"df-72ca89d0-2545-4954-a9e7-46c113c3c028\" class=\"colab-df-container\">\n",
              "    <div>\n",
              "<style scoped>\n",
              "    .dataframe tbody tr th:only-of-type {\n",
              "        vertical-align: middle;\n",
              "    }\n",
              "\n",
              "    .dataframe tbody tr th {\n",
              "        vertical-align: top;\n",
              "    }\n",
              "\n",
              "    .dataframe thead th {\n",
              "        text-align: right;\n",
              "    }\n",
              "</style>\n",
              "<table border=\"1\" class=\"dataframe\">\n",
              "  <thead>\n",
              "    <tr style=\"text-align: right;\">\n",
              "      <th></th>\n",
              "      <th>Brand</th>\n",
              "      <th>Variety</th>\n",
              "      <th>Style</th>\n",
              "      <th>Country</th>\n",
              "      <th>Stars</th>\n",
              "    </tr>\n",
              "  </thead>\n",
              "  <tbody>\n",
              "    <tr>\n",
              "      <th>0</th>\n",
              "      <td>New Touch</td>\n",
              "      <td>T's Restaurant Tantanmen</td>\n",
              "      <td>Cup</td>\n",
              "      <td>Japan</td>\n",
              "      <td>3.75</td>\n",
              "    </tr>\n",
              "    <tr>\n",
              "      <th>1</th>\n",
              "      <td>Just Way</td>\n",
              "      <td>Noodles Spicy Hot Sesame Spicy Hot Sesame Guan...</td>\n",
              "      <td>Pack</td>\n",
              "      <td>Taiwan</td>\n",
              "      <td>1.00</td>\n",
              "    </tr>\n",
              "    <tr>\n",
              "      <th>2</th>\n",
              "      <td>Nissin</td>\n",
              "      <td>Cup Noodles Chicken Vegetable</td>\n",
              "      <td>Cup</td>\n",
              "      <td>USA</td>\n",
              "      <td>2.25</td>\n",
              "    </tr>\n",
              "    <tr>\n",
              "      <th>3</th>\n",
              "      <td>Wei Lih</td>\n",
              "      <td>GGE Ramen Snack Tomato Flavor</td>\n",
              "      <td>Pack</td>\n",
              "      <td>Taiwan</td>\n",
              "      <td>2.75</td>\n",
              "    </tr>\n",
              "    <tr>\n",
              "      <th>4</th>\n",
              "      <td>Ching's Secret</td>\n",
              "      <td>Singapore Curry</td>\n",
              "      <td>Pack</td>\n",
              "      <td>India</td>\n",
              "      <td>3.75</td>\n",
              "    </tr>\n",
              "  </tbody>\n",
              "</table>\n",
              "</div>\n",
              "    <div class=\"colab-df-buttons\">\n",
              "\n",
              "  <div class=\"colab-df-container\">\n",
              "    <button class=\"colab-df-convert\" onclick=\"convertToInteractive('df-72ca89d0-2545-4954-a9e7-46c113c3c028')\"\n",
              "            title=\"Convert this dataframe to an interactive table.\"\n",
              "            style=\"display:none;\">\n",
              "\n",
              "  <svg xmlns=\"http://www.w3.org/2000/svg\" height=\"24px\" viewBox=\"0 -960 960 960\">\n",
              "    <path d=\"M120-120v-720h720v720H120Zm60-500h600v-160H180v160Zm220 220h160v-160H400v160Zm0 220h160v-160H400v160ZM180-400h160v-160H180v160Zm440 0h160v-160H620v160ZM180-180h160v-160H180v160Zm440 0h160v-160H620v160Z\"/>\n",
              "  </svg>\n",
              "    </button>\n",
              "\n",
              "  <style>\n",
              "    .colab-df-container {\n",
              "      display:flex;\n",
              "      gap: 12px;\n",
              "    }\n",
              "\n",
              "    .colab-df-convert {\n",
              "      background-color: #E8F0FE;\n",
              "      border: none;\n",
              "      border-radius: 50%;\n",
              "      cursor: pointer;\n",
              "      display: none;\n",
              "      fill: #1967D2;\n",
              "      height: 32px;\n",
              "      padding: 0 0 0 0;\n",
              "      width: 32px;\n",
              "    }\n",
              "\n",
              "    .colab-df-convert:hover {\n",
              "      background-color: #E2EBFA;\n",
              "      box-shadow: 0px 1px 2px rgba(60, 64, 67, 0.3), 0px 1px 3px 1px rgba(60, 64, 67, 0.15);\n",
              "      fill: #174EA6;\n",
              "    }\n",
              "\n",
              "    .colab-df-buttons div {\n",
              "      margin-bottom: 4px;\n",
              "    }\n",
              "\n",
              "    [theme=dark] .colab-df-convert {\n",
              "      background-color: #3B4455;\n",
              "      fill: #D2E3FC;\n",
              "    }\n",
              "\n",
              "    [theme=dark] .colab-df-convert:hover {\n",
              "      background-color: #434B5C;\n",
              "      box-shadow: 0px 1px 3px 1px rgba(0, 0, 0, 0.15);\n",
              "      filter: drop-shadow(0px 1px 2px rgba(0, 0, 0, 0.3));\n",
              "      fill: #FFFFFF;\n",
              "    }\n",
              "  </style>\n",
              "\n",
              "    <script>\n",
              "      const buttonEl =\n",
              "        document.querySelector('#df-72ca89d0-2545-4954-a9e7-46c113c3c028 button.colab-df-convert');\n",
              "      buttonEl.style.display =\n",
              "        google.colab.kernel.accessAllowed ? 'block' : 'none';\n",
              "\n",
              "      async function convertToInteractive(key) {\n",
              "        const element = document.querySelector('#df-72ca89d0-2545-4954-a9e7-46c113c3c028');\n",
              "        const dataTable =\n",
              "          await google.colab.kernel.invokeFunction('convertToInteractive',\n",
              "                                                    [key], {});\n",
              "        if (!dataTable) return;\n",
              "\n",
              "        const docLinkHtml = 'Like what you see? Visit the ' +\n",
              "          '<a target=\"_blank\" href=https://colab.research.google.com/notebooks/data_table.ipynb>data table notebook</a>'\n",
              "          + ' to learn more about interactive tables.';\n",
              "        element.innerHTML = '';\n",
              "        dataTable['output_type'] = 'display_data';\n",
              "        await google.colab.output.renderOutput(dataTable, element);\n",
              "        const docLink = document.createElement('div');\n",
              "        docLink.innerHTML = docLinkHtml;\n",
              "        element.appendChild(docLink);\n",
              "      }\n",
              "    </script>\n",
              "  </div>\n",
              "\n",
              "\n",
              "<div id=\"df-b594ba53-0fa6-4124-a07f-04b0bc66696b\">\n",
              "  <button class=\"colab-df-quickchart\" onclick=\"quickchart('df-b594ba53-0fa6-4124-a07f-04b0bc66696b')\"\n",
              "            title=\"Suggest charts\"\n",
              "            style=\"display:none;\">\n",
              "\n",
              "<svg xmlns=\"http://www.w3.org/2000/svg\" height=\"24px\"viewBox=\"0 0 24 24\"\n",
              "     width=\"24px\">\n",
              "    <g>\n",
              "        <path d=\"M19 3H5c-1.1 0-2 .9-2 2v14c0 1.1.9 2 2 2h14c1.1 0 2-.9 2-2V5c0-1.1-.9-2-2-2zM9 17H7v-7h2v7zm4 0h-2V7h2v10zm4 0h-2v-4h2v4z\"/>\n",
              "    </g>\n",
              "</svg>\n",
              "  </button>\n",
              "\n",
              "<style>\n",
              "  .colab-df-quickchart {\n",
              "      --bg-color: #E8F0FE;\n",
              "      --fill-color: #1967D2;\n",
              "      --hover-bg-color: #E2EBFA;\n",
              "      --hover-fill-color: #174EA6;\n",
              "      --disabled-fill-color: #AAA;\n",
              "      --disabled-bg-color: #DDD;\n",
              "  }\n",
              "\n",
              "  [theme=dark] .colab-df-quickchart {\n",
              "      --bg-color: #3B4455;\n",
              "      --fill-color: #D2E3FC;\n",
              "      --hover-bg-color: #434B5C;\n",
              "      --hover-fill-color: #FFFFFF;\n",
              "      --disabled-bg-color: #3B4455;\n",
              "      --disabled-fill-color: #666;\n",
              "  }\n",
              "\n",
              "  .colab-df-quickchart {\n",
              "    background-color: var(--bg-color);\n",
              "    border: none;\n",
              "    border-radius: 50%;\n",
              "    cursor: pointer;\n",
              "    display: none;\n",
              "    fill: var(--fill-color);\n",
              "    height: 32px;\n",
              "    padding: 0;\n",
              "    width: 32px;\n",
              "  }\n",
              "\n",
              "  .colab-df-quickchart:hover {\n",
              "    background-color: var(--hover-bg-color);\n",
              "    box-shadow: 0 1px 2px rgba(60, 64, 67, 0.3), 0 1px 3px 1px rgba(60, 64, 67, 0.15);\n",
              "    fill: var(--button-hover-fill-color);\n",
              "  }\n",
              "\n",
              "  .colab-df-quickchart-complete:disabled,\n",
              "  .colab-df-quickchart-complete:disabled:hover {\n",
              "    background-color: var(--disabled-bg-color);\n",
              "    fill: var(--disabled-fill-color);\n",
              "    box-shadow: none;\n",
              "  }\n",
              "\n",
              "  .colab-df-spinner {\n",
              "    border: 2px solid var(--fill-color);\n",
              "    border-color: transparent;\n",
              "    border-bottom-color: var(--fill-color);\n",
              "    animation:\n",
              "      spin 1s steps(1) infinite;\n",
              "  }\n",
              "\n",
              "  @keyframes spin {\n",
              "    0% {\n",
              "      border-color: transparent;\n",
              "      border-bottom-color: var(--fill-color);\n",
              "      border-left-color: var(--fill-color);\n",
              "    }\n",
              "    20% {\n",
              "      border-color: transparent;\n",
              "      border-left-color: var(--fill-color);\n",
              "      border-top-color: var(--fill-color);\n",
              "    }\n",
              "    30% {\n",
              "      border-color: transparent;\n",
              "      border-left-color: var(--fill-color);\n",
              "      border-top-color: var(--fill-color);\n",
              "      border-right-color: var(--fill-color);\n",
              "    }\n",
              "    40% {\n",
              "      border-color: transparent;\n",
              "      border-right-color: var(--fill-color);\n",
              "      border-top-color: var(--fill-color);\n",
              "    }\n",
              "    60% {\n",
              "      border-color: transparent;\n",
              "      border-right-color: var(--fill-color);\n",
              "    }\n",
              "    80% {\n",
              "      border-color: transparent;\n",
              "      border-right-color: var(--fill-color);\n",
              "      border-bottom-color: var(--fill-color);\n",
              "    }\n",
              "    90% {\n",
              "      border-color: transparent;\n",
              "      border-bottom-color: var(--fill-color);\n",
              "    }\n",
              "  }\n",
              "</style>\n",
              "\n",
              "  <script>\n",
              "    async function quickchart(key) {\n",
              "      const quickchartButtonEl =\n",
              "        document.querySelector('#' + key + ' button');\n",
              "      quickchartButtonEl.disabled = true;  // To prevent multiple clicks.\n",
              "      quickchartButtonEl.classList.add('colab-df-spinner');\n",
              "      try {\n",
              "        const charts = await google.colab.kernel.invokeFunction(\n",
              "            'suggestCharts', [key], {});\n",
              "      } catch (error) {\n",
              "        console.error('Error during call to suggestCharts:', error);\n",
              "      }\n",
              "      quickchartButtonEl.classList.remove('colab-df-spinner');\n",
              "      quickchartButtonEl.classList.add('colab-df-quickchart-complete');\n",
              "    }\n",
              "    (() => {\n",
              "      let quickchartButtonEl =\n",
              "        document.querySelector('#df-b594ba53-0fa6-4124-a07f-04b0bc66696b button');\n",
              "      quickchartButtonEl.style.display =\n",
              "        google.colab.kernel.accessAllowed ? 'block' : 'none';\n",
              "    })();\n",
              "  </script>\n",
              "</div>\n",
              "    </div>\n",
              "  </div>\n"
            ]
          },
          "metadata": {},
          "execution_count": 72
        }
      ]
    },
    {
      "cell_type": "code",
      "source": [
        "ramen.info(verbose=True, memory_usage='deep',show_counts=True)"
      ],
      "metadata": {
        "colab": {
          "base_uri": "https://localhost:8080/"
        },
        "id": "V8YzNBL9b5gZ",
        "outputId": "a39f3f02-34d2-4a20-a2bc-7d773b56dc03"
      },
      "execution_count": null,
      "outputs": [
        {
          "output_type": "stream",
          "name": "stdout",
          "text": [
            "<class 'pandas.core.frame.DataFrame'>\n",
            "RangeIndex: 2577 entries, 0 to 2576\n",
            "Data columns (total 5 columns):\n",
            " #   Column   Non-Null Count  Dtype  \n",
            "---  ------   --------------  -----  \n",
            " 0   Brand    2577 non-null   object \n",
            " 1   Variety  2577 non-null   object \n",
            " 2   Style    2575 non-null   object \n",
            " 3   Country  2577 non-null   object \n",
            " 4   Stars    2577 non-null   float64\n",
            "dtypes: float64(1), object(4)\n",
            "memory usage: 715.8 KB\n"
          ]
        }
      ]
    },
    {
      "cell_type": "code",
      "source": [
        "# Get the number of rows\n",
        "row_count = len(ramen)\n",
        "print(f'The number of rows in the RamenRatings is: {row_count}')"
      ],
      "metadata": {
        "colab": {
          "base_uri": "https://localhost:8080/"
        },
        "id": "zO_QPjcUJma4",
        "outputId": "62169735-329b-4d95-d0d0-5013318acb1f"
      },
      "execution_count": null,
      "outputs": [
        {
          "output_type": "stream",
          "name": "stdout",
          "text": [
            "The number of rows in the RamenRatings is: 2577\n"
          ]
        }
      ]
    },
    {
      "cell_type": "markdown",
      "source": [
        "**2. Rename the Stars column to Rating**"
      ],
      "metadata": {
        "id": "FI-TZo9IRCOY"
      }
    },
    {
      "cell_type": "code",
      "source": [
        "# changing name of column\n",
        "ramen = ramen.rename(columns={'Stars': 'Rating'})\n",
        "print(ramen.head())\n"
      ],
      "metadata": {
        "colab": {
          "base_uri": "https://localhost:8080/"
        },
        "id": "Vkn8_NJBKQ7_",
        "outputId": "418e0587-cf13-4ed6-b5d2-330720755f1d"
      },
      "execution_count": null,
      "outputs": [
        {
          "output_type": "stream",
          "name": "stdout",
          "text": [
            "            Brand                                            Variety Style  \\\n",
            "0       New Touch                          T's Restaurant Tantanmen    Cup   \n",
            "1        Just Way  Noodles Spicy Hot Sesame Spicy Hot Sesame Guan...  Pack   \n",
            "2          Nissin                      Cup Noodles Chicken Vegetable   Cup   \n",
            "3         Wei Lih                      GGE Ramen Snack Tomato Flavor  Pack   \n",
            "4  Ching's Secret                                    Singapore Curry  Pack   \n",
            "\n",
            "  Country  Rating  \n",
            "0   Japan    3.75  \n",
            "1  Taiwan    1.00  \n",
            "2     USA    2.25  \n",
            "3  Taiwan    2.75  \n",
            "4   India    3.75  \n"
          ]
        }
      ]
    },
    {
      "cell_type": "markdown",
      "source": [
        "**3. Convert the Style column to the category type.**"
      ],
      "metadata": {
        "id": "pb8bZAcHRNmQ"
      }
    },
    {
      "cell_type": "code",
      "source": [
        "# Convert the 'Style' column to a categorical data type\n",
        "ramen['Style'] = ramen['Style'].astype('category')\n",
        "print(ramen.info())\n"
      ],
      "metadata": {
        "colab": {
          "base_uri": "https://localhost:8080/"
        },
        "id": "xTR1na4iLEff",
        "outputId": "1d1cfb71-469e-4efb-be02-19253d5b7bf8"
      },
      "execution_count": null,
      "outputs": [
        {
          "output_type": "stream",
          "name": "stdout",
          "text": [
            "<class 'pandas.core.frame.DataFrame'>\n",
            "RangeIndex: 2577 entries, 0 to 2576\n",
            "Data columns (total 5 columns):\n",
            " #   Column   Non-Null Count  Dtype   \n",
            "---  ------   --------------  -----   \n",
            " 0   Brand    2577 non-null   object  \n",
            " 1   Variety  2577 non-null   object  \n",
            " 2   Style    2575 non-null   category\n",
            " 3   Country  2577 non-null   object  \n",
            " 4   Rating   2577 non-null   float64 \n",
            "dtypes: category(1), float64(1), object(3)\n",
            "memory usage: 83.5+ KB\n",
            "None\n"
          ]
        }
      ]
    },
    {
      "cell_type": "markdown",
      "source": [
        "**4. Drop the country column.**"
      ],
      "metadata": {
        "id": "-9qk-3tWRYm0"
      }
    },
    {
      "cell_type": "code",
      "source": [
        "# Drop the 'Country' column\n",
        "ramen = ramen.drop(columns=['Country'])\n",
        "print(ramen.head())\n"
      ],
      "metadata": {
        "colab": {
          "base_uri": "https://localhost:8080/"
        },
        "id": "XMoCyK7LLlTV",
        "outputId": "edaf8a4b-a543-4bbc-efdb-411c37e2a0d9"
      },
      "execution_count": null,
      "outputs": [
        {
          "output_type": "stream",
          "name": "stdout",
          "text": [
            "            Brand                                            Variety Style  \\\n",
            "0       New Touch                          T's Restaurant Tantanmen    Cup   \n",
            "1        Just Way  Noodles Spicy Hot Sesame Spicy Hot Sesame Guan...  Pack   \n",
            "2          Nissin                      Cup Noodles Chicken Vegetable   Cup   \n",
            "3         Wei Lih                      GGE Ramen Snack Tomato Flavor  Pack   \n",
            "4  Ching's Secret                                    Singapore Curry  Pack   \n",
            "\n",
            "   Rating  \n",
            "0    3.75  \n",
            "1    1.00  \n",
            "2    2.25  \n",
            "3    2.75  \n",
            "4    3.75  \n"
          ]
        }
      ]
    },
    {
      "cell_type": "markdown",
      "source": [
        "**6. Rename the Brand column to Company and the Variety column to Product.**"
      ],
      "metadata": {
        "id": "4q17F1MBRp-o"
      }
    },
    {
      "cell_type": "code",
      "source": [
        "#renaming columns\n",
        "ramen = ramen.rename(columns={'Brand': 'Company', 'Variety': 'Product'})\n",
        "print(ramen.head())\n"
      ],
      "metadata": {
        "id": "JAJoSgwBLouL",
        "colab": {
          "base_uri": "https://localhost:8080/"
        },
        "outputId": "6c8aea1c-0869-4425-de15-1e8ced4d8dfe"
      },
      "execution_count": null,
      "outputs": [
        {
          "output_type": "stream",
          "name": "stdout",
          "text": [
            "          Company                                            Product Style  \\\n",
            "0       New Touch                          T's Restaurant Tantanmen    Cup   \n",
            "1        Just Way  Noodles Spicy Hot Sesame Spicy Hot Sesame Guan...  Pack   \n",
            "2          Nissin                      Cup Noodles Chicken Vegetable   Cup   \n",
            "3         Wei Lih                      GGE Ramen Snack Tomato Flavor  Pack   \n",
            "4  Ching's Secret                                    Singapore Curry  Pack   \n",
            "\n",
            "   Rating  \n",
            "0    3.75  \n",
            "1    1.00  \n",
            "2    2.25  \n",
            "3    2.75  \n",
            "4    3.75  \n"
          ]
        }
      ]
    },
    {
      "cell_type": "markdown",
      "source": [
        "**7. Use the duplicated() method to display all rows with duplicate Company/Product/style combinations.**"
      ],
      "metadata": {
        "id": "BCixENLwRwRC"
      }
    },
    {
      "cell_type": "code",
      "source": [
        "#Identify rows with duplicate combinations of 'Company' and 'Product'\n",
        "duplicates = ramen[ramen.duplicated(subset=['Company', 'Product','Style'], keep=False)]\n",
        "\n",
        "#Display the rows with duplicate combinations\n",
        "print(duplicates)"
      ],
      "metadata": {
        "colab": {
          "base_uri": "https://localhost:8080/"
        },
        "id": "iF9MfwCRXwAB",
        "outputId": "979bdb68-cdcc-4342-9dc9-66eaeedd288c"
      },
      "execution_count": null,
      "outputs": [
        {
          "output_type": "stream",
          "name": "stdout",
          "text": [
            "             Company                                Product Style  Rating\n",
            "2             Nissin          Cup Noodles Chicken Vegetable   Cup    2.25\n",
            "24    Ching's Secret             Hot Garlic Instant Noodles  Pack    4.25\n",
            "46          Nongshim                      Shin Ramyun Black  Pack    5.00\n",
            "69           MyKuali        Penang Red Tom Yum Goong Noodle  Pack    5.00\n",
            "75          Nongshim                            Shin Ramyun  Pack    3.00\n",
            "178           Nissin    Cup Noodles Tom Yam Seafood Flavour   Cup    5.00\n",
            "192            Maggi         2 Minute Noodles Curry Flavour  Pack    4.00\n",
            "283           Nissin                    Cup Noodles Seafood   Cup    4.00\n",
            "335           Nissin  Cup Noodles Black Pepper Crab Flavour   Cup    4.00\n",
            "459           Nissin        Cup Noodles Minced Pork Flavour   Cup    3.50\n",
            "463           Nissin          Cup Noodles Moo Manao Flavour   Cup    4.00\n",
            "467           Nissin        Cup Noodles Chilli Crab Flavour   Cup    3.75\n",
            "575           Nissin                  Raoh Rich Miso Flavor  Bowl    5.00\n",
            "707           Nissin        Cup Noodles Minced Pork Flavour   Cup    3.75\n",
            "819           Nissin          Cup Noodles Moo Manao Flavour   Cup    4.00\n",
            "890     Wugudaochang  Sea Tangle & Sparerins Flavor Noodles  Bowl    3.75\n",
            "897     Wugudaochang  Sea Tangle & Sparerins Flavor Noodles  Bowl    3.75\n",
            "1021  Ching's Secret             Hot Garlic Instant Noodles  Pack    3.75\n",
            "1077         MyKuali        Penang Red Tom Yum Goong Noodle  Pack    5.00\n",
            "1116          Nissin  Cup Noodles Black Pepper Crab Flavour   Cup    4.00\n",
            "1123          Nissin        Cup Noodles Chilli Crab Flavour   Cup    4.00\n",
            "1126          Nissin    Cup Noodles Tom Yam Seafood Flavour   Cup    4.00\n",
            "1144           Maggi         2 Minute Noodles Curry Flavour  Pack    3.75\n",
            "1508          Nissin                  Raoh Rich Miso Flavor  Bowl    5.00\n",
            "1814           Maggi         2 Minute Noodles Tricky Tomato  Pack    3.25\n",
            "1848         Indomie                   Mi Goreng Jumbo Beef  Pack    5.00\n",
            "1999        Nongshim                      Shin Ramyun Black  Pack    4.75\n",
            "2003           Maggi         2 Minute Noodles Tricky Tomato  Pack    3.75\n",
            "2150            Koka                 Mi Hai Cua Crab Flavor  Pack    5.00\n",
            "2196  Saigon Ve Wong    Kung Fu Artificial Beef Rice Noodle  Pack    4.25\n",
            "2204          Nissin          Cup Noodles Chicken Vegetable   Cup    2.75\n",
            "2289  Saigon Ve Wong    Kung Fu Artificial Beef Rice Noodle  Pack    3.25\n",
            "2293          Nissin                    Cup Noodles Seafood   Cup    4.50\n",
            "2345         Indomie                   Mi Goreng Jumbo Beef  Pack    5.00\n",
            "2494          Nissin               Demae Ramen Spicy Flavor  Pack    2.00\n",
            "2545            Koka                 Mi Hai Cua Crab Flavor  Pack    3.50\n",
            "2552          Nissin               Demae Ramen Spicy Flavor  Pack    3.00\n",
            "2558        Nongshim                            Shin Ramyun  Pack    4.00\n"
          ]
        }
      ]
    },
    {
      "cell_type": "code",
      "source": [
        "#Group by 'Company' and 'Product', and calculate the count\n",
        "counts = ramen.groupby(['Company', 'Product','Style']).size().reset_index(name='Count')\n",
        "\n",
        "#Filter for rows with counts greater than 1 (duplicates)\n",
        "duplicates = counts[counts['Count'] > 1]\n",
        "\n",
        "#Display the rows with duplicate combinations\n",
        "print(duplicates)\n"
      ],
      "metadata": {
        "colab": {
          "base_uri": "https://localhost:8080/"
        },
        "id": "DZru7I6fTUVi",
        "outputId": "0cc7418e-4fc7-40ad-d3d9-8e401fb62ab6"
      },
      "execution_count": null,
      "outputs": [
        {
          "output_type": "stream",
          "name": "stdout",
          "text": [
            "                Company                                Product Style  Count\n",
            "646931   Ching's Secret             Hot Garlic Instant Noodles  Pack      2\n",
            "1864504         Indomie                   Mi Goreng Jumbo Beef  Pack      2\n",
            "2269517            Koka                 Mi Hai Cua Crab Flavor  Pack      2\n",
            "2614995           Maggi         2 Minute Noodles Curry Flavour  Pack      2\n",
            "2615037           Maggi         2 Minute Noodles Tricky Tomato  Pack      2\n",
            "3064444         MyKuali        Penang Red Tom Yum Goong Noodle  Pack      2\n",
            "3242187          Nissin  Cup Noodles Black Pepper Crab Flavour   Cup      2\n",
            "3242222          Nissin          Cup Noodles Chicken Vegetable   Cup      2\n",
            "3242229          Nissin        Cup Noodles Chilli Crab Flavour   Cup      2\n",
            "3242348          Nissin        Cup Noodles Minced Pork Flavour   Cup      2\n",
            "3242369          Nissin          Cup Noodles Moo Manao Flavour   Cup      2\n",
            "3242516          Nissin                    Cup Noodles Seafood   Cup      2\n",
            "3242670          Nissin    Cup Noodles Tom Yam Seafood Flavour   Cup      2\n",
            "3243385          Nissin               Demae Ramen Spicy Flavor  Pack      2\n",
            "3251207          Nissin                  Raoh Rich Miso Flavor  Bowl      2\n",
            "3302955        Nongshim                            Shin Ramyun  Pack      2\n",
            "3302962        Nongshim                      Shin Ramyun Black  Pack      2\n",
            "4056890  Saigon Ve Wong    Kung Fu Artificial Beef Rice Noodle  Pack      2\n",
            "5799235    Wugudaochang  Sea Tangle & Sparerins Flavor Noodles  Bowl      2\n"
          ]
        }
      ]
    },
    {
      "cell_type": "markdown",
      "source": [
        "**8. Drop all rows with duplicate Company/Product/style combinations except for the first row in each set.**"
      ],
      "metadata": {
        "id": "5hBNuyRtR-vn"
      }
    },
    {
      "cell_type": "code",
      "source": [
        "#dropping duplicates and keeping only the first occurence\n",
        "ramen.drop_duplicates(keep='first',inplace=True)"
      ],
      "metadata": {
        "id": "y_Xkr5kwZW6Y"
      },
      "execution_count": null,
      "outputs": []
    },
    {
      "cell_type": "markdown",
      "source": [
        "**display the data to get a count of the number of rows, and compare that with the original number of rows to see how many were dropped**"
      ],
      "metadata": {
        "id": "2T95I6yuSERj"
      }
    },
    {
      "cell_type": "code",
      "source": [
        "ramen.info(verbose=True, memory_usage='deep',show_counts=True)"
      ],
      "metadata": {
        "colab": {
          "base_uri": "https://localhost:8080/"
        },
        "id": "eGgh1yVvaQ9Z",
        "outputId": "89de02fc-fdf7-40a6-c0d9-4aab682ef03a"
      },
      "execution_count": null,
      "outputs": [
        {
          "output_type": "stream",
          "name": "stdout",
          "text": [
            "<class 'pandas.core.frame.DataFrame'>\n",
            "Int64Index: 2571 entries, 0 to 2576\n",
            "Data columns (total 4 columns):\n",
            " #   Column   Non-Null Count  Dtype   \n",
            "---  ------   --------------  -----   \n",
            " 0   Company  2571 non-null   object  \n",
            " 1   Product  2571 non-null   object  \n",
            " 2   Style    2569 non-null   category\n",
            " 3   Rating   2571 non-null   float64 \n",
            "dtypes: category(1), float64(1), object(2)\n",
            "memory usage: 425.2 KB\n"
          ]
        }
      ]
    },
    {
      "cell_type": "markdown",
      "source": [
        "**9. Drop any rows that have missing values.**"
      ],
      "metadata": {
        "id": "Lk0B8VCrSOo6"
      }
    },
    {
      "cell_type": "code",
      "source": [
        "#display rows with null values\n",
        "ramen[ramen.isnull().any(axis=1)]"
      ],
      "metadata": {
        "colab": {
          "base_uri": "https://localhost:8080/",
          "height": 112
        },
        "id": "CHY9uYZKc9BP",
        "outputId": "da293c84-b1aa-4da6-d1be-e72372dc07ba"
      },
      "execution_count": null,
      "outputs": [
        {
          "output_type": "execute_result",
          "data": {
            "text/plain": [
              "     Company            Product Style  Rating\n",
              "2149  Kamfen     E Menm Chicken   NaN    3.75\n",
              "2439    Unif  100 Furong Shrimp   NaN    3.00"
            ],
            "text/html": [
              "\n",
              "  <div id=\"df-9363db31-9c50-4bf1-8158-8676df8fa7e0\" class=\"colab-df-container\">\n",
              "    <div>\n",
              "<style scoped>\n",
              "    .dataframe tbody tr th:only-of-type {\n",
              "        vertical-align: middle;\n",
              "    }\n",
              "\n",
              "    .dataframe tbody tr th {\n",
              "        vertical-align: top;\n",
              "    }\n",
              "\n",
              "    .dataframe thead th {\n",
              "        text-align: right;\n",
              "    }\n",
              "</style>\n",
              "<table border=\"1\" class=\"dataframe\">\n",
              "  <thead>\n",
              "    <tr style=\"text-align: right;\">\n",
              "      <th></th>\n",
              "      <th>Company</th>\n",
              "      <th>Product</th>\n",
              "      <th>Style</th>\n",
              "      <th>Rating</th>\n",
              "    </tr>\n",
              "  </thead>\n",
              "  <tbody>\n",
              "    <tr>\n",
              "      <th>2149</th>\n",
              "      <td>Kamfen</td>\n",
              "      <td>E Menm Chicken</td>\n",
              "      <td>NaN</td>\n",
              "      <td>3.75</td>\n",
              "    </tr>\n",
              "    <tr>\n",
              "      <th>2439</th>\n",
              "      <td>Unif</td>\n",
              "      <td>100 Furong Shrimp</td>\n",
              "      <td>NaN</td>\n",
              "      <td>3.00</td>\n",
              "    </tr>\n",
              "  </tbody>\n",
              "</table>\n",
              "</div>\n",
              "    <div class=\"colab-df-buttons\">\n",
              "\n",
              "  <div class=\"colab-df-container\">\n",
              "    <button class=\"colab-df-convert\" onclick=\"convertToInteractive('df-9363db31-9c50-4bf1-8158-8676df8fa7e0')\"\n",
              "            title=\"Convert this dataframe to an interactive table.\"\n",
              "            style=\"display:none;\">\n",
              "\n",
              "  <svg xmlns=\"http://www.w3.org/2000/svg\" height=\"24px\" viewBox=\"0 -960 960 960\">\n",
              "    <path d=\"M120-120v-720h720v720H120Zm60-500h600v-160H180v160Zm220 220h160v-160H400v160Zm0 220h160v-160H400v160ZM180-400h160v-160H180v160Zm440 0h160v-160H620v160ZM180-180h160v-160H180v160Zm440 0h160v-160H620v160Z\"/>\n",
              "  </svg>\n",
              "    </button>\n",
              "\n",
              "  <style>\n",
              "    .colab-df-container {\n",
              "      display:flex;\n",
              "      gap: 12px;\n",
              "    }\n",
              "\n",
              "    .colab-df-convert {\n",
              "      background-color: #E8F0FE;\n",
              "      border: none;\n",
              "      border-radius: 50%;\n",
              "      cursor: pointer;\n",
              "      display: none;\n",
              "      fill: #1967D2;\n",
              "      height: 32px;\n",
              "      padding: 0 0 0 0;\n",
              "      width: 32px;\n",
              "    }\n",
              "\n",
              "    .colab-df-convert:hover {\n",
              "      background-color: #E2EBFA;\n",
              "      box-shadow: 0px 1px 2px rgba(60, 64, 67, 0.3), 0px 1px 3px 1px rgba(60, 64, 67, 0.15);\n",
              "      fill: #174EA6;\n",
              "    }\n",
              "\n",
              "    .colab-df-buttons div {\n",
              "      margin-bottom: 4px;\n",
              "    }\n",
              "\n",
              "    [theme=dark] .colab-df-convert {\n",
              "      background-color: #3B4455;\n",
              "      fill: #D2E3FC;\n",
              "    }\n",
              "\n",
              "    [theme=dark] .colab-df-convert:hover {\n",
              "      background-color: #434B5C;\n",
              "      box-shadow: 0px 1px 3px 1px rgba(0, 0, 0, 0.15);\n",
              "      filter: drop-shadow(0px 1px 2px rgba(0, 0, 0, 0.3));\n",
              "      fill: #FFFFFF;\n",
              "    }\n",
              "  </style>\n",
              "\n",
              "    <script>\n",
              "      const buttonEl =\n",
              "        document.querySelector('#df-9363db31-9c50-4bf1-8158-8676df8fa7e0 button.colab-df-convert');\n",
              "      buttonEl.style.display =\n",
              "        google.colab.kernel.accessAllowed ? 'block' : 'none';\n",
              "\n",
              "      async function convertToInteractive(key) {\n",
              "        const element = document.querySelector('#df-9363db31-9c50-4bf1-8158-8676df8fa7e0');\n",
              "        const dataTable =\n",
              "          await google.colab.kernel.invokeFunction('convertToInteractive',\n",
              "                                                    [key], {});\n",
              "        if (!dataTable) return;\n",
              "\n",
              "        const docLinkHtml = 'Like what you see? Visit the ' +\n",
              "          '<a target=\"_blank\" href=https://colab.research.google.com/notebooks/data_table.ipynb>data table notebook</a>'\n",
              "          + ' to learn more about interactive tables.';\n",
              "        element.innerHTML = '';\n",
              "        dataTable['output_type'] = 'display_data';\n",
              "        await google.colab.output.renderOutput(dataTable, element);\n",
              "        const docLink = document.createElement('div');\n",
              "        docLink.innerHTML = docLinkHtml;\n",
              "        element.appendChild(docLink);\n",
              "      }\n",
              "    </script>\n",
              "  </div>\n",
              "\n",
              "\n",
              "<div id=\"df-a537f96c-c192-4df2-b152-477bc44fda58\">\n",
              "  <button class=\"colab-df-quickchart\" onclick=\"quickchart('df-a537f96c-c192-4df2-b152-477bc44fda58')\"\n",
              "            title=\"Suggest charts\"\n",
              "            style=\"display:none;\">\n",
              "\n",
              "<svg xmlns=\"http://www.w3.org/2000/svg\" height=\"24px\"viewBox=\"0 0 24 24\"\n",
              "     width=\"24px\">\n",
              "    <g>\n",
              "        <path d=\"M19 3H5c-1.1 0-2 .9-2 2v14c0 1.1.9 2 2 2h14c1.1 0 2-.9 2-2V5c0-1.1-.9-2-2-2zM9 17H7v-7h2v7zm4 0h-2V7h2v10zm4 0h-2v-4h2v4z\"/>\n",
              "    </g>\n",
              "</svg>\n",
              "  </button>\n",
              "\n",
              "<style>\n",
              "  .colab-df-quickchart {\n",
              "      --bg-color: #E8F0FE;\n",
              "      --fill-color: #1967D2;\n",
              "      --hover-bg-color: #E2EBFA;\n",
              "      --hover-fill-color: #174EA6;\n",
              "      --disabled-fill-color: #AAA;\n",
              "      --disabled-bg-color: #DDD;\n",
              "  }\n",
              "\n",
              "  [theme=dark] .colab-df-quickchart {\n",
              "      --bg-color: #3B4455;\n",
              "      --fill-color: #D2E3FC;\n",
              "      --hover-bg-color: #434B5C;\n",
              "      --hover-fill-color: #FFFFFF;\n",
              "      --disabled-bg-color: #3B4455;\n",
              "      --disabled-fill-color: #666;\n",
              "  }\n",
              "\n",
              "  .colab-df-quickchart {\n",
              "    background-color: var(--bg-color);\n",
              "    border: none;\n",
              "    border-radius: 50%;\n",
              "    cursor: pointer;\n",
              "    display: none;\n",
              "    fill: var(--fill-color);\n",
              "    height: 32px;\n",
              "    padding: 0;\n",
              "    width: 32px;\n",
              "  }\n",
              "\n",
              "  .colab-df-quickchart:hover {\n",
              "    background-color: var(--hover-bg-color);\n",
              "    box-shadow: 0 1px 2px rgba(60, 64, 67, 0.3), 0 1px 3px 1px rgba(60, 64, 67, 0.15);\n",
              "    fill: var(--button-hover-fill-color);\n",
              "  }\n",
              "\n",
              "  .colab-df-quickchart-complete:disabled,\n",
              "  .colab-df-quickchart-complete:disabled:hover {\n",
              "    background-color: var(--disabled-bg-color);\n",
              "    fill: var(--disabled-fill-color);\n",
              "    box-shadow: none;\n",
              "  }\n",
              "\n",
              "  .colab-df-spinner {\n",
              "    border: 2px solid var(--fill-color);\n",
              "    border-color: transparent;\n",
              "    border-bottom-color: var(--fill-color);\n",
              "    animation:\n",
              "      spin 1s steps(1) infinite;\n",
              "  }\n",
              "\n",
              "  @keyframes spin {\n",
              "    0% {\n",
              "      border-color: transparent;\n",
              "      border-bottom-color: var(--fill-color);\n",
              "      border-left-color: var(--fill-color);\n",
              "    }\n",
              "    20% {\n",
              "      border-color: transparent;\n",
              "      border-left-color: var(--fill-color);\n",
              "      border-top-color: var(--fill-color);\n",
              "    }\n",
              "    30% {\n",
              "      border-color: transparent;\n",
              "      border-left-color: var(--fill-color);\n",
              "      border-top-color: var(--fill-color);\n",
              "      border-right-color: var(--fill-color);\n",
              "    }\n",
              "    40% {\n",
              "      border-color: transparent;\n",
              "      border-right-color: var(--fill-color);\n",
              "      border-top-color: var(--fill-color);\n",
              "    }\n",
              "    60% {\n",
              "      border-color: transparent;\n",
              "      border-right-color: var(--fill-color);\n",
              "    }\n",
              "    80% {\n",
              "      border-color: transparent;\n",
              "      border-right-color: var(--fill-color);\n",
              "      border-bottom-color: var(--fill-color);\n",
              "    }\n",
              "    90% {\n",
              "      border-color: transparent;\n",
              "      border-bottom-color: var(--fill-color);\n",
              "    }\n",
              "  }\n",
              "</style>\n",
              "\n",
              "  <script>\n",
              "    async function quickchart(key) {\n",
              "      const quickchartButtonEl =\n",
              "        document.querySelector('#' + key + ' button');\n",
              "      quickchartButtonEl.disabled = true;  // To prevent multiple clicks.\n",
              "      quickchartButtonEl.classList.add('colab-df-spinner');\n",
              "      try {\n",
              "        const charts = await google.colab.kernel.invokeFunction(\n",
              "            'suggestCharts', [key], {});\n",
              "      } catch (error) {\n",
              "        console.error('Error during call to suggestCharts:', error);\n",
              "      }\n",
              "      quickchartButtonEl.classList.remove('colab-df-spinner');\n",
              "      quickchartButtonEl.classList.add('colab-df-quickchart-complete');\n",
              "    }\n",
              "    (() => {\n",
              "      let quickchartButtonEl =\n",
              "        document.querySelector('#df-a537f96c-c192-4df2-b152-477bc44fda58 button');\n",
              "      quickchartButtonEl.style.display =\n",
              "        google.colab.kernel.accessAllowed ? 'block' : 'none';\n",
              "    })();\n",
              "  </script>\n",
              "</div>\n",
              "    </div>\n",
              "  </div>\n"
            ]
          },
          "metadata": {},
          "execution_count": 83
        }
      ]
    },
    {
      "cell_type": "code",
      "source": [
        "# # #drop all rows with null values\n",
        "ramen.dropna(inplace=True)\n",
        "print(ramen)"
      ],
      "metadata": {
        "colab": {
          "base_uri": "https://localhost:8080/"
        },
        "id": "aPa1RLj0eWcw",
        "outputId": "1ef2a4c5-79cb-482d-bb18-e33f19bdc0fa"
      },
      "execution_count": null,
      "outputs": [
        {
          "output_type": "stream",
          "name": "stdout",
          "text": [
            "             Company                                            Product Style  \\\n",
            "0          New Touch                          T's Restaurant Tantanmen    Cup   \n",
            "1           Just Way  Noodles Spicy Hot Sesame Spicy Hot Sesame Guan...  Pack   \n",
            "2             Nissin                      Cup Noodles Chicken Vegetable   Cup   \n",
            "3            Wei Lih                      GGE Ramen Snack Tomato Flavor  Pack   \n",
            "4     Ching's Secret                                    Singapore Curry  Pack   \n",
            "...              ...                                                ...   ...   \n",
            "2572           Vifon  Hu Tiu Nam Vang [\"Phnom Penh\" style] Asian Sty...  Bowl   \n",
            "2573         Wai Wai                     Oriental Style Instant Noodles  Pack   \n",
            "2574         Wai Wai                                     Tom Yum Shrimp  Pack   \n",
            "2575         Wai Wai                               Tom Yum Chili Flavor  Pack   \n",
            "2576        Westbrae                                         Miso Ramen  Pack   \n",
            "\n",
            "      Rating  \n",
            "0       3.75  \n",
            "1       1.00  \n",
            "2       2.25  \n",
            "3       2.75  \n",
            "4       3.75  \n",
            "...      ...  \n",
            "2572    3.50  \n",
            "2573    1.00  \n",
            "2574    2.00  \n",
            "2575    2.00  \n",
            "2576    0.50  \n",
            "\n",
            "[2569 rows x 4 columns]\n"
          ]
        }
      ]
    },
    {
      "cell_type": "markdown",
      "source": [
        "**10. Check again to make sure that all of your changes were applied.**"
      ],
      "metadata": {
        "id": "JOBg7TgfSV2V"
      }
    },
    {
      "cell_type": "code",
      "source": [
        "ramen.info(verbose=True, memory_usage='deep',show_counts=True)"
      ],
      "metadata": {
        "colab": {
          "base_uri": "https://localhost:8080/"
        },
        "id": "hwW7zWCwfT8h",
        "outputId": "2c3f9b83-6a96-4847-f235-3c86c8b57b7d"
      },
      "execution_count": null,
      "outputs": [
        {
          "output_type": "stream",
          "name": "stdout",
          "text": [
            "<class 'pandas.core.frame.DataFrame'>\n",
            "Int64Index: 2569 entries, 0 to 2576\n",
            "Data columns (total 4 columns):\n",
            " #   Column   Non-Null Count  Dtype   \n",
            "---  ------   --------------  -----   \n",
            " 0   Company  2569 non-null   object  \n",
            " 1   Product  2569 non-null   object  \n",
            " 2   Style    2569 non-null   category\n",
            " 3   Rating   2569 non-null   float64 \n",
            "dtypes: category(1), float64(1), object(2)\n",
            "memory usage: 424.9 KB\n"
          ]
        }
      ]
    }
  ]
}