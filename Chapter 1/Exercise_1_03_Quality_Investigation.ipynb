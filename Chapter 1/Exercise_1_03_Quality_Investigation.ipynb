{
  "nbformat": 4,
  "nbformat_minor": 0,
  "metadata": {
    "colab": {
      "provenance": [],
      "collapsed_sections": []
    },
    "kernelspec": {
      "name": "python3",
      "display_name": "Python 3"
    },
    "language_info": {
      "name": "python"
    }
  },
  "cells": [
    {
      "cell_type": "markdown",
      "source": [
        "## **Exercise 1.03 - Guided Exercise**\n",
        "### Performing Quality Investigation"
      ],
      "metadata": {
        "id": "PHolGx4JugWl"
      }
    },
    {
      "cell_type": "markdown",
      "source": [
        "### Importing Libraries"
      ],
      "metadata": {
        "id": "YEyE3OwE0-WJ"
      }
    },
    {
      "cell_type": "code",
      "execution_count": null,
      "metadata": {
        "id": "ZVROL5U5Qn0T"
      },
      "outputs": [],
      "source": [
        "import pandas as pd\n",
        "import numpy as np\n",
        "import scipy.stats as stats\n",
        "import matplotlib.pyplot as plt\n",
        "import seaborn as sns\n",
        "from sklearn.model_selection import train_test_split\n",
        "from sklearn.linear_model import LogisticRegression\n",
        "from sklearn.metrics import classification_report\n",
        "\n",
        "%matplotlib inline"
      ]
    },
    {
      "cell_type": "code",
      "source": [
        "import ssl\n",
        "ssl._create_default_https_context = ssl._create_unverified_context\n",
        "\n",
        "import certifi\n",
        "from sklearn.datasets import fetch_openml"
      ],
      "metadata": {
        "id": "Dq4a_UAeSVT2"
      },
      "execution_count": null,
      "outputs": []
    },
    {
      "cell_type": "markdown",
      "source": [
        "### Loading the Data"
      ],
      "metadata": {
        "id": "MpA_4JjD1B4I"
      }
    },
    {
      "cell_type": "code",
      "source": [
        "\n",
        "df = pd.read_csv('https://raw.githubusercontent.com/fenago/datawrangling/main/miami-housing.csv')\n",
        "df.sample(5)\n",
        "df.head()"
      ],
      "metadata": {
        "id": "P00Y6YbaSkxX"
      },
      "execution_count": null,
      "outputs": []
    },
    {
      "cell_type": "markdown",
      "source": [
        "## **Structure Investigation**\n"
      ],
      "metadata": {
        "id": "GMkDeWtgoRM3"
      }
    },
    {
      "cell_type": "code",
      "source": [
        "# Show size of the dataset\n",
        "df.shape\n"
      ],
      "metadata": {
        "id": "Qlj3lv8poT8D"
      },
      "execution_count": null,
      "outputs": []
    },
    {
      "cell_type": "code",
      "source": [
        "# Count how many times each data type is present in the dataset\n",
        "pd.value_counts(df.dtypes)"
      ],
      "metadata": {
        "id": "qXAirAjsolY4"
      },
      "execution_count": null,
      "outputs": []
    },
    {
      "cell_type": "markdown",
      "source": [
        "##  Structure of numerical features\n"
      ],
      "metadata": {
        "id": "cZwoBLrJusia"
      }
    },
    {
      "cell_type": "code",
      "source": [
        "# For each numerical feature compute number of unique entries\n",
        "unique_values = df.select_dtypes(include='number').nunique().sort_values()\n",
        "plt.figure(figsize=(15, 4))\n",
        "sns.set_style('whitegrid')\n"
      ],
      "metadata": {
        "id": "VeBD5qY3umbl"
      },
      "execution_count": null,
      "outputs": []
    },
    {
      "cell_type": "code",
      "source": [
        "\n",
        "g = sns.barplot(x=unique_values.index, y=unique_values, palette='inferno')\n",
        "g.set_yscale(\"log\")\n",
        "g.set_xticklabels(g.get_xticklabels(), rotation=45, horizontalalignment='right')\n",
        "g.set_title('Unique values per frequency')\n",
        "plt.show()"
      ],
      "metadata": {
        "id": "CT7pbHBVuyfV"
      },
      "execution_count": null,
      "outputs": []
    },
    {
      "cell_type": "markdown",
      "source": [
        "##  Conclusion of structure investigation\n",
        "Looking into the kind of features"
      ],
      "metadata": {
        "id": "RUDrUb-3wgLO"
      }
    },
    {
      "cell_type": "code",
      "source": [
        "df.info() \n",
        "df.describe()"
      ],
      "metadata": {
        "id": "xPk4-A_3wT2y"
      },
      "execution_count": null,
      "outputs": []
    },
    {
      "cell_type": "markdown",
      "source": [
        "### Quality Investigation\n",
        " Duplicates, missing values and unwanted entries or  errors will be seen:"
      ],
      "metadata": {
        "id": "smJl2VAwwrik"
      }
    },
    {
      "cell_type": "code",
      "source": [
        "# Check number of duplicates while ignoring the index feature\n",
        "n_duplicates = df.drop(labels=['PARCELNO'], axis=1).duplicated().sum()\n",
        "\n",
        "print(f\"You seem to have {n_duplicates} duplicates in your database.\")"
      ],
      "metadata": {
        "id": "0GPan1b8wrB9"
      },
      "execution_count": null,
      "outputs": []
    },
    {
      "cell_type": "markdown",
      "source": [
        "### Removing Duplicates"
      ],
      "metadata": {
        "id": "UpxQdTVx1R9A"
      }
    },
    {
      "cell_type": "code",
      "source": [
        "#  Extract column names of all features, except 'PARCELNO' - unique feature\n",
        "columns_to_consider = df.drop(labels=['PARCELNO'], axis=1).columns\n",
        "\n",
        "# Drop duplicates based on 'columns_to_consider'\n",
        "df.drop_duplicates(subset=columns_to_consider, inplace=True)\n",
        "df.shape"
      ],
      "metadata": {
        "id": "BwUEHz_7w-lQ"
      },
      "execution_count": null,
      "outputs": []
    },
    {
      "cell_type": "markdown",
      "source": [
        "### Missing Values"
      ],
      "metadata": {
        "id": "rqcLRqrs5rS6"
      }
    },
    {
      "cell_type": "code",
      "source": [
        "plt.figure(figsize=(15, 4))\n",
        "sns.set_style('whitegrid')\n",
        "\n",
        "g = sns.barplot(x=unique_values.index, y=unique_values, palette='inferno')\n",
        "g.set_yscale(\"log\")\n",
        "g.set_xticklabels(g.get_xticklabels(), rotation=45, horizontalalignment='right')\n",
        "g.set_title('Unique values per frequency')\n",
        "plt.show()"
      ],
      "metadata": {
        "id": "drjvzFk2Z6pS"
      },
      "execution_count": null,
      "outputs": []
    },
    {
      "cell_type": "markdown",
      "source": [
        "### Per Sample"
      ],
      "metadata": {
        "id": "zU8feesG56vR"
      }
    },
    {
      "cell_type": "code",
      "source": [
        "\n",
        "plt.figure(figsize=(15, 8))\n",
        "sns.set_style('whitegrid')\n",
        "\n",
        "g = sns.heatmap(df.isnull(), cbar=False, cmap='viridis')\n",
        "g.set_xlabel('Column Number')\n",
        "g.set_ylabel('Sample Number')"
      ],
      "metadata": {
        "id": "7gDl1P-8aAYP"
      },
      "execution_count": null,
      "outputs": []
    },
    {
      "cell_type": "code",
      "source": [
        "!pip install missingno\n",
        "import missingno as msno\n",
        "msno.matrix(df, labels=True, sort='descending', color=(0.27, 0.52, 1.0));\n"
      ],
      "metadata": {
        "id": "tEWENz27aN12"
      },
      "execution_count": null,
      "outputs": []
    },
    {
      "cell_type": "code",
      "source": [
        "\n",
        "df = df_X.dropna(thresh=df.shape[1] * 0.80, axis=0).reset_index(drop=True)\n",
        "df.shape"
      ],
      "metadata": {
        "id": "pDZvrZU4aTPv"
      },
      "execution_count": null,
      "outputs": []
    },
    {
      "cell_type": "markdown",
      "source": [
        "## Per Feature\n",
        "As a next step, let's now look at the number of missing values per feature. \n",
        "\n"
      ],
      "metadata": {
        "id": "C5vL2iqsag4c"
      }
    },
    {
      "cell_type": "code",
      "source": [
        "df.isna().mean().sort_values().plot(\n",
        "    kind=\"bar\", figsize=(15, 4),\n",
        "    title=\"Percentage of missing values per feature\",\n",
        "    ylabel=\"Ratio of missing values per feature\");\n"
      ],
      "metadata": {
        "id": "x3bU5nRJaexw"
      },
      "execution_count": null,
      "outputs": []
    },
    {
      "cell_type": "code",
      "source": [
        "\n",
        "df = df.dropna(thresh=df_X.shape[0] * 0.85, axis=1)\n",
        "df.shape"
      ],
      "metadata": {
        "id": "vaoGGrwXaufH"
      },
      "execution_count": null,
      "outputs": []
    },
    {
      "cell_type": "markdown",
      "source": [
        "## Numerical Features\n",
        "Using Pandas Plot feature to plot global view of the dataset\n"
      ],
      "metadata": {
        "id": "zuUp8rpWntVF"
      }
    },
    {
      "cell_type": "code",
      "source": [
        "df.plot(lw=0, marker=\".\", subplots=True, layout=(-1, 4),\n",
        "          figsize=(15, 30), markersize=1);"
      ],
      "metadata": {
        "id": "HQDJcZ65ntCX"
      },
      "execution_count": null,
      "outputs": []
    },
    {
      "cell_type": "markdown",
      "source": [
        "## Non-numerical features"
      ],
      "metadata": {
        "id": "6niWTg4Mn8XY"
      }
    },
    {
      "cell_type": "code",
      "source": [
        "# Display non-numerical features\n",
        "df.select_dtypes(exclude=\"number\").head()\n"
      ],
      "metadata": {
        "id": "HYi6sZaOn7cp"
      },
      "execution_count": null,
      "outputs": []
    }
  ]
}