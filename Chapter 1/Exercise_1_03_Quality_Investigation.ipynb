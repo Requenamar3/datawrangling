{
  "nbformat": 4,
  "nbformat_minor": 0,
  "metadata": {
    "colab": {
      "provenance": []
    },
    "kernelspec": {
      "name": "python3",
      "display_name": "Python 3"
    },
    "language_info": {
      "name": "python"
    }
  },
  "cells": [
    {
      "cell_type": "markdown",
      "source": [
        "## **Exercise 1.03 - Guided Exercise**\n",
        "### Performing Quality Investigation"
      ],
      "metadata": {
        "id": "PHolGx4JugWl"
      }
    },
    {
      "cell_type": "markdown",
      "source": [
        "### Importing Libraries"
      ],
      "metadata": {
        "id": "YEyE3OwE0-WJ"
      }
    },
    {
      "cell_type": "code",
      "execution_count": null,
      "metadata": {
        "id": "ZVROL5U5Qn0T"
      },
      "outputs": [],
      "source": [
        "import pandas as pd\n",
        "import numpy as np\n",
        "import scipy.stats as stats\n",
        "import matplotlib.pyplot as plt\n",
        "import seaborn as sns\n",
        "from sklearn.model_selection import train_test_split\n",
        "from sklearn.linear_model import LogisticRegression\n",
        "from sklearn.metrics import classification_report\n",
        "\n",
        "%matplotlib inline"
      ]
    },
    {
      "cell_type": "code",
      "source": [
        "import ssl\n",
        "ssl._create_default_https_context = ssl._create_unverified_context\n",
        "\n",
        "import certifi\n",
        "from sklearn.datasets import fetch_openml"
      ],
      "metadata": {
        "id": "Dq4a_UAeSVT2"
      },
      "execution_count": null,
      "outputs": []
    },
    {
      "cell_type": "markdown",
      "source": [
        "### Loading the Data"
      ],
      "metadata": {
        "id": "MpA_4JjD1B4I"
      }
    },
    {
      "cell_type": "code",
      "source": [
        "\n",
        "df_X = pd.read_csv('https://raw.githubusercontent.com/fenago/datawrangling/main/miami-housing.csv')\n",
        "df_X.sample(5)\n",
        "df_X.head()"
      ],
      "metadata": {
        "id": "P00Y6YbaSkxX"
      },
      "execution_count": null,
      "outputs": []
    },
    {
      "cell_type": "markdown",
      "source": [
        "## **Structure Investigation**\n"
      ],
      "metadata": {
        "id": "GMkDeWtgoRM3"
      }
    },
    {
      "cell_type": "code",
      "source": [
        "# Show size of the dataset\n",
        "df_X.shape\n"
      ],
      "metadata": {
        "id": "Qlj3lv8poT8D"
      },
      "execution_count": null,
      "outputs": []
    },
    {
      "cell_type": "code",
      "source": [
        "# Count how many times each data type is present in the dataset\n",
        "pd.value_counts(df_X.dtypes)"
      ],
      "metadata": {
        "id": "qXAirAjsolY4"
      },
      "execution_count": null,
      "outputs": []
    },
    {
      "cell_type": "markdown",
      "source": [
        "##  Structure of numerical features\n"
      ],
      "metadata": {
        "id": "cZwoBLrJusia"
      }
    },
    {
      "cell_type": "code",
      "source": [
        "# For each numerical feature compute number of unique entries\n",
        "unique_values = df_X.select_dtypes(include='number').nunique().sort_values()\n",
        "plt.figure(figsize=(15, 4))\n",
        "sns.set_style('whitegrid')\n"
      ],
      "metadata": {
        "id": "VeBD5qY3umbl"
      },
      "execution_count": null,
      "outputs": []
    },
    {
      "cell_type": "code",
      "source": [
        "\n",
        "g = sns.barplot(x=unique_values.index, y=unique_values, palette='inferno')\n",
        "g.set_yscale(\"log\")\n",
        "g.set_xticklabels(g.get_xticklabels(), rotation=45, horizontalalignment='right')\n",
        "g.set_title('Unique values per frequency')\n",
        "plt.show()"
      ],
      "metadata": {
        "id": "CT7pbHBVuyfV"
      },
      "execution_count": null,
      "outputs": []
    },
    {
      "cell_type": "markdown",
      "source": [
        "##  Conclusion of structure investigation\n",
        "Looking into the kind of features"
      ],
      "metadata": {
        "id": "RUDrUb-3wgLO"
      }
    },
    {
      "cell_type": "code",
      "source": [
        "df_X.info() \n",
        "df_X.describe()"
      ],
      "metadata": {
        "id": "xPk4-A_3wT2y"
      },
      "execution_count": null,
      "outputs": []
    },
    {
      "cell_type": "markdown",
      "source": [
        "### Quality Investigation\n",
        " Duplicates, missing values and unwanted entries or  errors will be seen:"
      ],
      "metadata": {
        "id": "smJl2VAwwrik"
      }
    },
    {
      "cell_type": "code",
      "source": [
        "# Check number of duplicates while ignoring the index feature\n",
        "n_duplicates = df_X.drop(labels=['PARCELNO'], axis=1).duplicated().sum()\n",
        "\n",
        "print(f\"You seem to have {n_duplicates} duplicates in your database.\")"
      ],
      "metadata": {
        "id": "0GPan1b8wrB9"
      },
      "execution_count": null,
      "outputs": []
    },
    {
      "cell_type": "markdown",
      "source": [
        "### Removing Duplicates"
      ],
      "metadata": {
        "id": "UpxQdTVx1R9A"
      }
    },
    {
      "cell_type": "code",
      "source": [
        "#  Extract column names of all features, except 'PARCELNO' - unique feature\n",
        "columns_to_consider = df_X.drop(labels=['PARCELNO'], axis=1).columns\n",
        "\n",
        "# Drop duplicates based on 'columns_to_consider'\n",
        "df_X.drop_duplicates(subset=columns_to_consider, inplace=True)\n",
        "df_X.shape"
      ],
      "metadata": {
        "id": "BwUEHz_7w-lQ"
      },
      "execution_count": null,
      "outputs": []
    },
    {
      "cell_type": "markdown",
      "source": [
        "### Missing Values"
      ],
      "metadata": {
        "id": "rqcLRqrs5rS6"
      }
    },
    {
      "cell_type": "code",
      "source": [
        "plt.figure(figsize=(15, 4))\n",
        "sns.set_style('whitegrid')\n",
        "\n",
        "g = sns.barplot(x=unique_values.index, y=unique_values, palette='inferno')\n",
        "g.set_yscale(\"log\")\n",
        "g.set_xticklabels(g.get_xticklabels(), rotation=45, horizontalalignment='right')\n",
        "g.set_title('Unique values per frequency')\n",
        "plt.show()"
      ],
      "metadata": {
        "id": "drjvzFk2Z6pS"
      },
      "execution_count": null,
      "outputs": []
    },
    {
      "cell_type": "markdown",
      "source": [
        "### Per Sample"
      ],
      "metadata": {
        "id": "zU8feesG56vR"
      }
    },
    {
      "cell_type": "code",
      "source": [
        "\n",
        "plt.figure(figsize=(15, 8))\n",
        "sns.set_style('whitegrid')\n",
        "\n",
        "g = sns.heatmap(df_X.isnull(), cbar=False, cmap='viridis')\n",
        "# g = sns.heatmap(df_X.loc[df_X.isnull().sum(1).sort_values(ascending=1).index].isnull(), cbar=False, cmap='viridis')\n",
        "g.set_xlabel('Column Number')\n",
        "g.set_ylabel('Sample Number')"
      ],
      "metadata": {
        "id": "7gDl1P-8aAYP"
      },
      "execution_count": null,
      "outputs": []
    },
    {
      "cell_type": "code",
      "source": [
        "!pip install missingno\n",
        "import missingno as msno\n",
        "msno.matrix(df_X, labels=True, sort='descending', color=(0.27, 0.52, 1.0));\n",
        "# g = msno.bar(df_X, labels=True, color=\"dodgerblue\", sort=\"ascending\", figsize=(10,5), fontsize=12)\n",
        "# g.set_xticklabels(g.get_xticklabels(),rotation=90);"
      ],
      "metadata": {
        "id": "tEWENz27aN12"
      },
      "execution_count": null,
      "outputs": []
    },
    {
      "cell_type": "code",
      "source": [
        "\n",
        "df_X = df_X.dropna(thresh=df_X.shape[1] * 0.80, axis=0).reset_index(drop=True)\n",
        "df_X.shape"
      ],
      "metadata": {
        "id": "pDZvrZU4aTPv"
      },
      "execution_count": null,
      "outputs": []
    },
    {
      "cell_type": "markdown",
      "source": [
        "## Per Feature\n",
        "As a next step, let's now look at the number of missing values per feature. \n",
        "\n"
      ],
      "metadata": {
        "id": "C5vL2iqsag4c"
      }
    },
    {
      "cell_type": "code",
      "source": [
        "df_X.isna().mean().sort_values().plot(\n",
        "    kind=\"bar\", figsize=(15, 4),\n",
        "    title=\"Percentage of missing values per feature\",\n",
        "    ylabel=\"Ratio of missing values per feature\");\n"
      ],
      "metadata": {
        "id": "x3bU5nRJaexw"
      },
      "execution_count": null,
      "outputs": []
    },
    {
      "cell_type": "code",
      "source": [
        "\n",
        "df_X = df_X.dropna(thresh=df_X.shape[0] * 0.85, axis=1)\n",
        "df_X.shape"
      ],
      "metadata": {
        "id": "vaoGGrwXaufH"
      },
      "execution_count": null,
      "outputs": []
    },
    {
      "cell_type": "markdown",
      "source": [
        "## Numerical Features\n",
        "Using Pandas Plot feature to plot global view of the dataset\n"
      ],
      "metadata": {
        "id": "zuUp8rpWntVF"
      }
    },
    {
      "cell_type": "code",
      "source": [
        "df_X.plot(lw=0, marker=\".\", subplots=True, layout=(-1, 4),\n",
        "          figsize=(15, 30), markersize=1);"
      ],
      "metadata": {
        "id": "HQDJcZ65ntCX"
      },
      "execution_count": null,
      "outputs": []
    },
    {
      "cell_type": "markdown",
      "source": [
        "## Non-numerical features"
      ],
      "metadata": {
        "id": "6niWTg4Mn8XY"
      }
    },
    {
      "cell_type": "code",
      "source": [
        "# Display non-numerical features\n",
        "df_X.select_dtypes(exclude=\"number\").head()\n",
        "# Extract descriptive properties of non-numerical features\n",
        "# df_X.describe(exclude=\"number\").head()"
      ],
      "metadata": {
        "colab": {
          "base_uri": "https://localhost:8080/",
          "height": 189
        },
        "id": "HYi6sZaOn7cp",
        "outputId": "f48a2b58-72f0-4f66-9925-cedb40a3d9dd"
      },
      "execution_count": null,
      "outputs": [
        {
          "output_type": "execute_result",
          "data": {
            "text/plain": [
              "Empty DataFrame\n",
              "Columns: []\n",
              "Index: [0, 1, 2, 3, 4]"
            ],
            "text/html": [
              "\n",
              "  <div id=\"df-4563c19f-5e8e-476f-95fa-2937dbe8b6e9\">\n",
              "    <div class=\"colab-df-container\">\n",
              "      <div>\n",
              "<style scoped>\n",
              "    .dataframe tbody tr th:only-of-type {\n",
              "        vertical-align: middle;\n",
              "    }\n",
              "\n",
              "    .dataframe tbody tr th {\n",
              "        vertical-align: top;\n",
              "    }\n",
              "\n",
              "    .dataframe thead th {\n",
              "        text-align: right;\n",
              "    }\n",
              "</style>\n",
              "<table border=\"1\" class=\"dataframe\">\n",
              "  <thead>\n",
              "    <tr style=\"text-align: right;\">\n",
              "      <th></th>\n",
              "    </tr>\n",
              "  </thead>\n",
              "  <tbody>\n",
              "    <tr>\n",
              "      <th>0</th>\n",
              "    </tr>\n",
              "    <tr>\n",
              "      <th>1</th>\n",
              "    </tr>\n",
              "    <tr>\n",
              "      <th>2</th>\n",
              "    </tr>\n",
              "    <tr>\n",
              "      <th>3</th>\n",
              "    </tr>\n",
              "    <tr>\n",
              "      <th>4</th>\n",
              "    </tr>\n",
              "  </tbody>\n",
              "</table>\n",
              "</div>\n",
              "      <button class=\"colab-df-convert\" onclick=\"convertToInteractive('df-4563c19f-5e8e-476f-95fa-2937dbe8b6e9')\"\n",
              "              title=\"Convert this dataframe to an interactive table.\"\n",
              "              style=\"display:none;\">\n",
              "        \n",
              "  <svg xmlns=\"http://www.w3.org/2000/svg\" height=\"24px\"viewBox=\"0 0 24 24\"\n",
              "       width=\"24px\">\n",
              "    <path d=\"M0 0h24v24H0V0z\" fill=\"none\"/>\n",
              "    <path d=\"M18.56 5.44l.94 2.06.94-2.06 2.06-.94-2.06-.94-.94-2.06-.94 2.06-2.06.94zm-11 1L8.5 8.5l.94-2.06 2.06-.94-2.06-.94L8.5 2.5l-.94 2.06-2.06.94zm10 10l.94 2.06.94-2.06 2.06-.94-2.06-.94-.94-2.06-.94 2.06-2.06.94z\"/><path d=\"M17.41 7.96l-1.37-1.37c-.4-.4-.92-.59-1.43-.59-.52 0-1.04.2-1.43.59L10.3 9.45l-7.72 7.72c-.78.78-.78 2.05 0 2.83L4 21.41c.39.39.9.59 1.41.59.51 0 1.02-.2 1.41-.59l7.78-7.78 2.81-2.81c.8-.78.8-2.07 0-2.86zM5.41 20L4 18.59l7.72-7.72 1.47 1.35L5.41 20z\"/>\n",
              "  </svg>\n",
              "      </button>\n",
              "      \n",
              "  <style>\n",
              "    .colab-df-container {\n",
              "      display:flex;\n",
              "      flex-wrap:wrap;\n",
              "      gap: 12px;\n",
              "    }\n",
              "\n",
              "    .colab-df-convert {\n",
              "      background-color: #E8F0FE;\n",
              "      border: none;\n",
              "      border-radius: 50%;\n",
              "      cursor: pointer;\n",
              "      display: none;\n",
              "      fill: #1967D2;\n",
              "      height: 32px;\n",
              "      padding: 0 0 0 0;\n",
              "      width: 32px;\n",
              "    }\n",
              "\n",
              "    .colab-df-convert:hover {\n",
              "      background-color: #E2EBFA;\n",
              "      box-shadow: 0px 1px 2px rgba(60, 64, 67, 0.3), 0px 1px 3px 1px rgba(60, 64, 67, 0.15);\n",
              "      fill: #174EA6;\n",
              "    }\n",
              "\n",
              "    [theme=dark] .colab-df-convert {\n",
              "      background-color: #3B4455;\n",
              "      fill: #D2E3FC;\n",
              "    }\n",
              "\n",
              "    [theme=dark] .colab-df-convert:hover {\n",
              "      background-color: #434B5C;\n",
              "      box-shadow: 0px 1px 3px 1px rgba(0, 0, 0, 0.15);\n",
              "      filter: drop-shadow(0px 1px 2px rgba(0, 0, 0, 0.3));\n",
              "      fill: #FFFFFF;\n",
              "    }\n",
              "  </style>\n",
              "\n",
              "      <script>\n",
              "        const buttonEl =\n",
              "          document.querySelector('#df-4563c19f-5e8e-476f-95fa-2937dbe8b6e9 button.colab-df-convert');\n",
              "        buttonEl.style.display =\n",
              "          google.colab.kernel.accessAllowed ? 'block' : 'none';\n",
              "\n",
              "        async function convertToInteractive(key) {\n",
              "          const element = document.querySelector('#df-4563c19f-5e8e-476f-95fa-2937dbe8b6e9');\n",
              "          const dataTable =\n",
              "            await google.colab.kernel.invokeFunction('convertToInteractive',\n",
              "                                                     [key], {});\n",
              "          if (!dataTable) return;\n",
              "\n",
              "          const docLinkHtml = 'Like what you see? Visit the ' +\n",
              "            '<a target=\"_blank\" href=https://colab.research.google.com/notebooks/data_table.ipynb>data table notebook</a>'\n",
              "            + ' to learn more about interactive tables.';\n",
              "          element.innerHTML = '';\n",
              "          dataTable['output_type'] = 'display_data';\n",
              "          await google.colab.output.renderOutput(dataTable, element);\n",
              "          const docLink = document.createElement('div');\n",
              "          docLink.innerHTML = docLinkHtml;\n",
              "          element.appendChild(docLink);\n",
              "        }\n",
              "      </script>\n",
              "    </div>\n",
              "  </div>\n",
              "  "
            ]
          },
          "metadata": {},
          "execution_count": 19
        }
      ]
    }
  ]
}