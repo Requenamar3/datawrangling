{
  "nbformat": 4,
  "nbformat_minor": 0,
  "metadata": {
    "colab": {
      "provenance": [],
      "include_colab_link": true
    },
    "kernelspec": {
      "name": "python3",
      "display_name": "Python 3"
    },
    "language_info": {
      "name": "python"
    }
  },
  "cells": [
    {
      "cell_type": "markdown",
      "metadata": {
        "id": "view-in-github",
        "colab_type": "text"
      },
      "source": [
        "<a href=\"https://colab.research.google.com/github/Requenamar3/datawrangling/blob/main/EDA.ipynb\" target=\"_parent\"><img src=\"https://colab.research.google.com/assets/colab-badge.svg\" alt=\"Open In Colab\"/></a>"
      ]
    },
    {
      "cell_type": "markdown",
      "source": [
        "# Structural Analysis"
      ],
      "metadata": {
        "id": "Ochq9NoCAS_p"
      }
    },
    {
      "cell_type": "code",
      "execution_count": null,
      "metadata": {
        "id": "KQeqcwmM1HFw"
      },
      "outputs": [],
      "source": [
        "# https://github.com/fenago/datasets/raw/main/default_credit.xls"
      ]
    },
    {
      "cell_type": "code",
      "source": [
        "# Import basic libraries\n",
        "import numpy as np\n",
        "import pandas as pd\n",
        "# import visualization libraries\n",
        "import seaborn as sns\n",
        "import matplotlib.pyplot as plt"
      ],
      "metadata": {
        "id": "RgMTCyva5qQI"
      },
      "execution_count": null,
      "outputs": []
    },
    {
      "cell_type": "markdown",
      "source": [
        "This research employed a binary variable, default payment (Yes = 1, No = 0), as the response variable. This study reviewed the literature and used the following 23 variables as explanatory variables:\n",
        "X1: Amount of the given credit (NT dollar): it includes both the individual consumer credit and his/her family (supplementary) credit.\n",
        "X2: Gender (1 = male; 2 = female).\n",
        "X3: Education (1 = graduate school; 2 = university; 3 = high school; 4 = others).\n",
        "X4: Marital status (1 = married; 2 = single; 3 = others).\n",
        "X5: Age (year).\n",
        "X6 - X11: History of past payment. We tracked the past monthly payment records (from April to September, 2005) as follows: X6 = the repayment status in September, 2005; X7 = the repayment status in August, 2005; . . .;X11 = the repayment status in April, 2005. The measurement scale for the repayment status is: -1 = pay duly; 1 = payment delay for one month; 2 = payment delay for two months; . . .; 8 = payment delay for eight months; 9 = payment delay for nine months and above.\n",
        "X12-X17: Amount of bill statement (NT dollar). X12 = amount of bill statement in September, 2005; X13 = amount of bill statement in August, 2005; . . .; X17 = amount of bill statement in April, 2005.\n",
        "X18-X23: Amount of previous payment (NT dollar). X18 = amount paid in September, 2005; X19 = amount paid in August, 2005; . . .;X23 = amount paid in April, 2005."
      ],
      "metadata": {
        "id": "ZJI9ZfV98GnN"
      }
    },
    {
      "cell_type": "code",
      "source": [
        "df = pd.read_excel('https://github.com/fenago/datasets/raw/main/default_credit.xls')\n",
        "df.head(5)"
      ],
      "metadata": {
        "id": "6eJp7Rvr63gs"
      },
      "execution_count": null,
      "outputs": []
    },
    {
      "cell_type": "code",
      "source": [
        "# Getting Meta Data Information about the dataset\n",
        "df.info()"
      ],
      "metadata": {
        "id": "SpHFm2d16-QV"
      },
      "execution_count": null,
      "outputs": []
    },
    {
      "cell_type": "code",
      "source": [
        "df.describe().T"
      ],
      "metadata": {
        "id": "NHepaxqH9jkl"
      },
      "execution_count": null,
      "outputs": []
    },
    {
      "cell_type": "code",
      "source": [
        "# Checking for Null Values\n",
        "df.isnull().sum()"
      ],
      "metadata": {
        "id": "p8gc7pMt_58-"
      },
      "execution_count": null,
      "outputs": []
    },
    {
      "cell_type": "markdown",
      "source": [
        "# Light Quality Analysis/Investigation"
      ],
      "metadata": {
        "id": "SQoBAiZwAXfp"
      }
    },
    {
      "cell_type": "code",
      "source": [
        "print('SEX ' + str(sorted(df['SEX'].unique())))"
      ],
      "metadata": {
        "id": "IogGGW6wAW7J"
      },
      "execution_count": null,
      "outputs": []
    },
    {
      "cell_type": "code",
      "source": [
        "print('EDUCATION ' + str(sorted(df['EDUCATION'].unique())))  # treat 0, 5, and 6"
      ],
      "metadata": {
        "id": "e-6gQ8HTAtya"
      },
      "execution_count": null,
      "outputs": []
    },
    {
      "cell_type": "code",
      "source": [
        "print('MARRIAGE ' + str(sorted(df['MARRIAGE'].unique())))  # treat 0"
      ],
      "metadata": {
        "id": "EMzO_dLZBF6I"
      },
      "execution_count": null,
      "outputs": []
    },
    {
      "cell_type": "code",
      "source": [
        "print('PAY_0 ' + str(sorted(df['PAY_0'].unique()))) # treat -2 and 0"
      ],
      "metadata": {
        "id": "LdyX4b91BT-7"
      },
      "execution_count": null,
      "outputs": []
    },
    {
      "cell_type": "code",
      "source": [
        "print('default.payment.next.month ' + str(sorted(df['default payment next month'].unique())))"
      ],
      "metadata": {
        "id": "sUXj-ZlTBdMU"
      },
      "execution_count": null,
      "outputs": []
    },
    {
      "cell_type": "code",
      "source": [
        "fill = (df.EDUCATION == 0) | (df.EDUCATION == 5) | (df.EDUCATION == 6)\n",
        "df.loc[fill, 'EDUCATION'] = 4"
      ],
      "metadata": {
        "id": "puOKQGXxBrru"
      },
      "execution_count": null,
      "outputs": []
    },
    {
      "cell_type": "code",
      "source": [
        "print('EDUCATION ' + str(sorted(df['EDUCATION'].unique())))  # treat 0, 5, and 6"
      ],
      "metadata": {
        "id": "AttA-yvNB9Hm"
      },
      "execution_count": null,
      "outputs": []
    },
    {
      "cell_type": "code",
      "source": [
        "fill = (df.MARRIAGE == 0)\n",
        "df.loc[fill, 'MARRIAGE'] = 2"
      ],
      "metadata": {
        "id": "8QzblhwmCHUT"
      },
      "execution_count": null,
      "outputs": []
    },
    {
      "cell_type": "code",
      "source": [
        "df = df.rename(columns={'default payment next month': 'DEFAULT', 'PAY_0': 'PAY_1'})\n",
        "df.head()"
      ],
      "metadata": {
        "id": "-pwQWR_1CPNi"
      },
      "execution_count": null,
      "outputs": []
    },
    {
      "cell_type": "markdown",
      "source": [
        "# EDA:  Univaraite Analysis / Content Investigation"
      ],
      "metadata": {
        "id": "_hPV2DUbCiq9"
      }
    },
    {
      "cell_type": "code",
      "source": [
        "sns.countplot(x=\"DEFAULT\", data=df)"
      ],
      "metadata": {
        "id": "8pujZfWoChxc"
      },
      "execution_count": null,
      "outputs": []
    },
    {
      "cell_type": "code",
      "source": [
        "df['DEFAULT'].value_counts()"
      ],
      "metadata": {
        "id": "aazqbVLqCoix"
      },
      "execution_count": null,
      "outputs": []
    },
    {
      "cell_type": "code",
      "source": [
        "6636 / (23364 + 6636)"
      ],
      "metadata": {
        "id": "uu7GMxhxDLjJ"
      },
      "execution_count": null,
      "outputs": []
    },
    {
      "cell_type": "code",
      "source": [
        "sns.countplot(x=\"SEX\", data=df)"
      ],
      "metadata": {
        "id": "LcMtIwsXDRoL"
      },
      "execution_count": null,
      "outputs": []
    },
    {
      "cell_type": "code",
      "source": [
        "df['SEX'].value_counts()"
      ],
      "metadata": {
        "id": "fgTCvwbKDnQ8"
      },
      "execution_count": null,
      "outputs": []
    },
    {
      "cell_type": "code",
      "source": [
        "sns.countplot(x=\"EDUCATION\", data=df)"
      ],
      "metadata": {
        "id": "T1yn1T2tDwDv"
      },
      "execution_count": null,
      "outputs": []
    },
    {
      "cell_type": "code",
      "source": [
        "df['EDUCATION'].value_counts()"
      ],
      "metadata": {
        "id": "WVvJlhrFENUY"
      },
      "execution_count": null,
      "outputs": []
    },
    {
      "cell_type": "code",
      "source": [
        "sns.countplot(x=\"MARRIAGE\", data=df)"
      ],
      "metadata": {
        "id": "MtzEfv5kEf1G"
      },
      "execution_count": null,
      "outputs": []
    },
    {
      "cell_type": "code",
      "source": [
        "df['MARRIAGE'].value_counts()"
      ],
      "metadata": {
        "id": "wVEZgtR5EjGI"
      },
      "execution_count": null,
      "outputs": []
    },
    {
      "cell_type": "markdown",
      "source": [
        "# Bivariate Analysis"
      ],
      "metadata": {
        "id": "JJsuJpn_E2oy"
      }
    },
    {
      "cell_type": "code",
      "source": [
        "sns.set(rc={'figure.figsize':(15,10)})\n",
        "edu = sns.countplot(x='SEX', hue='DEFAULT', data=df)\n",
        "edu.set_xticklabels(['Male','Female'])\n",
        "plt.show()"
      ],
      "metadata": {
        "id": "3hfb6l48E0em"
      },
      "execution_count": null,
      "outputs": []
    },
    {
      "cell_type": "code",
      "source": [
        "pd.crosstab(df.SEX,df.DEFAULT,normalize='index',margins=True)"
      ],
      "metadata": {
        "id": "ITNjgSwjGo8P"
      },
      "execution_count": null,
      "outputs": []
    },
    {
      "cell_type": "code",
      "source": [
        "sns.set(rc={'figure.figsize':(15,10)})\n",
        "edu = sns.countplot(x='EDUCATION', hue='DEFAULT', data=df)\n",
        "edu.set_xticklabels(['Graduate School','University','High School','Other'])\n",
        "plt.show()"
      ],
      "metadata": {
        "id": "vePfihqWHJJN"
      },
      "execution_count": null,
      "outputs": []
    },
    {
      "cell_type": "code",
      "source": [
        "pd.crosstab(df.EDUCATION,df.DEFAULT,normalize='index')"
      ],
      "metadata": {
        "id": "KvlxLnqJHStJ"
      },
      "execution_count": null,
      "outputs": []
    },
    {
      "cell_type": "code",
      "source": [
        "sns.set(rc={'figure.figsize':(12,10)})\n",
        "marriage = sns.countplot(x=\"MARRIAGE\", hue='DEFAULT', data=df)\n",
        "marriage.set_xticklabels(['Married','Single','Other'])\n",
        "plt.show()"
      ],
      "metadata": {
        "id": "82xn0Wq1HvWZ"
      },
      "execution_count": null,
      "outputs": []
    },
    {
      "cell_type": "code",
      "source": [
        "pd.crosstab(df.MARRIAGE,df.DEFAULT,normalize='index',margins=True)"
      ],
      "metadata": {
        "id": "ZNkrC0awHymR"
      },
      "execution_count": null,
      "outputs": []
    },
    {
      "cell_type": "code",
      "source": [
        "pd.crosstab(df.PAY_1,df.DEFAULT,margins=True)"
      ],
      "metadata": {
        "id": "mDHGn2YUIAva"
      },
      "execution_count": null,
      "outputs": []
    },
    {
      "cell_type": "code",
      "source": [
        "pd.crosstab(df.AGE,df.DEFAULT)"
      ],
      "metadata": {
        "id": "NK5T3q_MJQ5I"
      },
      "execution_count": null,
      "outputs": []
    },
    {
      "cell_type": "code",
      "source": [
        "pd.crosstab(df.AGE,df.DEFAULT,normalize='index',margins=True)"
      ],
      "metadata": {
        "id": "PurB-yEPJpAs"
      },
      "execution_count": null,
      "outputs": []
    },
    {
      "cell_type": "code",
      "source": [],
      "metadata": {
        "id": "w-fpXhEjKP0i"
      },
      "execution_count": null,
      "outputs": []
    },
    {
      "cell_type": "markdown",
      "source": [
        "# Correlation"
      ],
      "metadata": {
        "id": "iqoC3yiEKRWQ"
      }
    },
    {
      "cell_type": "code",
      "source": [
        "sns.set(rc={'figure.figsize':(30,10)})\n",
        "sns.set_context(\"talk\", font_scale=0.7)"
      ],
      "metadata": {
        "id": "g_E5lBT3KWkO"
      },
      "execution_count": null,
      "outputs": []
    },
    {
      "cell_type": "code",
      "source": [
        "sns.heatmap(df.iloc[:,1:].corr(method='spearman'), cmap='rainbow_r', annot=True)"
      ],
      "metadata": {
        "id": "30z01YW_KcQl"
      },
      "execution_count": null,
      "outputs": []
    },
    {
      "cell_type": "code",
      "source": [
        "df.drop(\"DEFAULT\", axis=1).apply(lambda x: x.corr(df.DEFAULT,method='spearman'))\n"
      ],
      "metadata": {
        "id": "Pxal2ElILujk"
      },
      "execution_count": null,
      "outputs": []
    }
  ]
}